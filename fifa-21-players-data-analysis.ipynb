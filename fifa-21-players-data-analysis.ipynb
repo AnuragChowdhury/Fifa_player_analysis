{
 "cells": [
  {
   "cell_type": "markdown",
   "metadata": {
    "id": "dmxy10rUFtJr"
   },
   "source": [
    "# Fifa 21 Players Data Analysis in Python.\n",
    "\n",
    "We have a dataset which contains information about players in FIFA 21. So, it is actually a dataset of the esports category. We got the dataset from Kaagle. The link to the dataset is - (https://www.kaggle.com/aayushmishra1512/fifa-2021-complete-player-data).  We will try to analyze different aspects as much as we can from the dataset we have  and we will be using numpy, pandas,matplotlib and seaborn mainly for the analysis. I learned data analysis from the free course organised by jovian in collaboration with freecodecamp. The link to the course is - (http://zerotopandas.com).\n",
    "\n",
    "As a first step, let's upload our Jupyter notebook to [Jovian.ml](https://jovian.ml)."
   ]
  },
  {
   "cell_type": "code",
   "execution_count": 1,
   "metadata": {
    "executionInfo": {
     "elapsed": 1931,
     "status": "ok",
     "timestamp": 1601625595008,
     "user": {
      "displayName": "Hritwik",
      "photoUrl": "",
      "userId": "09304721696602939296"
     },
     "user_tz": -330
    },
    "id": "tgBos-3OFtJu"
   },
   "outputs": [],
   "source": [
    "project_name = \"fifa_21_players_data_analysis_in_python1\""
   ]
  },
  {
   "cell_type": "code",
   "execution_count": 2,
   "metadata": {
    "executionInfo": {
     "elapsed": 4475,
     "status": "ok",
     "timestamp": 1601625674468,
     "user": {
      "displayName": "Hritwik",
      "photoUrl": "",
      "userId": "09304721696602939296"
     },
     "user_tz": -330
    },
    "id": "1s8XgRXSFtKD"
   },
   "outputs": [],
   "source": [
    "!pip install jovian --upgrade -q"
   ]
  },
  {
   "cell_type": "code",
   "execution_count": 3,
   "metadata": {
    "executionInfo": {
     "elapsed": 1905,
     "status": "ok",
     "timestamp": 1601625685701,
     "user": {
      "displayName": "Hritwik",
      "photoUrl": "",
      "userId": "09304721696602939296"
     },
     "user_tz": -330
    },
    "id": "CTcnQVGUFtKR"
   },
   "outputs": [],
   "source": [
    "import jovian"
   ]
  },
  {
   "cell_type": "code",
   "execution_count": 4,
   "metadata": {
    "colab": {
     "base_uri": "https://localhost:8080/",
     "height": 127
    },
    "executionInfo": {
     "elapsed": 12878,
     "status": "ok",
     "timestamp": 1601625699497,
     "user": {
      "displayName": "Hritwik",
      "photoUrl": "",
      "userId": "09304721696602939296"
     },
     "user_tz": -330
    },
    "id": "ClotPpisFtKd",
    "outputId": "c426fc38-1604-4b3f-9293-9f7bdc766b2e"
   },
   "outputs": [
    {
     "data": {
      "application/javascript": [
       "window.require && require([\"base/js/namespace\"],function(Jupyter){Jupyter.notebook.save_checkpoint()})"
      ],
      "text/plain": [
       "<IPython.core.display.Javascript object>"
      ]
     },
     "metadata": {},
     "output_type": "display_data"
    },
    {
     "name": "stdout",
     "output_type": "stream",
     "text": [
      "[jovian] Attempting to save notebook..\n",
      "[jovian] Updating notebook \"sayakpm3/fifa-21-players-data-analysis-in-python1\" on https://jovian.ml/\n",
      "[jovian] Uploading notebook..\n",
      "[jovian] Capturing environment..\n",
      "[jovian] Committed successfully! https://jovian.ml/sayakpm3/fifa-21-players-data-analysis-in-python1\n"
     ]
    },
    {
     "data": {
      "text/plain": [
       "'https://jovian.ml/sayakpm3/fifa-21-players-data-analysis-in-python1'"
      ]
     },
     "execution_count": 4,
     "metadata": {},
     "output_type": "execute_result"
    }
   ],
   "source": [
    "jovian.commit(project='fifa_21_players_data_analysis_in_python1')"
   ]
  },
  {
   "cell_type": "markdown",
   "metadata": {
    "id": "428bboFlFtKu"
   },
   "source": [
    "## Data Preparation and Cleaning\n",
    "\n",
    "First we have to read the CSV file using Pandas. Sometimes datasets contain many unwanted values or ambiguous values, so we need to clean them up. \n",
    "After cleaning the data we will prepare the data as per our use."
   ]
  },
  {
   "cell_type": "code",
   "execution_count": 5,
   "metadata": {
    "executionInfo": {
     "elapsed": 1285,
     "status": "ok",
     "timestamp": 1601625715560,
     "user": {
      "displayName": "Hritwik",
      "photoUrl": "",
      "userId": "09304721696602939296"
     },
     "user_tz": -330
    },
    "id": "h-pO3fenFtKx"
   },
   "outputs": [],
   "source": [
    "import pandas as pd\n",
    "import numpy as np "
   ]
  },
  {
   "cell_type": "code",
   "execution_count": 6,
   "metadata": {
    "executionInfo": {
     "elapsed": 1185,
     "status": "ok",
     "timestamp": 1601625745469,
     "user": {
      "displayName": "Hritwik",
      "photoUrl": "",
      "userId": "09304721696602939296"
     },
     "user_tz": -330
    },
    "id": "EyjjhKyhFtLA"
   },
   "outputs": [],
   "source": [
    "dataraw_df =  pd.read_csv('FIFA 21.csv',delimiter = ';')"
   ]
  },
  {
   "cell_type": "code",
   "execution_count": 7,
   "metadata": {
    "colab": {
     "base_uri": "https://localhost:8080/",
     "height": 424
    },
    "executionInfo": {
     "elapsed": 1191,
     "status": "ok",
     "timestamp": 1601625751930,
     "user": {
      "displayName": "Hritwik",
      "photoUrl": "",
      "userId": "09304721696602939296"
     },
     "user_tz": -330
    },
    "id": "6WKnif-yFtLL",
    "outputId": "9f0e2b1b-e07d-4a54-cbe6-981e2a53445f"
   },
   "outputs": [
    {
     "data": {
      "text/html": [
       "<div>\n",
       "<style scoped>\n",
       "    .dataframe tbody tr th:only-of-type {\n",
       "        vertical-align: middle;\n",
       "    }\n",
       "\n",
       "    .dataframe tbody tr th {\n",
       "        vertical-align: top;\n",
       "    }\n",
       "\n",
       "    .dataframe thead th {\n",
       "        text-align: right;\n",
       "    }\n",
       "</style>\n",
       "<table border=\"1\" class=\"dataframe\">\n",
       "  <thead>\n",
       "    <tr style=\"text-align: right;\">\n",
       "      <th></th>\n",
       "      <th>player_id</th>\n",
       "      <th>name</th>\n",
       "      <th>nationality</th>\n",
       "      <th>position</th>\n",
       "      <th>overall</th>\n",
       "      <th>age</th>\n",
       "      <th>hits</th>\n",
       "      <th>potential</th>\n",
       "      <th>team</th>\n",
       "    </tr>\n",
       "  </thead>\n",
       "  <tbody>\n",
       "    <tr>\n",
       "      <th>0</th>\n",
       "      <td>158023</td>\n",
       "      <td>Lionel Messi</td>\n",
       "      <td>Argentina</td>\n",
       "      <td>ST|CF|RW</td>\n",
       "      <td>94</td>\n",
       "      <td>33</td>\n",
       "      <td>299</td>\n",
       "      <td>94</td>\n",
       "      <td>FC Barcelona</td>\n",
       "    </tr>\n",
       "    <tr>\n",
       "      <th>1</th>\n",
       "      <td>20801</td>\n",
       "      <td>Cristiano Ronaldo</td>\n",
       "      <td>Portugal</td>\n",
       "      <td>ST|LW</td>\n",
       "      <td>93</td>\n",
       "      <td>35</td>\n",
       "      <td>276</td>\n",
       "      <td>93</td>\n",
       "      <td>Juventus</td>\n",
       "    </tr>\n",
       "    <tr>\n",
       "      <th>2</th>\n",
       "      <td>190871</td>\n",
       "      <td>Neymar Jr</td>\n",
       "      <td>Brazil</td>\n",
       "      <td>CAM|LW</td>\n",
       "      <td>92</td>\n",
       "      <td>28</td>\n",
       "      <td>186</td>\n",
       "      <td>92</td>\n",
       "      <td>Paris Saint-Germain</td>\n",
       "    </tr>\n",
       "    <tr>\n",
       "      <th>3</th>\n",
       "      <td>203376</td>\n",
       "      <td>Virgil van Dijk</td>\n",
       "      <td>Netherlands</td>\n",
       "      <td>CB</td>\n",
       "      <td>91</td>\n",
       "      <td>29</td>\n",
       "      <td>127</td>\n",
       "      <td>92</td>\n",
       "      <td>Liverpool</td>\n",
       "    </tr>\n",
       "    <tr>\n",
       "      <th>4</th>\n",
       "      <td>200389</td>\n",
       "      <td>Jan Oblak</td>\n",
       "      <td>Slovenia</td>\n",
       "      <td>GK</td>\n",
       "      <td>91</td>\n",
       "      <td>27</td>\n",
       "      <td>47</td>\n",
       "      <td>93</td>\n",
       "      <td>Atlético Madrid</td>\n",
       "    </tr>\n",
       "    <tr>\n",
       "      <th>...</th>\n",
       "      <td>...</td>\n",
       "      <td>...</td>\n",
       "      <td>...</td>\n",
       "      <td>...</td>\n",
       "      <td>...</td>\n",
       "      <td>...</td>\n",
       "      <td>...</td>\n",
       "      <td>...</td>\n",
       "      <td>...</td>\n",
       "    </tr>\n",
       "    <tr>\n",
       "      <th>17976</th>\n",
       "      <td>256093</td>\n",
       "      <td>Jaime Ortíz</td>\n",
       "      <td>Ecuador</td>\n",
       "      <td>ST</td>\n",
       "      <td>56</td>\n",
       "      <td>21</td>\n",
       "      <td>0</td>\n",
       "      <td>64</td>\n",
       "      <td>Sociedad Deportiva Aucas</td>\n",
       "    </tr>\n",
       "    <tr>\n",
       "      <th>17977</th>\n",
       "      <td>256088</td>\n",
       "      <td>Michael Carcelén</td>\n",
       "      <td>Ecuador</td>\n",
       "      <td>CM</td>\n",
       "      <td>56</td>\n",
       "      <td>23</td>\n",
       "      <td>0</td>\n",
       "      <td>64</td>\n",
       "      <td>Club Deportivo El Nacional</td>\n",
       "    </tr>\n",
       "    <tr>\n",
       "      <th>17978</th>\n",
       "      <td>256074</td>\n",
       "      <td>Davide Luzi</td>\n",
       "      <td>Venezuela</td>\n",
       "      <td>ST</td>\n",
       "      <td>56</td>\n",
       "      <td>18</td>\n",
       "      <td>1</td>\n",
       "      <td>68</td>\n",
       "      <td>Zamora Fútbol Club</td>\n",
       "    </tr>\n",
       "    <tr>\n",
       "      <th>17979</th>\n",
       "      <td>256073</td>\n",
       "      <td>Sergio Sulbarán</td>\n",
       "      <td>Venezuela</td>\n",
       "      <td>RW</td>\n",
       "      <td>56</td>\n",
       "      <td>22</td>\n",
       "      <td>0</td>\n",
       "      <td>62</td>\n",
       "      <td>Zamora Fútbol Club</td>\n",
       "    </tr>\n",
       "    <tr>\n",
       "      <th>17980</th>\n",
       "      <td>256072</td>\n",
       "      <td>Luis Peña</td>\n",
       "      <td>Venezuela</td>\n",
       "      <td>CM</td>\n",
       "      <td>56</td>\n",
       "      <td>18</td>\n",
       "      <td>0</td>\n",
       "      <td>69</td>\n",
       "      <td>Zamora Fútbol Club</td>\n",
       "    </tr>\n",
       "  </tbody>\n",
       "</table>\n",
       "<p>17981 rows × 9 columns</p>\n",
       "</div>"
      ],
      "text/plain": [
       "       player_id               name  nationality  position  overall  age  \\\n",
       "0         158023       Lionel Messi    Argentina  ST|CF|RW       94   33   \n",
       "1          20801  Cristiano Ronaldo     Portugal     ST|LW       93   35   \n",
       "2         190871          Neymar Jr       Brazil    CAM|LW       92   28   \n",
       "3         203376    Virgil van Dijk  Netherlands        CB       91   29   \n",
       "4         200389          Jan Oblak     Slovenia        GK       91   27   \n",
       "...          ...                ...          ...       ...      ...  ...   \n",
       "17976     256093        Jaime Ortíz      Ecuador        ST       56   21   \n",
       "17977     256088   Michael Carcelén      Ecuador        CM       56   23   \n",
       "17978     256074        Davide Luzi    Venezuela        ST       56   18   \n",
       "17979     256073    Sergio Sulbarán    Venezuela        RW       56   22   \n",
       "17980     256072          Luis Peña    Venezuela        CM       56   18   \n",
       "\n",
       "       hits  potential                         team  \n",
       "0       299         94                FC Barcelona   \n",
       "1       276         93                    Juventus   \n",
       "2       186         92         Paris Saint-Germain   \n",
       "3       127         92                   Liverpool   \n",
       "4        47         93             Atlético Madrid   \n",
       "...     ...        ...                          ...  \n",
       "17976     0         64    Sociedad Deportiva Aucas   \n",
       "17977     0         64  Club Deportivo El Nacional   \n",
       "17978     1         68          Zamora Fútbol Club   \n",
       "17979     0         62          Zamora Fútbol Club   \n",
       "17980     0         69          Zamora Fútbol Club   \n",
       "\n",
       "[17981 rows x 9 columns]"
      ]
     },
     "execution_count": 7,
     "metadata": {},
     "output_type": "execute_result"
    }
   ],
   "source": [
    "dataraw_df"
   ]
  },
  {
   "cell_type": "code",
   "execution_count": 8,
   "metadata": {
    "colab": {
     "base_uri": "https://localhost:8080/",
     "height": 35
    },
    "executionInfo": {
     "elapsed": 863,
     "status": "ok",
     "timestamp": 1601625753971,
     "user": {
      "displayName": "Hritwik",
      "photoUrl": "",
      "userId": "09304721696602939296"
     },
     "user_tz": -330
    },
    "id": "Ah177o5jFtLV",
    "outputId": "ddd13d6b-adfd-48b7-9630-e2969911b8b8"
   },
   "outputs": [
    {
     "data": {
      "text/plain": [
       "(17981, 9)"
      ]
     },
     "execution_count": 8,
     "metadata": {},
     "output_type": "execute_result"
    }
   ],
   "source": [
    "dataraw_df.shape"
   ]
  },
  {
   "cell_type": "code",
   "execution_count": 9,
   "metadata": {
    "colab": {
     "base_uri": "https://localhost:8080/",
     "height": 72
    },
    "executionInfo": {
     "elapsed": 1209,
     "status": "ok",
     "timestamp": 1601625773225,
     "user": {
      "displayName": "Hritwik",
      "photoUrl": "",
      "userId": "09304721696602939296"
     },
     "user_tz": -330
    },
    "id": "O1QaQAsfFtLg",
    "outputId": "c6deae9c-87bf-48e3-99c5-3a3b32fbbc87"
   },
   "outputs": [
    {
     "data": {
      "text/plain": [
       "Index(['player_id', 'name', 'nationality', 'position', 'overall', 'age',\n",
       "       'hits', 'potential', 'team'],\n",
       "      dtype='object')"
      ]
     },
     "execution_count": 9,
     "metadata": {},
     "output_type": "execute_result"
    }
   ],
   "source": [
    "dataraw_df.columns"
   ]
  },
  {
   "cell_type": "code",
   "execution_count": 10,
   "metadata": {
    "colab": {
     "base_uri": "https://localhost:8080/",
     "height": 308
    },
    "executionInfo": {
     "elapsed": 929,
     "status": "ok",
     "timestamp": 1601625773771,
     "user": {
      "displayName": "Hritwik",
      "photoUrl": "",
      "userId": "09304721696602939296"
     },
     "user_tz": -330
    },
    "id": "tdheBz1BFtLr",
    "outputId": "580af598-717c-443c-c719-b102a2458271"
   },
   "outputs": [
    {
     "name": "stdout",
     "output_type": "stream",
     "text": [
      "<class 'pandas.core.frame.DataFrame'>\n",
      "RangeIndex: 17981 entries, 0 to 17980\n",
      "Data columns (total 9 columns):\n",
      " #   Column       Non-Null Count  Dtype \n",
      "---  ------       --------------  ----- \n",
      " 0   player_id    17981 non-null  int64 \n",
      " 1   name         17981 non-null  object\n",
      " 2   nationality  17981 non-null  object\n",
      " 3   position     17981 non-null  object\n",
      " 4   overall      17981 non-null  int64 \n",
      " 5   age          17981 non-null  int64 \n",
      " 6   hits         17981 non-null  int64 \n",
      " 7   potential    17981 non-null  int64 \n",
      " 8   team         17981 non-null  object\n",
      "dtypes: int64(5), object(4)\n",
      "memory usage: 1.2+ MB\n"
     ]
    }
   ],
   "source": [
    "dataraw_df.info()"
   ]
  },
  {
   "cell_type": "code",
   "execution_count": 11,
   "metadata": {
    "colab": {
     "base_uri": "https://localhost:8080/",
     "height": 300
    },
    "executionInfo": {
     "elapsed": 905,
     "status": "ok",
     "timestamp": 1601625774469,
     "user": {
      "displayName": "Hritwik",
      "photoUrl": "",
      "userId": "09304721696602939296"
     },
     "user_tz": -330
    },
    "id": "6tCfML73FtL2",
    "outputId": "05c24a29-51c5-484f-8f80-632be4a02234"
   },
   "outputs": [
    {
     "data": {
      "text/html": [
       "<div>\n",
       "<style scoped>\n",
       "    .dataframe tbody tr th:only-of-type {\n",
       "        vertical-align: middle;\n",
       "    }\n",
       "\n",
       "    .dataframe tbody tr th {\n",
       "        vertical-align: top;\n",
       "    }\n",
       "\n",
       "    .dataframe thead th {\n",
       "        text-align: right;\n",
       "    }\n",
       "</style>\n",
       "<table border=\"1\" class=\"dataframe\">\n",
       "  <thead>\n",
       "    <tr style=\"text-align: right;\">\n",
       "      <th></th>\n",
       "      <th>player_id</th>\n",
       "      <th>overall</th>\n",
       "      <th>age</th>\n",
       "      <th>hits</th>\n",
       "      <th>potential</th>\n",
       "    </tr>\n",
       "  </thead>\n",
       "  <tbody>\n",
       "    <tr>\n",
       "      <th>count</th>\n",
       "      <td>17981.000000</td>\n",
       "      <td>17981.000000</td>\n",
       "      <td>17981.000000</td>\n",
       "      <td>17981.000000</td>\n",
       "      <td>17981.000000</td>\n",
       "    </tr>\n",
       "    <tr>\n",
       "      <th>mean</th>\n",
       "      <td>220912.660531</td>\n",
       "      <td>67.274345</td>\n",
       "      <td>26.311440</td>\n",
       "      <td>2.689450</td>\n",
       "      <td>71.738057</td>\n",
       "    </tr>\n",
       "    <tr>\n",
       "      <th>std</th>\n",
       "      <td>27738.072671</td>\n",
       "      <td>5.924392</td>\n",
       "      <td>4.556077</td>\n",
       "      <td>10.846286</td>\n",
       "      <td>5.961968</td>\n",
       "    </tr>\n",
       "    <tr>\n",
       "      <th>min</th>\n",
       "      <td>41.000000</td>\n",
       "      <td>56.000000</td>\n",
       "      <td>17.000000</td>\n",
       "      <td>0.000000</td>\n",
       "      <td>57.000000</td>\n",
       "    </tr>\n",
       "    <tr>\n",
       "      <th>25%</th>\n",
       "      <td>204881.000000</td>\n",
       "      <td>63.000000</td>\n",
       "      <td>23.000000</td>\n",
       "      <td>0.000000</td>\n",
       "      <td>67.000000</td>\n",
       "    </tr>\n",
       "    <tr>\n",
       "      <th>50%</th>\n",
       "      <td>226753.000000</td>\n",
       "      <td>67.000000</td>\n",
       "      <td>26.000000</td>\n",
       "      <td>0.000000</td>\n",
       "      <td>71.000000</td>\n",
       "    </tr>\n",
       "    <tr>\n",
       "      <th>75%</th>\n",
       "      <td>241587.000000</td>\n",
       "      <td>71.000000</td>\n",
       "      <td>30.000000</td>\n",
       "      <td>2.000000</td>\n",
       "      <td>76.000000</td>\n",
       "    </tr>\n",
       "    <tr>\n",
       "      <th>max</th>\n",
       "      <td>256469.000000</td>\n",
       "      <td>94.000000</td>\n",
       "      <td>43.000000</td>\n",
       "      <td>371.000000</td>\n",
       "      <td>95.000000</td>\n",
       "    </tr>\n",
       "  </tbody>\n",
       "</table>\n",
       "</div>"
      ],
      "text/plain": [
       "           player_id       overall           age          hits     potential\n",
       "count   17981.000000  17981.000000  17981.000000  17981.000000  17981.000000\n",
       "mean   220912.660531     67.274345     26.311440      2.689450     71.738057\n",
       "std     27738.072671      5.924392      4.556077     10.846286      5.961968\n",
       "min        41.000000     56.000000     17.000000      0.000000     57.000000\n",
       "25%    204881.000000     63.000000     23.000000      0.000000     67.000000\n",
       "50%    226753.000000     67.000000     26.000000      0.000000     71.000000\n",
       "75%    241587.000000     71.000000     30.000000      2.000000     76.000000\n",
       "max    256469.000000     94.000000     43.000000    371.000000     95.000000"
      ]
     },
     "execution_count": 11,
     "metadata": {},
     "output_type": "execute_result"
    }
   ],
   "source": [
    "dataraw_df.describe()"
   ]
  },
  {
   "cell_type": "markdown",
   "metadata": {
    "id": "AUdlLXzAFtMC"
   },
   "source": [
    "The information that we got till now :\n",
    "The datasets of Fifa 21 contains 9 columns and 17981 rows. Which means that, there are 17981 players in Fifa 21.\n",
    "The columns contain information like : 'Player id', 'Player Name', 'Player Nationality', 'Position where the player plays', 'Overall rating of the Player', 'Player Age','Player hits', 'Player potential', 'Club for which he plays'\n",
    "The minimum and maximum overall rating of a player in Fifa 21 is 56 and 94 respectively.\n",
    "The minimum and maximum age of a player in Fifa 21 is 17 and 43 respectively."
   ]
  },
  {
   "cell_type": "code",
   "execution_count": 12,
   "metadata": {
    "colab": {
     "base_uri": "https://localhost:8080/",
     "height": 816
    },
    "executionInfo": {
     "elapsed": 2665,
     "status": "ok",
     "timestamp": 1601625836792,
     "user": {
      "displayName": "Hritwik",
      "photoUrl": "",
      "userId": "09304721696602939296"
     },
     "user_tz": -330
    },
    "id": "fPZTIwDLFtMF",
    "outputId": "3d466337-8684-4ba4-fae4-68572a726dbc"
   },
   "outputs": [
    {
     "data": {
      "text/plain": [
       "array(['ST|CF|RW', 'ST|LW', 'CAM|LW', 'CB', 'GK', 'CM|CAM', 'ST', 'ST|RW',\n",
       "       'LW', 'ST|RW|LW', 'CDM|CM', 'ST|CF|LW', 'CM', 'RW|LW', 'CF', 'CDM',\n",
       "       'ST|LM', 'ST|CF', 'CM|CAM|RW', 'RB|CDM|CM', 'CAM|CF', 'LM|CF',\n",
       "       'RM|CM|CAM', 'RM|LM|CAM', 'LB', 'CAM|RW', 'CB|CDM', 'RM|RW',\n",
       "       'LM|CF|LW', 'RM|LM|CM', 'ST|CAM|CF', 'RB', 'CDM|CM|CAM',\n",
       "       'ST|RM|CAM', 'LB|LM|CM', 'RM|LM|RW', 'CM|CAM|CF', 'RM|CM',\n",
       "       'CM|CAM|LW', 'RM|CAM|RW', 'LB|CB', 'RM|CAM', 'RM|LM|LW',\n",
       "       'LM|CM|CAM', 'CAM|CF|LW', 'LB|LM', 'LM|RW|LW', 'RB|LB|CB', 'RM|LM',\n",
       "       'ST|CAM', 'LWB|LM|LW', 'LM', 'RM', 'RM|CF|RW', 'RM|LM|CF',\n",
       "       'RB|RM|RW', 'LB|CB|CDM', 'CAM|RW|LW', 'LM|LW', 'CDM|LM|CM',\n",
       "       'RB|LB|RM', 'RWB|RB|RW', 'CB|CDM|CM', 'RB|CB', 'LB|LW', 'ST|RM|RW',\n",
       "       'ST|RM', 'LM|CAM', 'RM|CF', 'RB|CM', 'RWB|RM|RW', 'RB|RM',\n",
       "       'RM|RW|LW', 'LM|CAM|LW', 'LM|CM', 'ST|RM|LM', 'RWB|RB|LB|RW',\n",
       "       'LB|LWB|LW', 'RW', 'CAM', 'RB|LB|CM', 'ST|LM|CF', 'ST|CM|CAM',\n",
       "       'CF|RW|LW', 'CF|LW', 'ST|LM|LW', 'CM|LW', 'RWB|RW', 'RB|RM|CM',\n",
       "       'ST|CAM|LW', 'LWB|LW', 'RWB|RB|RM|RW', 'RB|LB|LM', 'LB|LWB|LM|LW',\n",
       "       'RB|LB', 'RM|CAM|CF', 'CDM|RM|CM', 'RB|RW', 'CF|RW', 'RM|CAM|LW',\n",
       "       'CM|CF', 'LB|CDM', 'CB|CM', 'LB|CB|LM', 'CDM|CAM', 'RWB|RB|CB|RW',\n",
       "       'LM|CM|LW', 'LB|RM|LM', 'CAM|CF|RW', 'RB|CB|RM', 'LB|CDM|CM',\n",
       "       'RB|RM|LM', 'RB|CDM', 'RWB|CDM|RW', 'LB|LM|CAM', 'ST|CAM|RW',\n",
       "       'LWB|RW|LW', 'ST|LM|CAM', 'RB|CB|CDM', 'CM|CF|LW', 'RWB|RM|LM|RW',\n",
       "       'RM|LW', 'LWB|LM|CM|LW', 'LB|LM|LW', 'CM|RW|LW', 'RM|CM|RW',\n",
       "       'RWB|RM|CM|RW', 'LB|CB|LWB|LW', 'ST|LM|RW', 'LB|CM', 'ST|RM|LW',\n",
       "       'RWB|RB|LWB|RW|LW', 'CDM|CM|LW', 'LWB|RM|LW', 'RB|CB|CM',\n",
       "       'RWB|RM|CAM|RW', 'CB|CF', 'RB|RM|CAM', 'LWB|CM|LW', 'RB|RW|LW',\n",
       "       'LB|RW', 'LB|CM|LW', 'RB|RM|LW', 'RB|CDM|RM', 'ST|CM|LW',\n",
       "       'LM|CAM|CF', 'CB|LWB|LW', 'ST|CM', 'RB|CAM', 'ST|RM|CF',\n",
       "       'LB|LWB|RM|LW', 'CM|RW', 'LWB|RM|RW|LW', 'CDM|RM', 'LWB|RM|LM|LW',\n",
       "       'RWB|CB|CM|RW', 'RB|LB|CDM', 'CB|CM|CAM', 'LM|CAM|RW', 'ST|LM|CM',\n",
       "       'CDM|LM', 'RWB|RW|LW', 'RWB|CB|RW', 'ST|CM|RW', 'CDM|RM|LM',\n",
       "       'ST|CB|CAM', 'RB|LWB|LM|LW', 'RM|CM|CF', 'CDM|CAM|CF', 'ST|CM|CF',\n",
       "       'RM|CM|LW', 'LB|LWB|CDM|LW', 'LB|LWB|CM|LW', 'ST|RB|RM',\n",
       "       'RB|LB|LWB|LW', 'ST|LB|LM', 'ST|RB|CM', 'RWB|RB|LM|RW',\n",
       "       'ST|RWB|RM|RW', 'CDM|LM|CAM', 'RWB|CDM|CM|RW', 'RWB|CM|RW',\n",
       "       'RWB|LWB|RM|RW|LW', 'LB|CDM|LM', 'RWB|RB|CDM|RW', 'LB|RM',\n",
       "       'ST|RM|CM', 'RB|CB|LM', 'ST|LWB|LW', 'CB|LM', 'ST|CDM|CM',\n",
       "       'LB|CM|CAM', 'ST|CB', 'LM|RW', 'RB|LB|RW', 'ST|RB|RW',\n",
       "       'RWB|CB|RM|RW', 'CB|LWB|LM|LW', 'CDM|CM|RW', 'RB|LM|CM',\n",
       "       'RB|CDM|CAM', 'RWB|RB|CM|RW', 'LWB|CM|CAM|LW', 'RWB|LWB|RW|LW',\n",
       "       'ST|RB', 'LM|CM|RW', 'RWB|CM|CAM|RW', 'CB|RW', 'ST|RB|LM',\n",
       "       'ST|RB|CB', 'ST|LWB|LM|LW', 'LB|CAM', 'RB|LM', 'GK|RB', 'LB|RM|CM',\n",
       "       'RB|CM|RW', 'RWB|LB|LWB|RW|LW', 'RB|RM|CF', 'RWB|LWB|CM|RW|LW',\n",
       "       'RWB|LB|RM|RW', 'LM|CM|CF', 'RB|CDM|RW', 'CDM|LM|LW', 'CB|RM',\n",
       "       'ST|RWB|RW', 'RWB|LB|RW', 'ST|CDM', 'RB|LWB|LW',\n",
       "       'RWB|LWB|LM|RW|LW', 'CDM|RM|CAM', 'RWB|CB|LWB|RW|LW', 'CB|RM|LM'],\n",
       "      dtype=object)"
      ]
     },
     "execution_count": 12,
     "metadata": {},
     "output_type": "execute_result"
    }
   ],
   "source": [
    "dataraw_df.position.unique()"
   ]
  },
  {
   "cell_type": "code",
   "execution_count": 13,
   "metadata": {
    "colab": {
     "base_uri": "https://localhost:8080/",
     "height": 35
    },
    "executionInfo": {
     "elapsed": 1219,
     "status": "ok",
     "timestamp": 1601625840300,
     "user": {
      "displayName": "Hritwik",
      "photoUrl": "",
      "userId": "09304721696602939296"
     },
     "user_tz": -330
    },
    "id": "5bP-eKKPFtMO",
    "outputId": "b350dd71-c8a5-4f17-90a5-9cd8c3cb1787"
   },
   "outputs": [
    {
     "data": {
      "text/plain": [
       "232"
      ]
     },
     "execution_count": 13,
     "metadata": {},
     "output_type": "execute_result"
    }
   ],
   "source": [
    "dataraw_df.position.nunique() # Counting the number of unique positions in Fifa 21"
   ]
  },
  {
   "cell_type": "markdown",
   "metadata": {
    "id": "oWoaQnpPFtMX"
   },
   "source": [
    "### Preparing the data according to our need.\n",
    "Here, we can observe that there are 232 different combinations of positions that the players plays in. The position data is actually very diversified. For our convenience we will categorize the positions broadly as 'forwards', 'midfielders', 'defenders' and goalkeepers. In 'forward' category we will keep the positions - 'ST', 'CF', 'LW', 'RW', 'LF', 'RF', and 'combinations of the above mentioned positions'. Same thing we will do for 'midfielders', 'defenders' and 'goalkeepers'. We will create different data sets for the forwards, midfielders, defenders and goalkeepers.\n",
    "This is actually the preparation of the data that we need to do to analyse the choosen dataset."
   ]
  },
  {
   "cell_type": "code",
   "execution_count": 14,
   "metadata": {
    "executionInfo": {
     "elapsed": 2054,
     "status": "ok",
     "timestamp": 1601625948481,
     "user": {
      "displayName": "Hritwik",
      "photoUrl": "",
      "userId": "09304721696602939296"
     },
     "user_tz": -330
    },
    "id": "P_p5x7AiFtMa"
   },
   "outputs": [],
   "source": [
    "#Creating the dataframe that consists 'forwards'. \n",
    "forwards_df = dataraw_df[(dataraw_df.position == 'ST|CF|RW') | \n",
    "                         (dataraw_df.position == 'ST|LW') | \n",
    "                         (dataraw_df.position == 'ST|CF|LW') | \n",
    "                         (dataraw_df.position == 'ST|CF') |\n",
    "                         (dataraw_df.position == 'ST|RW') |\n",
    "                         (dataraw_df.position == 'LW') |\n",
    "                         (dataraw_df.position == 'RW') |\n",
    "                         (dataraw_df.position == 'ST|RW|LW') |\n",
    "                         (dataraw_df.position == 'ST|CF|LW') |\n",
    "                         (dataraw_df.position == 'ST') |\n",
    "                         (dataraw_df.position == 'CF') |\n",
    "                         (dataraw_df.position == 'LF') |\n",
    "                         (dataraw_df.position == 'RF') |\n",
    "                         (dataraw_df.position == 'ST|CF') |\n",
    "                         (dataraw_df.position == 'RW|LW') |\n",
    "                         (dataraw_df.position == 'CF|RW|LW') |\n",
    "                         (dataraw_df.position == 'CF|LW') |\n",
    "                         (dataraw_df.position == 'CAM|LW')\n",
    "                        ]\n",
    "                         "
   ]
  },
  {
   "cell_type": "code",
   "execution_count": 15,
   "metadata": {
    "executionInfo": {
     "elapsed": 1248,
     "status": "ok",
     "timestamp": 1601625952510,
     "user": {
      "displayName": "Hritwik",
      "photoUrl": "",
      "userId": "09304721696602939296"
     },
     "user_tz": -330
    },
    "id": "rJpxMGVCFtMi"
   },
   "outputs": [],
   "source": [
    "#Creating the dataframe that consists 'midfielders'. \n",
    "midfielders_df = dataraw_df[(dataraw_df.position == 'LM') | \n",
    "                         (dataraw_df.position == 'RM') | \n",
    "                         (dataraw_df.position == 'CM') | \n",
    "                         (dataraw_df.position == 'CDM') |\n",
    "                         (dataraw_df.position == 'DM') |\n",
    "                         (dataraw_df.position == 'AM') |\n",
    "                         (dataraw_df.position == 'CAM') |\n",
    "                         (dataraw_df.position == 'CM|CAM') |\n",
    "                         (dataraw_df.position == 'CDM|CM') |\n",
    "                         (dataraw_df.position == 'RM|CM|CAM') |\n",
    "                         (dataraw_df.position == 'RM|LM|CAM') |\n",
    "                         (dataraw_df.position == 'CDM|CM|CAM') |\n",
    "                         (dataraw_df.position == 'RM|CM') |\n",
    "                         (dataraw_df.position == 'RM|CAM') |\n",
    "                         (dataraw_df.position == 'LM|CM|CAM') |\n",
    "                         (dataraw_df.position == 'RM|LM') |\n",
    "                         (dataraw_df.position == 'CDM|LM|CM') |\n",
    "                         (dataraw_df.position == 'CDM|LM') |\n",
    "                         (dataraw_df.position == 'CDM|LM|CAM') |\n",
    "                         (dataraw_df.position == 'CDM|RM') |\n",
    "                         (dataraw_df.position == 'CDM|RM|CAM')\n",
    "                           ]\n",
    "                 "
   ]
  },
  {
   "cell_type": "code",
   "execution_count": 16,
   "metadata": {
    "executionInfo": {
     "elapsed": 1458,
     "status": "ok",
     "timestamp": 1601625957333,
     "user": {
      "displayName": "Hritwik",
      "photoUrl": "",
      "userId": "09304721696602939296"
     },
     "user_tz": -330
    },
    "id": "7CNCP0mgFtMr"
   },
   "outputs": [],
   "source": [
    "#Creating the dataframe that consists 'defenders'. \n",
    "defenders_df = dataraw_df[(dataraw_df.position == 'CB') | \n",
    "                         (dataraw_df.position == 'LB') | \n",
    "                         (dataraw_df.position == 'RB') | \n",
    "                         (dataraw_df.position == 'LB|CB') |\n",
    "                         (dataraw_df.position == 'RB|LB|CB') |\n",
    "                         (dataraw_df.position == 'RB|CB') \n",
    "                         ]\n",
    "                          "
   ]
  },
  {
   "cell_type": "code",
   "execution_count": 17,
   "metadata": {
    "executionInfo": {
     "elapsed": 1427,
     "status": "ok",
     "timestamp": 1601625959452,
     "user": {
      "displayName": "Hritwik",
      "photoUrl": "",
      "userId": "09304721696602939296"
     },
     "user_tz": -330
    },
    "id": "EBpw_DNcFtMz"
   },
   "outputs": [],
   "source": [
    "#Creating the dataframe that consists 'goalkeepers'. \n",
    "gk_df = dataraw_df[(dataraw_df.position == 'GK') ]"
   ]
  },
  {
   "cell_type": "code",
   "execution_count": 18,
   "metadata": {
    "executionInfo": {
     "elapsed": 1226,
     "status": "ok",
     "timestamp": 1601625963429,
     "user": {
      "displayName": "Hritwik",
      "photoUrl": "",
      "userId": "09304721696602939296"
     },
     "user_tz": -330
    },
    "id": "AabbwGOjFtM8"
   },
   "outputs": [],
   "source": [
    "import jovian"
   ]
  },
  {
   "cell_type": "code",
   "execution_count": 19,
   "metadata": {
    "colab": {
     "base_uri": "https://localhost:8080/",
     "height": 90
    },
    "executionInfo": {
     "elapsed": 3463,
     "status": "ok",
     "timestamp": 1601625984230,
     "user": {
      "displayName": "Hritwik",
      "photoUrl": "",
      "userId": "09304721696602939296"
     },
     "user_tz": -330
    },
    "id": "B-5ncAXgFtND",
    "outputId": "e82e636e-57d8-4914-90df-a355c016a9e4"
   },
   "outputs": [
    {
     "data": {
      "application/javascript": [
       "window.require && require([\"base/js/namespace\"],function(Jupyter){Jupyter.notebook.save_checkpoint()})"
      ],
      "text/plain": [
       "<IPython.core.display.Javascript object>"
      ]
     },
     "metadata": {},
     "output_type": "display_data"
    },
    {
     "name": "stdout",
     "output_type": "stream",
     "text": [
      "[jovian] Attempting to save notebook..\n",
      "[jovian] Updating notebook \"sayakpm3/fifa-21-players-data-analysis-in-python1\" on https://jovian.ml/\n",
      "[jovian] Uploading notebook..\n",
      "[jovian] Capturing environment..\n",
      "[jovian] Committed successfully! https://jovian.ml/sayakpm3/fifa-21-players-data-analysis-in-python1\n"
     ]
    },
    {
     "data": {
      "text/plain": [
       "'https://jovian.ml/sayakpm3/fifa-21-players-data-analysis-in-python1'"
      ]
     },
     "execution_count": 19,
     "metadata": {},
     "output_type": "execute_result"
    }
   ],
   "source": [
    "jovian.commit(project='fifa_21_players_data_analysis_in_python1')"
   ]
  },
  {
   "cell_type": "markdown",
   "metadata": {
    "id": "Gejz4QfwFtNP"
   },
   "source": [
    "## Exploratory Analysis and Visualization\n",
    "\n",
    "After we are done with data cleaning, we can make insightful and interesting analysis on that data. Here we will do just the same thing, we will try to get a good visual representation of the data. We will use pandas methods and functions to dig more into the dataset and analyse the data as best as we can."
   ]
  },
  {
   "cell_type": "code",
   "execution_count": 20,
   "metadata": {
    "executionInfo": {
     "elapsed": 4287,
     "status": "ok",
     "timestamp": 1601625880854,
     "user": {
      "displayName": "Hritwik",
      "photoUrl": "",
      "userId": "09304721696602939296"
     },
     "user_tz": -330
    },
    "id": "sadQZx2sFtNS"
   },
   "outputs": [],
   "source": [
    "!pip install matplotlib seaborn --upgrade --quiet"
   ]
  },
  {
   "cell_type": "code",
   "execution_count": 21,
   "metadata": {
    "executionInfo": {
     "elapsed": 1331,
     "status": "ok",
     "timestamp": 1601625885426,
     "user": {
      "displayName": "Hritwik",
      "photoUrl": "",
      "userId": "09304721696602939296"
     },
     "user_tz": -330
    },
    "id": "2YfRyfOjFtNd"
   },
   "outputs": [],
   "source": [
    "import seaborn as sns\n",
    "import matplotlib\n",
    "import matplotlib.pyplot as plt\n",
    "sns.set_style('whitegrid')\n",
    "matplotlib.rcParams['font.size'] = 14\n",
    "matplotlib.rcParams['figure.figsize'] = (9, 5)\n",
    "matplotlib.rcParams['figure.facecolor'] = '#00000000'\n",
    "%matplotlib inline"
   ]
  },
  {
   "cell_type": "code",
   "execution_count": 22,
   "metadata": {
    "colab": {
     "base_uri": "https://localhost:8080/",
     "height": 424
    },
    "executionInfo": {
     "elapsed": 1255,
     "status": "ok",
     "timestamp": 1601626021826,
     "user": {
      "displayName": "Hritwik",
      "photoUrl": "",
      "userId": "09304721696602939296"
     },
     "user_tz": -330
    },
    "id": "LxNBcVkzFtNk",
    "outputId": "028cb94a-a71f-4606-8a29-c6c856e8759f"
   },
   "outputs": [
    {
     "data": {
      "text/html": [
       "<div>\n",
       "<style scoped>\n",
       "    .dataframe tbody tr th:only-of-type {\n",
       "        vertical-align: middle;\n",
       "    }\n",
       "\n",
       "    .dataframe tbody tr th {\n",
       "        vertical-align: top;\n",
       "    }\n",
       "\n",
       "    .dataframe thead th {\n",
       "        text-align: right;\n",
       "    }\n",
       "</style>\n",
       "<table border=\"1\" class=\"dataframe\">\n",
       "  <thead>\n",
       "    <tr style=\"text-align: right;\">\n",
       "      <th></th>\n",
       "      <th>player_id</th>\n",
       "      <th>name</th>\n",
       "      <th>nationality</th>\n",
       "      <th>position</th>\n",
       "      <th>overall</th>\n",
       "      <th>age</th>\n",
       "      <th>hits</th>\n",
       "      <th>potential</th>\n",
       "      <th>team</th>\n",
       "    </tr>\n",
       "  </thead>\n",
       "  <tbody>\n",
       "    <tr>\n",
       "      <th>0</th>\n",
       "      <td>158023</td>\n",
       "      <td>Lionel Messi</td>\n",
       "      <td>Argentina</td>\n",
       "      <td>ST|CF|RW</td>\n",
       "      <td>94</td>\n",
       "      <td>33</td>\n",
       "      <td>299</td>\n",
       "      <td>94</td>\n",
       "      <td>FC Barcelona</td>\n",
       "    </tr>\n",
       "    <tr>\n",
       "      <th>1</th>\n",
       "      <td>20801</td>\n",
       "      <td>Cristiano Ronaldo</td>\n",
       "      <td>Portugal</td>\n",
       "      <td>ST|LW</td>\n",
       "      <td>93</td>\n",
       "      <td>35</td>\n",
       "      <td>276</td>\n",
       "      <td>93</td>\n",
       "      <td>Juventus</td>\n",
       "    </tr>\n",
       "    <tr>\n",
       "      <th>2</th>\n",
       "      <td>190871</td>\n",
       "      <td>Neymar Jr</td>\n",
       "      <td>Brazil</td>\n",
       "      <td>CAM|LW</td>\n",
       "      <td>92</td>\n",
       "      <td>28</td>\n",
       "      <td>186</td>\n",
       "      <td>92</td>\n",
       "      <td>Paris Saint-Germain</td>\n",
       "    </tr>\n",
       "    <tr>\n",
       "      <th>6</th>\n",
       "      <td>188545</td>\n",
       "      <td>Robert Lewandowski</td>\n",
       "      <td>Poland</td>\n",
       "      <td>ST</td>\n",
       "      <td>91</td>\n",
       "      <td>31</td>\n",
       "      <td>89</td>\n",
       "      <td>91</td>\n",
       "      <td>FC Bayern München</td>\n",
       "    </tr>\n",
       "    <tr>\n",
       "      <th>7</th>\n",
       "      <td>183277</td>\n",
       "      <td>Eden Hazard</td>\n",
       "      <td>Belgium</td>\n",
       "      <td>ST|LW</td>\n",
       "      <td>91</td>\n",
       "      <td>29</td>\n",
       "      <td>66</td>\n",
       "      <td>91</td>\n",
       "      <td>Real Madrid</td>\n",
       "    </tr>\n",
       "    <tr>\n",
       "      <th>...</th>\n",
       "      <td>...</td>\n",
       "      <td>...</td>\n",
       "      <td>...</td>\n",
       "      <td>...</td>\n",
       "      <td>...</td>\n",
       "      <td>...</td>\n",
       "      <td>...</td>\n",
       "      <td>...</td>\n",
       "      <td>...</td>\n",
       "    </tr>\n",
       "    <tr>\n",
       "      <th>17968</th>\n",
       "      <td>256326</td>\n",
       "      <td>Paulos Abraham</td>\n",
       "      <td>Sweden</td>\n",
       "      <td>RW|LW</td>\n",
       "      <td>56</td>\n",
       "      <td>18</td>\n",
       "      <td>1</td>\n",
       "      <td>71</td>\n",
       "      <td>AIK</td>\n",
       "    </tr>\n",
       "    <tr>\n",
       "      <th>17969</th>\n",
       "      <td>256314</td>\n",
       "      <td>Gautier Ott</td>\n",
       "      <td>France</td>\n",
       "      <td>ST</td>\n",
       "      <td>56</td>\n",
       "      <td>18</td>\n",
       "      <td>0</td>\n",
       "      <td>75</td>\n",
       "      <td>AS Nancy Lorraine</td>\n",
       "    </tr>\n",
       "    <tr>\n",
       "      <th>17976</th>\n",
       "      <td>256093</td>\n",
       "      <td>Jaime Ortíz</td>\n",
       "      <td>Ecuador</td>\n",
       "      <td>ST</td>\n",
       "      <td>56</td>\n",
       "      <td>21</td>\n",
       "      <td>0</td>\n",
       "      <td>64</td>\n",
       "      <td>Sociedad Deportiva Aucas</td>\n",
       "    </tr>\n",
       "    <tr>\n",
       "      <th>17978</th>\n",
       "      <td>256074</td>\n",
       "      <td>Davide Luzi</td>\n",
       "      <td>Venezuela</td>\n",
       "      <td>ST</td>\n",
       "      <td>56</td>\n",
       "      <td>18</td>\n",
       "      <td>1</td>\n",
       "      <td>68</td>\n",
       "      <td>Zamora Fútbol Club</td>\n",
       "    </tr>\n",
       "    <tr>\n",
       "      <th>17979</th>\n",
       "      <td>256073</td>\n",
       "      <td>Sergio Sulbarán</td>\n",
       "      <td>Venezuela</td>\n",
       "      <td>RW</td>\n",
       "      <td>56</td>\n",
       "      <td>22</td>\n",
       "      <td>0</td>\n",
       "      <td>62</td>\n",
       "      <td>Zamora Fútbol Club</td>\n",
       "    </tr>\n",
       "  </tbody>\n",
       "</table>\n",
       "<p>2581 rows × 9 columns</p>\n",
       "</div>"
      ],
      "text/plain": [
       "       player_id                name nationality  position  overall  age  \\\n",
       "0         158023        Lionel Messi   Argentina  ST|CF|RW       94   33   \n",
       "1          20801   Cristiano Ronaldo    Portugal     ST|LW       93   35   \n",
       "2         190871           Neymar Jr      Brazil    CAM|LW       92   28   \n",
       "6         188545  Robert Lewandowski      Poland        ST       91   31   \n",
       "7         183277         Eden Hazard     Belgium     ST|LW       91   29   \n",
       "...          ...                 ...         ...       ...      ...  ...   \n",
       "17968     256326      Paulos Abraham      Sweden     RW|LW       56   18   \n",
       "17969     256314         Gautier Ott      France        ST       56   18   \n",
       "17976     256093         Jaime Ortíz     Ecuador        ST       56   21   \n",
       "17978     256074         Davide Luzi   Venezuela        ST       56   18   \n",
       "17979     256073     Sergio Sulbarán   Venezuela        RW       56   22   \n",
       "\n",
       "       hits  potential                       team  \n",
       "0       299         94              FC Barcelona   \n",
       "1       276         93                  Juventus   \n",
       "2       186         92       Paris Saint-Germain   \n",
       "6        89         91         FC Bayern München   \n",
       "7        66         91               Real Madrid   \n",
       "...     ...        ...                        ...  \n",
       "17968     1         71                       AIK   \n",
       "17969     0         75         AS Nancy Lorraine   \n",
       "17976     0         64  Sociedad Deportiva Aucas   \n",
       "17978     1         68        Zamora Fútbol Club   \n",
       "17979     0         62        Zamora Fútbol Club   \n",
       "\n",
       "[2581 rows x 9 columns]"
      ]
     },
     "execution_count": 22,
     "metadata": {},
     "output_type": "execute_result"
    }
   ],
   "source": [
    "#Dataframe containing forwards\n",
    "forwards_df"
   ]
  },
  {
   "cell_type": "markdown",
   "metadata": {
    "id": "SGo_OgXhFtNu"
   },
   "source": [
    "The original dataset of Fifa 21 is sorted in descending order of overall rating. So for finding top or bottom players on the basis of overall rating we don't need to sort the dataset."
   ]
  },
  {
   "cell_type": "markdown",
   "metadata": {
    "id": "CTNql8dQFtNw"
   },
   "source": [
    "Let's look at the 10 forwards with highest overall rating in Fifa 21."
   ]
  },
  {
   "cell_type": "code",
   "execution_count": 23,
   "metadata": {
    "colab": {
     "base_uri": "https://localhost:8080/",
     "height": 363
    },
    "executionInfo": {
     "elapsed": 1299,
     "status": "ok",
     "timestamp": 1601626028639,
     "user": {
      "displayName": "Hritwik",
      "photoUrl": "",
      "userId": "09304721696602939296"
     },
     "user_tz": -330
    },
    "id": "ZuB4YtgxFtNx",
    "outputId": "28ad6c24-890d-43ec-80b9-fbaf883816be"
   },
   "outputs": [
    {
     "data": {
      "text/html": [
       "<div>\n",
       "<style scoped>\n",
       "    .dataframe tbody tr th:only-of-type {\n",
       "        vertical-align: middle;\n",
       "    }\n",
       "\n",
       "    .dataframe tbody tr th {\n",
       "        vertical-align: top;\n",
       "    }\n",
       "\n",
       "    .dataframe thead th {\n",
       "        text-align: right;\n",
       "    }\n",
       "</style>\n",
       "<table border=\"1\" class=\"dataframe\">\n",
       "  <thead>\n",
       "    <tr style=\"text-align: right;\">\n",
       "      <th></th>\n",
       "      <th>player_id</th>\n",
       "      <th>name</th>\n",
       "      <th>nationality</th>\n",
       "      <th>position</th>\n",
       "      <th>overall</th>\n",
       "      <th>age</th>\n",
       "      <th>hits</th>\n",
       "      <th>potential</th>\n",
       "      <th>team</th>\n",
       "    </tr>\n",
       "  </thead>\n",
       "  <tbody>\n",
       "    <tr>\n",
       "      <th>0</th>\n",
       "      <td>158023</td>\n",
       "      <td>Lionel Messi</td>\n",
       "      <td>Argentina</td>\n",
       "      <td>ST|CF|RW</td>\n",
       "      <td>94</td>\n",
       "      <td>33</td>\n",
       "      <td>299</td>\n",
       "      <td>94</td>\n",
       "      <td>FC Barcelona</td>\n",
       "    </tr>\n",
       "    <tr>\n",
       "      <th>1</th>\n",
       "      <td>20801</td>\n",
       "      <td>Cristiano Ronaldo</td>\n",
       "      <td>Portugal</td>\n",
       "      <td>ST|LW</td>\n",
       "      <td>93</td>\n",
       "      <td>35</td>\n",
       "      <td>276</td>\n",
       "      <td>93</td>\n",
       "      <td>Juventus</td>\n",
       "    </tr>\n",
       "    <tr>\n",
       "      <th>2</th>\n",
       "      <td>190871</td>\n",
       "      <td>Neymar Jr</td>\n",
       "      <td>Brazil</td>\n",
       "      <td>CAM|LW</td>\n",
       "      <td>92</td>\n",
       "      <td>28</td>\n",
       "      <td>186</td>\n",
       "      <td>92</td>\n",
       "      <td>Paris Saint-Germain</td>\n",
       "    </tr>\n",
       "    <tr>\n",
       "      <th>6</th>\n",
       "      <td>188545</td>\n",
       "      <td>Robert Lewandowski</td>\n",
       "      <td>Poland</td>\n",
       "      <td>ST</td>\n",
       "      <td>91</td>\n",
       "      <td>31</td>\n",
       "      <td>89</td>\n",
       "      <td>91</td>\n",
       "      <td>FC Bayern München</td>\n",
       "    </tr>\n",
       "    <tr>\n",
       "      <th>7</th>\n",
       "      <td>183277</td>\n",
       "      <td>Eden Hazard</td>\n",
       "      <td>Belgium</td>\n",
       "      <td>ST|LW</td>\n",
       "      <td>91</td>\n",
       "      <td>29</td>\n",
       "      <td>66</td>\n",
       "      <td>91</td>\n",
       "      <td>Real Madrid</td>\n",
       "    </tr>\n",
       "    <tr>\n",
       "      <th>9</th>\n",
       "      <td>209331</td>\n",
       "      <td>Mohamed Salah</td>\n",
       "      <td>Egypt</td>\n",
       "      <td>ST|RW</td>\n",
       "      <td>90</td>\n",
       "      <td>28</td>\n",
       "      <td>94</td>\n",
       "      <td>90</td>\n",
       "      <td>Liverpool</td>\n",
       "    </tr>\n",
       "    <tr>\n",
       "      <th>10</th>\n",
       "      <td>208722</td>\n",
       "      <td>Sadio Mané</td>\n",
       "      <td>Senegal</td>\n",
       "      <td>LW</td>\n",
       "      <td>90</td>\n",
       "      <td>28</td>\n",
       "      <td>76</td>\n",
       "      <td>90</td>\n",
       "      <td>Liverpool</td>\n",
       "    </tr>\n",
       "    <tr>\n",
       "      <th>12</th>\n",
       "      <td>153079</td>\n",
       "      <td>Sergio Agüero</td>\n",
       "      <td>Argentina</td>\n",
       "      <td>ST</td>\n",
       "      <td>90</td>\n",
       "      <td>32</td>\n",
       "      <td>50</td>\n",
       "      <td>90</td>\n",
       "      <td>Manchester City</td>\n",
       "    </tr>\n",
       "    <tr>\n",
       "      <th>13</th>\n",
       "      <td>231747</td>\n",
       "      <td>Kylian Mbappé</td>\n",
       "      <td>France</td>\n",
       "      <td>ST|RW|LW</td>\n",
       "      <td>89</td>\n",
       "      <td>21</td>\n",
       "      <td>222</td>\n",
       "      <td>95</td>\n",
       "      <td>Paris Saint-Germain</td>\n",
       "    </tr>\n",
       "    <tr>\n",
       "      <th>15</th>\n",
       "      <td>202126</td>\n",
       "      <td>Harry Kane</td>\n",
       "      <td>England</td>\n",
       "      <td>ST</td>\n",
       "      <td>89</td>\n",
       "      <td>27</td>\n",
       "      <td>64</td>\n",
       "      <td>91</td>\n",
       "      <td>Tottenham Hotspur</td>\n",
       "    </tr>\n",
       "  </tbody>\n",
       "</table>\n",
       "</div>"
      ],
      "text/plain": [
       "    player_id                name nationality  position  overall  age  hits  \\\n",
       "0      158023        Lionel Messi   Argentina  ST|CF|RW       94   33   299   \n",
       "1       20801   Cristiano Ronaldo    Portugal     ST|LW       93   35   276   \n",
       "2      190871           Neymar Jr      Brazil    CAM|LW       92   28   186   \n",
       "6      188545  Robert Lewandowski      Poland        ST       91   31    89   \n",
       "7      183277         Eden Hazard     Belgium     ST|LW       91   29    66   \n",
       "9      209331       Mohamed Salah       Egypt     ST|RW       90   28    94   \n",
       "10     208722          Sadio Mané     Senegal        LW       90   28    76   \n",
       "12     153079       Sergio Agüero   Argentina        ST       90   32    50   \n",
       "13     231747       Kylian Mbappé      France  ST|RW|LW       89   21   222   \n",
       "15     202126          Harry Kane     England        ST       89   27    64   \n",
       "\n",
       "    potential                  team  \n",
       "0          94         FC Barcelona   \n",
       "1          93             Juventus   \n",
       "2          92  Paris Saint-Germain   \n",
       "6          91    FC Bayern München   \n",
       "7          91          Real Madrid   \n",
       "9          90            Liverpool   \n",
       "10         90            Liverpool   \n",
       "12         90      Manchester City   \n",
       "13         95  Paris Saint-Germain   \n",
       "15         91    Tottenham Hotspur   "
      ]
     },
     "execution_count": 23,
     "metadata": {},
     "output_type": "execute_result"
    }
   ],
   "source": [
    "forwards_df.head(10)"
   ]
  },
  {
   "cell_type": "code",
   "execution_count": 24,
   "metadata": {
    "colab": {
     "base_uri": "https://localhost:8080/",
     "height": 424
    },
    "executionInfo": {
     "elapsed": 930,
     "status": "ok",
     "timestamp": 1601626031434,
     "user": {
      "displayName": "Hritwik",
      "photoUrl": "",
      "userId": "09304721696602939296"
     },
     "user_tz": -330
    },
    "id": "18t8R9LdFtN8",
    "outputId": "23fa9ee8-e26b-4e4b-b108-4a4ce45fba09"
   },
   "outputs": [
    {
     "data": {
      "text/html": [
       "<div>\n",
       "<style scoped>\n",
       "    .dataframe tbody tr th:only-of-type {\n",
       "        vertical-align: middle;\n",
       "    }\n",
       "\n",
       "    .dataframe tbody tr th {\n",
       "        vertical-align: top;\n",
       "    }\n",
       "\n",
       "    .dataframe thead th {\n",
       "        text-align: right;\n",
       "    }\n",
       "</style>\n",
       "<table border=\"1\" class=\"dataframe\">\n",
       "  <thead>\n",
       "    <tr style=\"text-align: right;\">\n",
       "      <th></th>\n",
       "      <th>player_id</th>\n",
       "      <th>name</th>\n",
       "      <th>nationality</th>\n",
       "      <th>position</th>\n",
       "      <th>overall</th>\n",
       "      <th>age</th>\n",
       "      <th>hits</th>\n",
       "      <th>potential</th>\n",
       "      <th>team</th>\n",
       "    </tr>\n",
       "  </thead>\n",
       "  <tbody>\n",
       "    <tr>\n",
       "      <th>5</th>\n",
       "      <td>192985</td>\n",
       "      <td>Kevin De Bruyne</td>\n",
       "      <td>Belgium</td>\n",
       "      <td>CM|CAM</td>\n",
       "      <td>91</td>\n",
       "      <td>29</td>\n",
       "      <td>119</td>\n",
       "      <td>91</td>\n",
       "      <td>Manchester City</td>\n",
       "    </tr>\n",
       "    <tr>\n",
       "      <th>14</th>\n",
       "      <td>215914</td>\n",
       "      <td>N'Golo Kanté</td>\n",
       "      <td>France</td>\n",
       "      <td>CDM|CM</td>\n",
       "      <td>89</td>\n",
       "      <td>29</td>\n",
       "      <td>75</td>\n",
       "      <td>89</td>\n",
       "      <td>Chelsea</td>\n",
       "    </tr>\n",
       "    <tr>\n",
       "      <th>17</th>\n",
       "      <td>182521</td>\n",
       "      <td>Toni Kroos</td>\n",
       "      <td>Germany</td>\n",
       "      <td>CM</td>\n",
       "      <td>89</td>\n",
       "      <td>30</td>\n",
       "      <td>37</td>\n",
       "      <td>89</td>\n",
       "      <td>Real Madrid</td>\n",
       "    </tr>\n",
       "    <tr>\n",
       "      <th>18</th>\n",
       "      <td>177003</td>\n",
       "      <td>Luka Modric</td>\n",
       "      <td>Croatia</td>\n",
       "      <td>CM</td>\n",
       "      <td>89</td>\n",
       "      <td>34</td>\n",
       "      <td>31</td>\n",
       "      <td>89</td>\n",
       "      <td>Real Madrid</td>\n",
       "    </tr>\n",
       "    <tr>\n",
       "      <th>26</th>\n",
       "      <td>200145</td>\n",
       "      <td>Casemiro</td>\n",
       "      <td>Brazil</td>\n",
       "      <td>CDM</td>\n",
       "      <td>88</td>\n",
       "      <td>28</td>\n",
       "      <td>37</td>\n",
       "      <td>89</td>\n",
       "      <td>Real Madrid</td>\n",
       "    </tr>\n",
       "    <tr>\n",
       "      <th>...</th>\n",
       "      <td>...</td>\n",
       "      <td>...</td>\n",
       "      <td>...</td>\n",
       "      <td>...</td>\n",
       "      <td>...</td>\n",
       "      <td>...</td>\n",
       "      <td>...</td>\n",
       "      <td>...</td>\n",
       "      <td>...</td>\n",
       "    </tr>\n",
       "    <tr>\n",
       "      <th>17971</th>\n",
       "      <td>256170</td>\n",
       "      <td>Samuel Renel</td>\n",
       "      <td>France</td>\n",
       "      <td>RM|CM|CAM</td>\n",
       "      <td>56</td>\n",
       "      <td>18</td>\n",
       "      <td>0</td>\n",
       "      <td>72</td>\n",
       "      <td>Chamois Niortais Football Club</td>\n",
       "    </tr>\n",
       "    <tr>\n",
       "      <th>17973</th>\n",
       "      <td>256148</td>\n",
       "      <td>Joseph Espinoza</td>\n",
       "      <td>Ecuador</td>\n",
       "      <td>CDM</td>\n",
       "      <td>56</td>\n",
       "      <td>20</td>\n",
       "      <td>0</td>\n",
       "      <td>66</td>\n",
       "      <td>LDU Quito</td>\n",
       "    </tr>\n",
       "    <tr>\n",
       "      <th>17974</th>\n",
       "      <td>256129</td>\n",
       "      <td>Zakaria Atteri</td>\n",
       "      <td>Morocco</td>\n",
       "      <td>CM|CAM</td>\n",
       "      <td>56</td>\n",
       "      <td>19</td>\n",
       "      <td>0</td>\n",
       "      <td>70</td>\n",
       "      <td>Royal Excel Mouscron</td>\n",
       "    </tr>\n",
       "    <tr>\n",
       "      <th>17977</th>\n",
       "      <td>256088</td>\n",
       "      <td>Michael Carcelén</td>\n",
       "      <td>Ecuador</td>\n",
       "      <td>CM</td>\n",
       "      <td>56</td>\n",
       "      <td>23</td>\n",
       "      <td>0</td>\n",
       "      <td>64</td>\n",
       "      <td>Club Deportivo El Nacional</td>\n",
       "    </tr>\n",
       "    <tr>\n",
       "      <th>17980</th>\n",
       "      <td>256072</td>\n",
       "      <td>Luis Peña</td>\n",
       "      <td>Venezuela</td>\n",
       "      <td>CM</td>\n",
       "      <td>56</td>\n",
       "      <td>18</td>\n",
       "      <td>0</td>\n",
       "      <td>69</td>\n",
       "      <td>Zamora Fútbol Club</td>\n",
       "    </tr>\n",
       "  </tbody>\n",
       "</table>\n",
       "<p>4765 rows × 9 columns</p>\n",
       "</div>"
      ],
      "text/plain": [
       "       player_id              name nationality   position  overall  age  hits  \\\n",
       "5         192985   Kevin De Bruyne     Belgium     CM|CAM       91   29   119   \n",
       "14        215914      N'Golo Kanté      France     CDM|CM       89   29    75   \n",
       "17        182521        Toni Kroos     Germany         CM       89   30    37   \n",
       "18        177003       Luka Modric     Croatia         CM       89   34    31   \n",
       "26        200145          Casemiro      Brazil        CDM       88   28    37   \n",
       "...          ...               ...         ...        ...      ...  ...   ...   \n",
       "17971     256170      Samuel Renel      France  RM|CM|CAM       56   18     0   \n",
       "17973     256148   Joseph Espinoza     Ecuador        CDM       56   20     0   \n",
       "17974     256129    Zakaria Atteri     Morocco     CM|CAM       56   19     0   \n",
       "17977     256088  Michael Carcelén     Ecuador         CM       56   23     0   \n",
       "17980     256072         Luis Peña   Venezuela         CM       56   18     0   \n",
       "\n",
       "       potential                             team  \n",
       "5             91                 Manchester City   \n",
       "14            89                         Chelsea   \n",
       "17            89                     Real Madrid   \n",
       "18            89                     Real Madrid   \n",
       "26            89                     Real Madrid   \n",
       "...          ...                              ...  \n",
       "17971         72  Chamois Niortais Football Club   \n",
       "17973         66                       LDU Quito   \n",
       "17974         70            Royal Excel Mouscron   \n",
       "17977         64      Club Deportivo El Nacional   \n",
       "17980         69              Zamora Fútbol Club   \n",
       "\n",
       "[4765 rows x 9 columns]"
      ]
     },
     "execution_count": 24,
     "metadata": {},
     "output_type": "execute_result"
    }
   ],
   "source": [
    "#Dataframe containing midfielders\n",
    "midfielders_df"
   ]
  },
  {
   "cell_type": "markdown",
   "metadata": {
    "id": "lZ5rM1l3FtOF"
   },
   "source": [
    "Let's look at the 10 midfielders with highest overall rating in Fifa 21"
   ]
  },
  {
   "cell_type": "code",
   "execution_count": 25,
   "metadata": {
    "colab": {
     "base_uri": "https://localhost:8080/",
     "height": 363
    },
    "executionInfo": {
     "elapsed": 1093,
     "status": "ok",
     "timestamp": 1601626032836,
     "user": {
      "displayName": "Hritwik",
      "photoUrl": "",
      "userId": "09304721696602939296"
     },
     "user_tz": -330
    },
    "id": "jFhcfY7PFtOG",
    "outputId": "c2bd2de1-e6f9-42c1-9e00-54c1433968d2"
   },
   "outputs": [
    {
     "data": {
      "text/html": [
       "<div>\n",
       "<style scoped>\n",
       "    .dataframe tbody tr th:only-of-type {\n",
       "        vertical-align: middle;\n",
       "    }\n",
       "\n",
       "    .dataframe tbody tr th {\n",
       "        vertical-align: top;\n",
       "    }\n",
       "\n",
       "    .dataframe thead th {\n",
       "        text-align: right;\n",
       "    }\n",
       "</style>\n",
       "<table border=\"1\" class=\"dataframe\">\n",
       "  <thead>\n",
       "    <tr style=\"text-align: right;\">\n",
       "      <th></th>\n",
       "      <th>player_id</th>\n",
       "      <th>name</th>\n",
       "      <th>nationality</th>\n",
       "      <th>position</th>\n",
       "      <th>overall</th>\n",
       "      <th>age</th>\n",
       "      <th>hits</th>\n",
       "      <th>potential</th>\n",
       "      <th>team</th>\n",
       "    </tr>\n",
       "  </thead>\n",
       "  <tbody>\n",
       "    <tr>\n",
       "      <th>5</th>\n",
       "      <td>192985</td>\n",
       "      <td>Kevin De Bruyne</td>\n",
       "      <td>Belgium</td>\n",
       "      <td>CM|CAM</td>\n",
       "      <td>91</td>\n",
       "      <td>29</td>\n",
       "      <td>119</td>\n",
       "      <td>91</td>\n",
       "      <td>Manchester City</td>\n",
       "    </tr>\n",
       "    <tr>\n",
       "      <th>14</th>\n",
       "      <td>215914</td>\n",
       "      <td>N'Golo Kanté</td>\n",
       "      <td>France</td>\n",
       "      <td>CDM|CM</td>\n",
       "      <td>89</td>\n",
       "      <td>29</td>\n",
       "      <td>75</td>\n",
       "      <td>89</td>\n",
       "      <td>Chelsea</td>\n",
       "    </tr>\n",
       "    <tr>\n",
       "      <th>17</th>\n",
       "      <td>182521</td>\n",
       "      <td>Toni Kroos</td>\n",
       "      <td>Germany</td>\n",
       "      <td>CM</td>\n",
       "      <td>89</td>\n",
       "      <td>30</td>\n",
       "      <td>37</td>\n",
       "      <td>89</td>\n",
       "      <td>Real Madrid</td>\n",
       "    </tr>\n",
       "    <tr>\n",
       "      <th>18</th>\n",
       "      <td>177003</td>\n",
       "      <td>Luka Modric</td>\n",
       "      <td>Croatia</td>\n",
       "      <td>CM</td>\n",
       "      <td>89</td>\n",
       "      <td>34</td>\n",
       "      <td>31</td>\n",
       "      <td>89</td>\n",
       "      <td>Real Madrid</td>\n",
       "    </tr>\n",
       "    <tr>\n",
       "      <th>26</th>\n",
       "      <td>200145</td>\n",
       "      <td>Casemiro</td>\n",
       "      <td>Brazil</td>\n",
       "      <td>CDM</td>\n",
       "      <td>88</td>\n",
       "      <td>28</td>\n",
       "      <td>37</td>\n",
       "      <td>89</td>\n",
       "      <td>Real Madrid</td>\n",
       "    </tr>\n",
       "    <tr>\n",
       "      <th>29</th>\n",
       "      <td>189511</td>\n",
       "      <td>Sergio Busquets</td>\n",
       "      <td>Spain</td>\n",
       "      <td>CDM</td>\n",
       "      <td>88</td>\n",
       "      <td>32</td>\n",
       "      <td>34</td>\n",
       "      <td>88</td>\n",
       "      <td>FC Barcelona</td>\n",
       "    </tr>\n",
       "    <tr>\n",
       "      <th>40</th>\n",
       "      <td>199556</td>\n",
       "      <td>Marco Verratti</td>\n",
       "      <td>Italy</td>\n",
       "      <td>CDM|CM</td>\n",
       "      <td>87</td>\n",
       "      <td>27</td>\n",
       "      <td>45</td>\n",
       "      <td>88</td>\n",
       "      <td>Paris Saint-Germain</td>\n",
       "    </tr>\n",
       "    <tr>\n",
       "      <th>41</th>\n",
       "      <td>195864</td>\n",
       "      <td>Paul Pogba</td>\n",
       "      <td>France</td>\n",
       "      <td>CDM|CM</td>\n",
       "      <td>87</td>\n",
       "      <td>27</td>\n",
       "      <td>70</td>\n",
       "      <td>88</td>\n",
       "      <td>Manchester United</td>\n",
       "    </tr>\n",
       "    <tr>\n",
       "      <th>44</th>\n",
       "      <td>190460</td>\n",
       "      <td>Christian Eriksen</td>\n",
       "      <td>Denmark</td>\n",
       "      <td>RM|CM|CAM</td>\n",
       "      <td>87</td>\n",
       "      <td>28</td>\n",
       "      <td>48</td>\n",
       "      <td>87</td>\n",
       "      <td>Inter</td>\n",
       "    </tr>\n",
       "    <tr>\n",
       "      <th>45</th>\n",
       "      <td>189513</td>\n",
       "      <td>Parejo</td>\n",
       "      <td>Spain</td>\n",
       "      <td>CM</td>\n",
       "      <td>87</td>\n",
       "      <td>31</td>\n",
       "      <td>14</td>\n",
       "      <td>87</td>\n",
       "      <td>Valencia CF</td>\n",
       "    </tr>\n",
       "  </tbody>\n",
       "</table>\n",
       "</div>"
      ],
      "text/plain": [
       "    player_id               name nationality   position  overall  age  hits  \\\n",
       "5      192985    Kevin De Bruyne     Belgium     CM|CAM       91   29   119   \n",
       "14     215914       N'Golo Kanté      France     CDM|CM       89   29    75   \n",
       "17     182521         Toni Kroos     Germany         CM       89   30    37   \n",
       "18     177003        Luka Modric     Croatia         CM       89   34    31   \n",
       "26     200145           Casemiro      Brazil        CDM       88   28    37   \n",
       "29     189511    Sergio Busquets       Spain        CDM       88   32    34   \n",
       "40     199556     Marco Verratti       Italy     CDM|CM       87   27    45   \n",
       "41     195864         Paul Pogba      France     CDM|CM       87   27    70   \n",
       "44     190460  Christian Eriksen     Denmark  RM|CM|CAM       87   28    48   \n",
       "45     189513             Parejo       Spain         CM       87   31    14   \n",
       "\n",
       "    potential                  team  \n",
       "5          91      Manchester City   \n",
       "14         89              Chelsea   \n",
       "17         89          Real Madrid   \n",
       "18         89          Real Madrid   \n",
       "26         89          Real Madrid   \n",
       "29         88         FC Barcelona   \n",
       "40         88  Paris Saint-Germain   \n",
       "41         88    Manchester United   \n",
       "44         87                Inter   \n",
       "45         87          Valencia CF   "
      ]
     },
     "execution_count": 25,
     "metadata": {},
     "output_type": "execute_result"
    }
   ],
   "source": [
    "midfielders_df.head(10)"
   ]
  },
  {
   "cell_type": "code",
   "execution_count": 26,
   "metadata": {
    "colab": {
     "base_uri": "https://localhost:8080/",
     "height": 424
    },
    "executionInfo": {
     "elapsed": 1199,
     "status": "ok",
     "timestamp": 1601626038752,
     "user": {
      "displayName": "Hritwik",
      "photoUrl": "",
      "userId": "09304721696602939296"
     },
     "user_tz": -330
    },
    "id": "Y4VQgyjJFtOQ",
    "outputId": "dffa368a-3a60-4629-da0a-c54b7cddba4d"
   },
   "outputs": [
    {
     "data": {
      "text/html": [
       "<div>\n",
       "<style scoped>\n",
       "    .dataframe tbody tr th:only-of-type {\n",
       "        vertical-align: middle;\n",
       "    }\n",
       "\n",
       "    .dataframe tbody tr th {\n",
       "        vertical-align: top;\n",
       "    }\n",
       "\n",
       "    .dataframe thead th {\n",
       "        text-align: right;\n",
       "    }\n",
       "</style>\n",
       "<table border=\"1\" class=\"dataframe\">\n",
       "  <thead>\n",
       "    <tr style=\"text-align: right;\">\n",
       "      <th></th>\n",
       "      <th>player_id</th>\n",
       "      <th>name</th>\n",
       "      <th>nationality</th>\n",
       "      <th>position</th>\n",
       "      <th>overall</th>\n",
       "      <th>age</th>\n",
       "      <th>hits</th>\n",
       "      <th>potential</th>\n",
       "      <th>team</th>\n",
       "    </tr>\n",
       "  </thead>\n",
       "  <tbody>\n",
       "    <tr>\n",
       "      <th>3</th>\n",
       "      <td>203376</td>\n",
       "      <td>Virgil van Dijk</td>\n",
       "      <td>Netherlands</td>\n",
       "      <td>CB</td>\n",
       "      <td>91</td>\n",
       "      <td>29</td>\n",
       "      <td>127</td>\n",
       "      <td>92</td>\n",
       "      <td>Liverpool</td>\n",
       "    </tr>\n",
       "    <tr>\n",
       "      <th>21</th>\n",
       "      <td>155862</td>\n",
       "      <td>Sergio Ramos</td>\n",
       "      <td>Spain</td>\n",
       "      <td>CB</td>\n",
       "      <td>89</td>\n",
       "      <td>34</td>\n",
       "      <td>55</td>\n",
       "      <td>89</td>\n",
       "      <td>Real Madrid</td>\n",
       "    </tr>\n",
       "    <tr>\n",
       "      <th>25</th>\n",
       "      <td>201024</td>\n",
       "      <td>Kalidou Koulibaly</td>\n",
       "      <td>Senegal</td>\n",
       "      <td>CB</td>\n",
       "      <td>88</td>\n",
       "      <td>29</td>\n",
       "      <td>78</td>\n",
       "      <td>90</td>\n",
       "      <td>Napoli</td>\n",
       "    </tr>\n",
       "    <tr>\n",
       "      <th>33</th>\n",
       "      <td>152729</td>\n",
       "      <td>Piqué</td>\n",
       "      <td>Spain</td>\n",
       "      <td>CB</td>\n",
       "      <td>88</td>\n",
       "      <td>33</td>\n",
       "      <td>41</td>\n",
       "      <td>88</td>\n",
       "      <td>FC Barcelona</td>\n",
       "    </tr>\n",
       "    <tr>\n",
       "      <th>34</th>\n",
       "      <td>138956</td>\n",
       "      <td>Giorgio Chiellini</td>\n",
       "      <td>Italy</td>\n",
       "      <td>CB</td>\n",
       "      <td>88</td>\n",
       "      <td>35</td>\n",
       "      <td>19</td>\n",
       "      <td>88</td>\n",
       "      <td>Juventus</td>\n",
       "    </tr>\n",
       "    <tr>\n",
       "      <th>...</th>\n",
       "      <td>...</td>\n",
       "      <td>...</td>\n",
       "      <td>...</td>\n",
       "      <td>...</td>\n",
       "      <td>...</td>\n",
       "      <td>...</td>\n",
       "      <td>...</td>\n",
       "      <td>...</td>\n",
       "      <td>...</td>\n",
       "    </tr>\n",
       "    <tr>\n",
       "      <th>17960</th>\n",
       "      <td>149662</td>\n",
       "      <td>Alan Bennett</td>\n",
       "      <td>Republic of Ireland</td>\n",
       "      <td>CB</td>\n",
       "      <td>57</td>\n",
       "      <td>38</td>\n",
       "      <td>0</td>\n",
       "      <td>57</td>\n",
       "      <td>Cork City</td>\n",
       "    </tr>\n",
       "    <tr>\n",
       "      <th>17961</th>\n",
       "      <td>138083</td>\n",
       "      <td>Nicky Hunt</td>\n",
       "      <td>England</td>\n",
       "      <td>RB|CB</td>\n",
       "      <td>57</td>\n",
       "      <td>36</td>\n",
       "      <td>0</td>\n",
       "      <td>57</td>\n",
       "      <td>Crewe Alexandra</td>\n",
       "    </tr>\n",
       "    <tr>\n",
       "      <th>17963</th>\n",
       "      <td>256469</td>\n",
       "      <td>Juan Camilo Suárez</td>\n",
       "      <td>Colombia</td>\n",
       "      <td>CB</td>\n",
       "      <td>56</td>\n",
       "      <td>21</td>\n",
       "      <td>0</td>\n",
       "      <td>63</td>\n",
       "      <td>Envigado FC</td>\n",
       "    </tr>\n",
       "    <tr>\n",
       "      <th>17972</th>\n",
       "      <td>256150</td>\n",
       "      <td>Winston Ramírez</td>\n",
       "      <td>Colombia</td>\n",
       "      <td>RB</td>\n",
       "      <td>56</td>\n",
       "      <td>19</td>\n",
       "      <td>0</td>\n",
       "      <td>69</td>\n",
       "      <td>Cúcuta Deportivo</td>\n",
       "    </tr>\n",
       "    <tr>\n",
       "      <th>17975</th>\n",
       "      <td>256101</td>\n",
       "      <td>Patrick Seagrist</td>\n",
       "      <td>United States</td>\n",
       "      <td>LB</td>\n",
       "      <td>56</td>\n",
       "      <td>22</td>\n",
       "      <td>0</td>\n",
       "      <td>66</td>\n",
       "      <td>New York Red Bulls</td>\n",
       "    </tr>\n",
       "  </tbody>\n",
       "</table>\n",
       "<p>4399 rows × 9 columns</p>\n",
       "</div>"
      ],
      "text/plain": [
       "       player_id                name          nationality position  overall  \\\n",
       "3         203376     Virgil van Dijk          Netherlands       CB       91   \n",
       "21        155862        Sergio Ramos                Spain       CB       89   \n",
       "25        201024   Kalidou Koulibaly              Senegal       CB       88   \n",
       "33        152729               Piqué                Spain       CB       88   \n",
       "34        138956   Giorgio Chiellini                Italy       CB       88   \n",
       "...          ...                 ...                  ...      ...      ...   \n",
       "17960     149662        Alan Bennett  Republic of Ireland       CB       57   \n",
       "17961     138083          Nicky Hunt              England    RB|CB       57   \n",
       "17963     256469  Juan Camilo Suárez             Colombia       CB       56   \n",
       "17972     256150     Winston Ramírez             Colombia       RB       56   \n",
       "17975     256101    Patrick Seagrist        United States       LB       56   \n",
       "\n",
       "       age  hits  potential                 team  \n",
       "3       29   127         92           Liverpool   \n",
       "21      34    55         89         Real Madrid   \n",
       "25      29    78         90              Napoli   \n",
       "33      33    41         88        FC Barcelona   \n",
       "34      35    19         88            Juventus   \n",
       "...    ...   ...        ...                  ...  \n",
       "17960   38     0         57           Cork City   \n",
       "17961   36     0         57     Crewe Alexandra   \n",
       "17963   21     0         63         Envigado FC   \n",
       "17972   19     0         69    Cúcuta Deportivo   \n",
       "17975   22     0         66  New York Red Bulls   \n",
       "\n",
       "[4399 rows x 9 columns]"
      ]
     },
     "execution_count": 26,
     "metadata": {},
     "output_type": "execute_result"
    }
   ],
   "source": [
    "#Dataframe containing defenders \n",
    "defenders_df"
   ]
  },
  {
   "cell_type": "markdown",
   "metadata": {
    "id": "9iduqn5eFtOd"
   },
   "source": [
    "Let's look at the 10 defenders with highest overall rating in Fifa 21."
   ]
  },
  {
   "cell_type": "code",
   "execution_count": 27,
   "metadata": {
    "colab": {
     "base_uri": "https://localhost:8080/",
     "height": 363
    },
    "executionInfo": {
     "elapsed": 1381,
     "status": "ok",
     "timestamp": 1601626043408,
     "user": {
      "displayName": "Hritwik",
      "photoUrl": "",
      "userId": "09304721696602939296"
     },
     "user_tz": -330
    },
    "id": "toQbo9LmFtOf",
    "outputId": "1d76332f-ed70-4b21-c4c7-6a020f8f9499"
   },
   "outputs": [
    {
     "data": {
      "text/html": [
       "<div>\n",
       "<style scoped>\n",
       "    .dataframe tbody tr th:only-of-type {\n",
       "        vertical-align: middle;\n",
       "    }\n",
       "\n",
       "    .dataframe tbody tr th {\n",
       "        vertical-align: top;\n",
       "    }\n",
       "\n",
       "    .dataframe thead th {\n",
       "        text-align: right;\n",
       "    }\n",
       "</style>\n",
       "<table border=\"1\" class=\"dataframe\">\n",
       "  <thead>\n",
       "    <tr style=\"text-align: right;\">\n",
       "      <th></th>\n",
       "      <th>player_id</th>\n",
       "      <th>name</th>\n",
       "      <th>nationality</th>\n",
       "      <th>position</th>\n",
       "      <th>overall</th>\n",
       "      <th>age</th>\n",
       "      <th>hits</th>\n",
       "      <th>potential</th>\n",
       "      <th>team</th>\n",
       "    </tr>\n",
       "  </thead>\n",
       "  <tbody>\n",
       "    <tr>\n",
       "      <th>3</th>\n",
       "      <td>203376</td>\n",
       "      <td>Virgil van Dijk</td>\n",
       "      <td>Netherlands</td>\n",
       "      <td>CB</td>\n",
       "      <td>91</td>\n",
       "      <td>29</td>\n",
       "      <td>127</td>\n",
       "      <td>92</td>\n",
       "      <td>Liverpool</td>\n",
       "    </tr>\n",
       "    <tr>\n",
       "      <th>21</th>\n",
       "      <td>155862</td>\n",
       "      <td>Sergio Ramos</td>\n",
       "      <td>Spain</td>\n",
       "      <td>CB</td>\n",
       "      <td>89</td>\n",
       "      <td>34</td>\n",
       "      <td>55</td>\n",
       "      <td>89</td>\n",
       "      <td>Real Madrid</td>\n",
       "    </tr>\n",
       "    <tr>\n",
       "      <th>25</th>\n",
       "      <td>201024</td>\n",
       "      <td>Kalidou Koulibaly</td>\n",
       "      <td>Senegal</td>\n",
       "      <td>CB</td>\n",
       "      <td>88</td>\n",
       "      <td>29</td>\n",
       "      <td>78</td>\n",
       "      <td>90</td>\n",
       "      <td>Napoli</td>\n",
       "    </tr>\n",
       "    <tr>\n",
       "      <th>33</th>\n",
       "      <td>152729</td>\n",
       "      <td>Piqué</td>\n",
       "      <td>Spain</td>\n",
       "      <td>CB</td>\n",
       "      <td>88</td>\n",
       "      <td>33</td>\n",
       "      <td>41</td>\n",
       "      <td>88</td>\n",
       "      <td>FC Barcelona</td>\n",
       "    </tr>\n",
       "    <tr>\n",
       "      <th>34</th>\n",
       "      <td>138956</td>\n",
       "      <td>Giorgio Chiellini</td>\n",
       "      <td>Italy</td>\n",
       "      <td>CB</td>\n",
       "      <td>88</td>\n",
       "      <td>35</td>\n",
       "      <td>19</td>\n",
       "      <td>88</td>\n",
       "      <td>Juventus</td>\n",
       "    </tr>\n",
       "    <tr>\n",
       "      <th>37</th>\n",
       "      <td>212218</td>\n",
       "      <td>Aymeric Laporte</td>\n",
       "      <td>France</td>\n",
       "      <td>CB</td>\n",
       "      <td>87</td>\n",
       "      <td>26</td>\n",
       "      <td>38</td>\n",
       "      <td>90</td>\n",
       "      <td>Manchester City</td>\n",
       "    </tr>\n",
       "    <tr>\n",
       "      <th>49</th>\n",
       "      <td>182493</td>\n",
       "      <td>Diego Godín</td>\n",
       "      <td>Uruguay</td>\n",
       "      <td>CB</td>\n",
       "      <td>87</td>\n",
       "      <td>34</td>\n",
       "      <td>16</td>\n",
       "      <td>87</td>\n",
       "      <td>Inter</td>\n",
       "    </tr>\n",
       "    <tr>\n",
       "      <th>50</th>\n",
       "      <td>178603</td>\n",
       "      <td>Mats Hummels</td>\n",
       "      <td>Germany</td>\n",
       "      <td>CB</td>\n",
       "      <td>87</td>\n",
       "      <td>31</td>\n",
       "      <td>18</td>\n",
       "      <td>87</td>\n",
       "      <td>Borussia Dortmund</td>\n",
       "    </tr>\n",
       "    <tr>\n",
       "      <th>54</th>\n",
       "      <td>164240</td>\n",
       "      <td>Thiago Silva</td>\n",
       "      <td>Brazil</td>\n",
       "      <td>CB</td>\n",
       "      <td>87</td>\n",
       "      <td>35</td>\n",
       "      <td>28</td>\n",
       "      <td>87</td>\n",
       "      <td>Paris Saint-Germain</td>\n",
       "    </tr>\n",
       "    <tr>\n",
       "      <th>56</th>\n",
       "      <td>232363</td>\n",
       "      <td>Milan Škriniar</td>\n",
       "      <td>Slovakia</td>\n",
       "      <td>CB</td>\n",
       "      <td>86</td>\n",
       "      <td>25</td>\n",
       "      <td>62</td>\n",
       "      <td>90</td>\n",
       "      <td>Inter</td>\n",
       "    </tr>\n",
       "  </tbody>\n",
       "</table>\n",
       "</div>"
      ],
      "text/plain": [
       "    player_id               name  nationality position  overall  age  hits  \\\n",
       "3      203376    Virgil van Dijk  Netherlands       CB       91   29   127   \n",
       "21     155862       Sergio Ramos        Spain       CB       89   34    55   \n",
       "25     201024  Kalidou Koulibaly      Senegal       CB       88   29    78   \n",
       "33     152729              Piqué        Spain       CB       88   33    41   \n",
       "34     138956  Giorgio Chiellini        Italy       CB       88   35    19   \n",
       "37     212218    Aymeric Laporte       France       CB       87   26    38   \n",
       "49     182493        Diego Godín      Uruguay       CB       87   34    16   \n",
       "50     178603       Mats Hummels      Germany       CB       87   31    18   \n",
       "54     164240       Thiago Silva       Brazil       CB       87   35    28   \n",
       "56     232363     Milan Škriniar     Slovakia       CB       86   25    62   \n",
       "\n",
       "    potential                  team  \n",
       "3          92            Liverpool   \n",
       "21         89          Real Madrid   \n",
       "25         90               Napoli   \n",
       "33         88         FC Barcelona   \n",
       "34         88             Juventus   \n",
       "37         90      Manchester City   \n",
       "49         87                Inter   \n",
       "50         87    Borussia Dortmund   \n",
       "54         87  Paris Saint-Germain   \n",
       "56         90                Inter   "
      ]
     },
     "execution_count": 27,
     "metadata": {},
     "output_type": "execute_result"
    }
   ],
   "source": [
    "defenders_df.head(10)"
   ]
  },
  {
   "cell_type": "code",
   "execution_count": 28,
   "metadata": {
    "colab": {
     "base_uri": "https://localhost:8080/",
     "height": 424
    },
    "executionInfo": {
     "elapsed": 932,
     "status": "ok",
     "timestamp": 1601626044054,
     "user": {
      "displayName": "Hritwik",
      "photoUrl": "",
      "userId": "09304721696602939296"
     },
     "user_tz": -330
    },
    "id": "4ZFE_A5LFtOp",
    "outputId": "12d6cc1d-b20d-4b94-8687-a932aa556f38"
   },
   "outputs": [
    {
     "data": {
      "text/html": [
       "<div>\n",
       "<style scoped>\n",
       "    .dataframe tbody tr th:only-of-type {\n",
       "        vertical-align: middle;\n",
       "    }\n",
       "\n",
       "    .dataframe tbody tr th {\n",
       "        vertical-align: top;\n",
       "    }\n",
       "\n",
       "    .dataframe thead th {\n",
       "        text-align: right;\n",
       "    }\n",
       "</style>\n",
       "<table border=\"1\" class=\"dataframe\">\n",
       "  <thead>\n",
       "    <tr style=\"text-align: right;\">\n",
       "      <th></th>\n",
       "      <th>player_id</th>\n",
       "      <th>name</th>\n",
       "      <th>nationality</th>\n",
       "      <th>position</th>\n",
       "      <th>overall</th>\n",
       "      <th>age</th>\n",
       "      <th>hits</th>\n",
       "      <th>potential</th>\n",
       "      <th>team</th>\n",
       "    </tr>\n",
       "  </thead>\n",
       "  <tbody>\n",
       "    <tr>\n",
       "      <th>4</th>\n",
       "      <td>200389</td>\n",
       "      <td>Jan Oblak</td>\n",
       "      <td>Slovenia</td>\n",
       "      <td>GK</td>\n",
       "      <td>91</td>\n",
       "      <td>27</td>\n",
       "      <td>47</td>\n",
       "      <td>93</td>\n",
       "      <td>Atlético Madrid</td>\n",
       "    </tr>\n",
       "    <tr>\n",
       "      <th>8</th>\n",
       "      <td>212831</td>\n",
       "      <td>Alisson</td>\n",
       "      <td>Brazil</td>\n",
       "      <td>GK</td>\n",
       "      <td>90</td>\n",
       "      <td>27</td>\n",
       "      <td>53</td>\n",
       "      <td>91</td>\n",
       "      <td>Liverpool</td>\n",
       "    </tr>\n",
       "    <tr>\n",
       "      <th>11</th>\n",
       "      <td>192448</td>\n",
       "      <td>Marc-André ter Stegen</td>\n",
       "      <td>Germany</td>\n",
       "      <td>GK</td>\n",
       "      <td>90</td>\n",
       "      <td>28</td>\n",
       "      <td>68</td>\n",
       "      <td>93</td>\n",
       "      <td>FC Barcelona</td>\n",
       "    </tr>\n",
       "    <tr>\n",
       "      <th>20</th>\n",
       "      <td>167495</td>\n",
       "      <td>Manuel Neuer</td>\n",
       "      <td>Germany</td>\n",
       "      <td>GK</td>\n",
       "      <td>89</td>\n",
       "      <td>34</td>\n",
       "      <td>42</td>\n",
       "      <td>89</td>\n",
       "      <td>FC Bayern München</td>\n",
       "    </tr>\n",
       "    <tr>\n",
       "      <th>22</th>\n",
       "      <td>210257</td>\n",
       "      <td>Ederson</td>\n",
       "      <td>Brazil</td>\n",
       "      <td>GK</td>\n",
       "      <td>88</td>\n",
       "      <td>26</td>\n",
       "      <td>40</td>\n",
       "      <td>91</td>\n",
       "      <td>Manchester City</td>\n",
       "    </tr>\n",
       "    <tr>\n",
       "      <th>...</th>\n",
       "      <td>...</td>\n",
       "      <td>...</td>\n",
       "      <td>...</td>\n",
       "      <td>...</td>\n",
       "      <td>...</td>\n",
       "      <td>...</td>\n",
       "      <td>...</td>\n",
       "      <td>...</td>\n",
       "      <td>...</td>\n",
       "    </tr>\n",
       "    <tr>\n",
       "      <th>17955</th>\n",
       "      <td>199007</td>\n",
       "      <td>Mark McGinley</td>\n",
       "      <td>Republic of Ireland</td>\n",
       "      <td>GK</td>\n",
       "      <td>57</td>\n",
       "      <td>30</td>\n",
       "      <td>0</td>\n",
       "      <td>58</td>\n",
       "      <td>Finn Harps</td>\n",
       "    </tr>\n",
       "    <tr>\n",
       "      <th>17959</th>\n",
       "      <td>175603</td>\n",
       "      <td>Rene Gilmartin</td>\n",
       "      <td>Republic of Ireland</td>\n",
       "      <td>GK</td>\n",
       "      <td>57</td>\n",
       "      <td>33</td>\n",
       "      <td>0</td>\n",
       "      <td>57</td>\n",
       "      <td>Bristol City</td>\n",
       "    </tr>\n",
       "    <tr>\n",
       "      <th>17962</th>\n",
       "      <td>102881</td>\n",
       "      <td>Kyriakos Stamatopoulos</td>\n",
       "      <td>Canada</td>\n",
       "      <td>GK</td>\n",
       "      <td>57</td>\n",
       "      <td>40</td>\n",
       "      <td>1</td>\n",
       "      <td>57</td>\n",
       "      <td>AIK</td>\n",
       "    </tr>\n",
       "    <tr>\n",
       "      <th>17964</th>\n",
       "      <td>256445</td>\n",
       "      <td>Ruvira</td>\n",
       "      <td>Spain</td>\n",
       "      <td>GK</td>\n",
       "      <td>56</td>\n",
       "      <td>20</td>\n",
       "      <td>0</td>\n",
       "      <td>70</td>\n",
       "      <td>CF Fuenlabrada</td>\n",
       "    </tr>\n",
       "    <tr>\n",
       "      <th>17965</th>\n",
       "      <td>256436</td>\n",
       "      <td>Erland Tangvik</td>\n",
       "      <td>Norway</td>\n",
       "      <td>GK</td>\n",
       "      <td>56</td>\n",
       "      <td>23</td>\n",
       "      <td>0</td>\n",
       "      <td>63</td>\n",
       "      <td>Djurgårdens IF</td>\n",
       "    </tr>\n",
       "  </tbody>\n",
       "</table>\n",
       "<p>1884 rows × 9 columns</p>\n",
       "</div>"
      ],
      "text/plain": [
       "       player_id                    name          nationality position  \\\n",
       "4         200389               Jan Oblak             Slovenia       GK   \n",
       "8         212831                 Alisson               Brazil       GK   \n",
       "11        192448   Marc-André ter Stegen              Germany       GK   \n",
       "20        167495            Manuel Neuer              Germany       GK   \n",
       "22        210257                 Ederson               Brazil       GK   \n",
       "...          ...                     ...                  ...      ...   \n",
       "17955     199007           Mark McGinley  Republic of Ireland       GK   \n",
       "17959     175603          Rene Gilmartin  Republic of Ireland       GK   \n",
       "17962     102881  Kyriakos Stamatopoulos               Canada       GK   \n",
       "17964     256445                  Ruvira                Spain       GK   \n",
       "17965     256436          Erland Tangvik               Norway       GK   \n",
       "\n",
       "       overall  age  hits  potential                team  \n",
       "4           91   27    47         93    Atlético Madrid   \n",
       "8           90   27    53         91          Liverpool   \n",
       "11          90   28    68         93       FC Barcelona   \n",
       "20          89   34    42         89  FC Bayern München   \n",
       "22          88   26    40         91    Manchester City   \n",
       "...        ...  ...   ...        ...                 ...  \n",
       "17955       57   30     0         58         Finn Harps   \n",
       "17959       57   33     0         57       Bristol City   \n",
       "17962       57   40     1         57                AIK   \n",
       "17964       56   20     0         70     CF Fuenlabrada   \n",
       "17965       56   23     0         63     Djurgårdens IF   \n",
       "\n",
       "[1884 rows x 9 columns]"
      ]
     },
     "execution_count": 28,
     "metadata": {},
     "output_type": "execute_result"
    }
   ],
   "source": [
    "#Dataframe containing goal keepers\n",
    "gk_df"
   ]
  },
  {
   "cell_type": "markdown",
   "metadata": {
    "id": "p5UuNgWXFtO8"
   },
   "source": [
    "Let's look at the 10 goalkeepers with highest overall rating in Fifa 21."
   ]
  },
  {
   "cell_type": "code",
   "execution_count": 29,
   "metadata": {
    "colab": {
     "base_uri": "https://localhost:8080/",
     "height": 363
    },
    "executionInfo": {
     "elapsed": 1278,
     "status": "ok",
     "timestamp": 1601626054402,
     "user": {
      "displayName": "Hritwik",
      "photoUrl": "",
      "userId": "09304721696602939296"
     },
     "user_tz": -330
    },
    "id": "QIRnIBp1FtO-",
    "outputId": "927ab79a-3de0-405e-9ff3-c37386c32811"
   },
   "outputs": [
    {
     "data": {
      "text/html": [
       "<div>\n",
       "<style scoped>\n",
       "    .dataframe tbody tr th:only-of-type {\n",
       "        vertical-align: middle;\n",
       "    }\n",
       "\n",
       "    .dataframe tbody tr th {\n",
       "        vertical-align: top;\n",
       "    }\n",
       "\n",
       "    .dataframe thead th {\n",
       "        text-align: right;\n",
       "    }\n",
       "</style>\n",
       "<table border=\"1\" class=\"dataframe\">\n",
       "  <thead>\n",
       "    <tr style=\"text-align: right;\">\n",
       "      <th></th>\n",
       "      <th>player_id</th>\n",
       "      <th>name</th>\n",
       "      <th>nationality</th>\n",
       "      <th>position</th>\n",
       "      <th>overall</th>\n",
       "      <th>age</th>\n",
       "      <th>hits</th>\n",
       "      <th>potential</th>\n",
       "      <th>team</th>\n",
       "    </tr>\n",
       "  </thead>\n",
       "  <tbody>\n",
       "    <tr>\n",
       "      <th>4</th>\n",
       "      <td>200389</td>\n",
       "      <td>Jan Oblak</td>\n",
       "      <td>Slovenia</td>\n",
       "      <td>GK</td>\n",
       "      <td>91</td>\n",
       "      <td>27</td>\n",
       "      <td>47</td>\n",
       "      <td>93</td>\n",
       "      <td>Atlético Madrid</td>\n",
       "    </tr>\n",
       "    <tr>\n",
       "      <th>8</th>\n",
       "      <td>212831</td>\n",
       "      <td>Alisson</td>\n",
       "      <td>Brazil</td>\n",
       "      <td>GK</td>\n",
       "      <td>90</td>\n",
       "      <td>27</td>\n",
       "      <td>53</td>\n",
       "      <td>91</td>\n",
       "      <td>Liverpool</td>\n",
       "    </tr>\n",
       "    <tr>\n",
       "      <th>11</th>\n",
       "      <td>192448</td>\n",
       "      <td>Marc-André ter Stegen</td>\n",
       "      <td>Germany</td>\n",
       "      <td>GK</td>\n",
       "      <td>90</td>\n",
       "      <td>28</td>\n",
       "      <td>68</td>\n",
       "      <td>93</td>\n",
       "      <td>FC Barcelona</td>\n",
       "    </tr>\n",
       "    <tr>\n",
       "      <th>20</th>\n",
       "      <td>167495</td>\n",
       "      <td>Manuel Neuer</td>\n",
       "      <td>Germany</td>\n",
       "      <td>GK</td>\n",
       "      <td>89</td>\n",
       "      <td>34</td>\n",
       "      <td>42</td>\n",
       "      <td>89</td>\n",
       "      <td>FC Bayern München</td>\n",
       "    </tr>\n",
       "    <tr>\n",
       "      <th>22</th>\n",
       "      <td>210257</td>\n",
       "      <td>Ederson</td>\n",
       "      <td>Brazil</td>\n",
       "      <td>GK</td>\n",
       "      <td>88</td>\n",
       "      <td>26</td>\n",
       "      <td>40</td>\n",
       "      <td>91</td>\n",
       "      <td>Manchester City</td>\n",
       "    </tr>\n",
       "    <tr>\n",
       "      <th>27</th>\n",
       "      <td>193080</td>\n",
       "      <td>De Gea</td>\n",
       "      <td>Spain</td>\n",
       "      <td>GK</td>\n",
       "      <td>88</td>\n",
       "      <td>29</td>\n",
       "      <td>39</td>\n",
       "      <td>88</td>\n",
       "      <td>Manchester United</td>\n",
       "    </tr>\n",
       "    <tr>\n",
       "      <th>28</th>\n",
       "      <td>192119</td>\n",
       "      <td>Thibaut Courtois</td>\n",
       "      <td>Belgium</td>\n",
       "      <td>GK</td>\n",
       "      <td>88</td>\n",
       "      <td>28</td>\n",
       "      <td>34</td>\n",
       "      <td>89</td>\n",
       "      <td>Real Madrid</td>\n",
       "    </tr>\n",
       "    <tr>\n",
       "      <th>32</th>\n",
       "      <td>162835</td>\n",
       "      <td>Samir Handanovic</td>\n",
       "      <td>Slovenia</td>\n",
       "      <td>GK</td>\n",
       "      <td>88</td>\n",
       "      <td>36</td>\n",
       "      <td>13</td>\n",
       "      <td>88</td>\n",
       "      <td>Inter</td>\n",
       "    </tr>\n",
       "    <tr>\n",
       "      <th>42</th>\n",
       "      <td>193041</td>\n",
       "      <td>Keylor Navas</td>\n",
       "      <td>Costa Rica</td>\n",
       "      <td>GK</td>\n",
       "      <td>87</td>\n",
       "      <td>33</td>\n",
       "      <td>28</td>\n",
       "      <td>87</td>\n",
       "      <td>Paris Saint-Germain</td>\n",
       "    </tr>\n",
       "    <tr>\n",
       "      <th>47</th>\n",
       "      <td>186153</td>\n",
       "      <td>Wojciech Szczesny</td>\n",
       "      <td>Poland</td>\n",
       "      <td>GK</td>\n",
       "      <td>87</td>\n",
       "      <td>30</td>\n",
       "      <td>17</td>\n",
       "      <td>88</td>\n",
       "      <td>Juventus</td>\n",
       "    </tr>\n",
       "  </tbody>\n",
       "</table>\n",
       "</div>"
      ],
      "text/plain": [
       "    player_id                   name nationality position  overall  age  hits  \\\n",
       "4      200389              Jan Oblak    Slovenia       GK       91   27    47   \n",
       "8      212831                Alisson      Brazil       GK       90   27    53   \n",
       "11     192448  Marc-André ter Stegen     Germany       GK       90   28    68   \n",
       "20     167495           Manuel Neuer     Germany       GK       89   34    42   \n",
       "22     210257                Ederson      Brazil       GK       88   26    40   \n",
       "27     193080                 De Gea       Spain       GK       88   29    39   \n",
       "28     192119       Thibaut Courtois     Belgium       GK       88   28    34   \n",
       "32     162835       Samir Handanovic    Slovenia       GK       88   36    13   \n",
       "42     193041           Keylor Navas  Costa Rica       GK       87   33    28   \n",
       "47     186153      Wojciech Szczesny      Poland       GK       87   30    17   \n",
       "\n",
       "    potential                  team  \n",
       "4          93      Atlético Madrid   \n",
       "8          91            Liverpool   \n",
       "11         93         FC Barcelona   \n",
       "20         89    FC Bayern München   \n",
       "22         91      Manchester City   \n",
       "27         88    Manchester United   \n",
       "28         89          Real Madrid   \n",
       "32         88                Inter   \n",
       "42         87  Paris Saint-Germain   \n",
       "47         88             Juventus   "
      ]
     },
     "execution_count": 29,
     "metadata": {},
     "output_type": "execute_result"
    }
   ],
   "source": [
    "gk_df.head(10)"
   ]
  },
  {
   "cell_type": "markdown",
   "metadata": {
    "id": "kAnS0QSpFtPH"
   },
   "source": [
    "Let's have a look at the countries from which we can find players in Fifa 21."
   ]
  },
  {
   "cell_type": "code",
   "execution_count": 30,
   "metadata": {
    "colab": {
     "base_uri": "https://localhost:8080/",
     "height": 35
    },
    "executionInfo": {
     "elapsed": 1549,
     "status": "ok",
     "timestamp": 1601626060111,
     "user": {
      "displayName": "Hritwik",
      "photoUrl": "",
      "userId": "09304721696602939296"
     },
     "user_tz": -330
    },
    "id": "jdAKn0A1FtPJ",
    "outputId": "7cf227bf-ad7b-46f2-b5c4-075a7591ee1b"
   },
   "outputs": [
    {
     "data": {
      "text/plain": [
       "162"
      ]
     },
     "execution_count": 30,
     "metadata": {},
     "output_type": "execute_result"
    }
   ],
   "source": [
    "#number of different countries whose players are included in Fifa 21. \n",
    "no_of_countries = dataraw_df.nationality.nunique()\n",
    "no_of_countries"
   ]
  },
  {
   "cell_type": "code",
   "execution_count": 31,
   "metadata": {
    "colab": {
     "base_uri": "https://localhost:8080/",
     "height": 399
    },
    "executionInfo": {
     "elapsed": 1486,
     "status": "ok",
     "timestamp": 1601626060658,
     "user": {
      "displayName": "Hritwik",
      "photoUrl": "",
      "userId": "09304721696602939296"
     },
     "user_tz": -330
    },
    "id": "50NIG9KLFtPR",
    "outputId": "7c86e598-a522-40e1-f732-81ce01855da7"
   },
   "outputs": [
    {
     "data": {
      "text/plain": [
       "England           1496\n",
       "Germany           1138\n",
       "Spain             1055\n",
       "Argentina          970\n",
       "France             948\n",
       "Brazil             894\n",
       "Italy              637\n",
       "Colombia           561\n",
       "Japan              448\n",
       "Netherlands        418\n",
       "Uruguay            352\n",
       "Portugal           351\n",
       "Mexico             329\n",
       "Chile              318\n",
       "Austria            306\n",
       "Norway             293\n",
       "Korea Republic     286\n",
       "Poland             283\n",
       "United States      282\n",
       "Denmark            275\n",
       "Name: nationality, dtype: int64"
      ]
     },
     "execution_count": 31,
     "metadata": {},
     "output_type": "execute_result"
    }
   ],
   "source": [
    "top_countries = dataraw_df.nationality.value_counts().head(20)\n",
    "top_countries"
   ]
  },
  {
   "cell_type": "code",
   "execution_count": 32,
   "metadata": {
    "colab": {
     "base_uri": "https://localhost:8080/",
     "height": 469
    },
    "executionInfo": {
     "elapsed": 2312,
     "status": "ok",
     "timestamp": 1601626061967,
     "user": {
      "displayName": "Hritwik",
      "photoUrl": "",
      "userId": "09304721696602939296"
     },
     "user_tz": -330
    },
    "id": "1DlByUcIFtPZ",
    "outputId": "b1c25493-6c0e-4cc5-ab64-5fcd39f6564e"
   },
   "outputs": [
    {
     "name": "stderr",
     "output_type": "stream",
     "text": [
      "C:\\Users\\shimu\\anaconda3\\lib\\site-packages\\seaborn\\_decorators.py:36: FutureWarning: Pass the following variables as keyword args: x, y. From version 0.12, the only valid positional argument will be `data`, and passing other arguments without an explicit keyword will result in an error or misinterpretation.\n",
      "  warnings.warn(\n"
     ]
    },
    {
     "data": {
      "image/png": "[encoded data removed]",
      "text/plain": [
       "<Figure size 576x432 with 1 Axes>"
      ]
     },
     "metadata": {
      "needs_background": "light"
     },
     "output_type": "display_data"
    }
   ],
   "source": [
    "#bar graph of top 20 countries with maximum number of players\n",
    "top_countries = dataraw_df.nationality.value_counts().head(20)\n",
    "plt.figure(figsize=(8,6))\n",
    "plt.xticks(rotation=75)\n",
    "plt.title(\"Top Countries\")\n",
    "sns.barplot(top_countries.index, top_countries);"
   ]
  },
  {
   "cell_type": "markdown",
   "metadata": {
    "id": "WgtTLsU3FtPi"
   },
   "source": [
    "Now, let's have a look at the clubs from which we can find players in Fifa 21, or the clubs that are available in Fifa 21."
   ]
  },
  {
   "cell_type": "code",
   "execution_count": 33,
   "metadata": {
    "colab": {
     "base_uri": "https://localhost:8080/",
     "height": 35
    },
    "executionInfo": {
     "elapsed": 1625,
     "status": "ok",
     "timestamp": 1601626082039,
     "user": {
      "displayName": "Hritwik",
      "photoUrl": "",
      "userId": "09304721696602939296"
     },
     "user_tz": -330
    },
    "id": "3X_eefMFFtPj",
    "outputId": "2217bed6-add6-4c3e-8850-cf163efd665a"
   },
   "outputs": [
    {
     "data": {
      "text/plain": [
       "713"
      ]
     },
     "execution_count": 33,
     "metadata": {},
     "output_type": "execute_result"
    }
   ],
   "source": [
    "#number of different clubs available in Fifa 21\n",
    "no_of_clubs = dataraw_df.team.nunique()\n",
    "no_of_clubs"
   ]
  },
  {
   "cell_type": "code",
   "execution_count": 34,
   "metadata": {
    "colab": {
     "base_uri": "https://localhost:8080/",
     "height": 944
    },
    "executionInfo": {
     "elapsed": 1150,
     "status": "ok",
     "timestamp": 1601626082044,
     "user": {
      "displayName": "Hritwik",
      "photoUrl": "",
      "userId": "09304721696602939296"
     },
     "user_tz": -330
    },
    "id": "8iLvRjmHFtPs",
    "outputId": "9a0f74a5-8596-4ead-9940-76acc3f28ab9"
   },
   "outputs": [
    {
     "data": {
      "text/plain": [
       "Free Agents                    211\n",
       "River Plate                     35\n",
       "RC Celta                        33\n",
       "Tottenham Hotspur               33\n",
       "FC Augsburg                     33\n",
       "Fortuna Düsseldorf              33\n",
       "Olympique Lyonnais              33\n",
       "Villarreal CF                   33\n",
       "Everton                         33\n",
       "Atlético Madrid                 33\n",
       "AFC Bournemouth                 33\n",
       "FC Barcelona                    33\n",
       "Valencia CF                     33\n",
       "Real Betis                      33\n",
       "Real Madrid                     33\n",
       "Liverpool                       33\n",
       "R. Valladolid CF                33\n",
       "Arsenal                         33\n",
       "Leicester City                  33\n",
       "1. FSV Mainz 05                 33\n",
       "Newcastle United                33\n",
       "RCD Espanyol                    33\n",
       "AS Monaco Football Club SA      33\n",
       "Manchester United               33\n",
       "Chelsea                         32\n",
       "D. Alavés                       32\n",
       "Watford                         32\n",
       "SC Paderborn 07                 32\n",
       "LOSC Lille                      32\n",
       "Granada CF                      32\n",
       "FC Nantes                       32\n",
       "RB Leipzig                      32\n",
       "AS Saint-Étienne                32\n",
       "Getafe CF                       32\n",
       "Levante UD                      32\n",
       "Manchester City                 32\n",
       "SV Werder Bremen                32\n",
       "Genoa                           31\n",
       "Real Sociedad                   31\n",
       "Sevilla FC                      31\n",
       "Athletic Club                   31\n",
       "Toulouse Football Club          31\n",
       "1. FC Union Berlin              31\n",
       "Stade Rennais FC                31\n",
       "Trapani                         30\n",
       "FC Emmen                        30\n",
       "Leeds United                    30\n",
       "VfL Wolfsburg                   30\n",
       "Hannover 96                     30\n",
       "VfB Stuttgart                   30\n",
       "Name: team, dtype: int64"
      ]
     },
     "execution_count": 34,
     "metadata": {},
     "output_type": "execute_result"
    }
   ],
   "source": [
    "#The clubs which has maximum number of players in Fifa 21.\n",
    "top_clubs = dataraw_df.team.value_counts().head(50)\n",
    "top_clubs"
   ]
  },
  {
   "cell_type": "code",
   "execution_count": 35,
   "metadata": {
    "colab": {
     "base_uri": "https://localhost:8080/",
     "height": 413
    },
    "executionInfo": {
     "elapsed": 1883,
     "status": "ok",
     "timestamp": 1601626083251,
     "user": {
      "displayName": "Hritwik",
      "photoUrl": "",
      "userId": "09304721696602939296"
     },
     "user_tz": -330
    },
    "id": "bOiWuxmSFtP2",
    "outputId": "1df732e0-8ee5-4532-ca9f-97d2ec7dae90"
   },
   "outputs": [
    {
     "data": {
      "image/png": "[encoded data removed]",
      "text/plain": [
       "<Figure size 576x432 with 1 Axes>"
      ]
     },
     "metadata": {
      "needs_background": "light"
     },
     "output_type": "display_data"
    }
   ],
   "source": [
    "#bar graph of the top 30 clubs with maximum players.\n",
    "top_clubss = dataraw_df.team.value_counts().head(30)\n",
    "plt.figure(figsize=(8,6))\n",
    "plt.xticks(rotation=75)\n",
    "\n",
    "plt.bar(top_clubss.index, top_clubss);"
   ]
  },
  {
   "cell_type": "markdown",
   "metadata": {
    "id": "Ewxwdz8zFtQW"
   },
   "source": [
    "Let's work with age category now."
   ]
  },
  {
   "cell_type": "code",
   "execution_count": 36,
   "metadata": {
    "colab": {
     "base_uri": "https://localhost:8080/",
     "height": 413
    },
    "executionInfo": {
     "elapsed": 1369,
     "status": "ok",
     "timestamp": 1601626105326,
     "user": {
      "displayName": "Hritwik",
      "photoUrl": "",
      "userId": "09304721696602939296"
     },
     "user_tz": -330
    },
    "id": "uzVCM16LFtQY",
    "outputId": "36875c27-a698-4bdd-e793-f4ccc1eb0d4d"
   },
   "outputs": [
    {
     "data": {
      "image/png": "[encoded data removed]",
      "text/plain": [
       "<Figure size 576x432 with 1 Axes>"
      ]
     },
     "metadata": {
      "needs_background": "light"
     },
     "output_type": "display_data"
    }
   ],
   "source": [
    "#histogram depicting number of players in different age groups\n",
    "plt.figure(figsize=(8, 6))\n",
    "\n",
    "plt.xlabel('Age')\n",
    "plt.ylabel('Number of respondents')\n",
    "\n",
    "plt.hist(dataraw_df.age, bins=np.arange(15,50,5), color='blue');"
   ]
  },
  {
   "cell_type": "markdown",
   "metadata": {
    "id": "knqJMpl3FtQd"
   },
   "source": [
    "Let's group the players of the top 3 age categories. So that we can find the top 5 players in each of the top 3 age categories."
   ]
  },
  {
   "cell_type": "code",
   "execution_count": 37,
   "metadata": {
    "colab": {
     "base_uri": "https://localhost:8080/",
     "height": 424
    },
    "executionInfo": {
     "elapsed": 905,
     "status": "ok",
     "timestamp": 1601626107451,
     "user": {
      "displayName": "Hritwik",
      "photoUrl": "",
      "userId": "09304721696602939296"
     },
     "user_tz": -330
    },
    "id": "YO3M_HujFtQf",
    "outputId": "8b0225d3-acdb-4f8e-fce7-cb55c6570a21"
   },
   "outputs": [
    {
     "data": {
      "text/html": [
       "<div>\n",
       "<style scoped>\n",
       "    .dataframe tbody tr th:only-of-type {\n",
       "        vertical-align: middle;\n",
       "    }\n",
       "\n",
       "    .dataframe tbody tr th {\n",
       "        vertical-align: top;\n",
       "    }\n",
       "\n",
       "    .dataframe thead th {\n",
       "        text-align: right;\n",
       "    }\n",
       "</style>\n",
       "<table border=\"1\" class=\"dataframe\">\n",
       "  <thead>\n",
       "    <tr style=\"text-align: right;\">\n",
       "      <th></th>\n",
       "      <th>player_id</th>\n",
       "      <th>name</th>\n",
       "      <th>nationality</th>\n",
       "      <th>position</th>\n",
       "      <th>overall</th>\n",
       "      <th>age</th>\n",
       "      <th>hits</th>\n",
       "      <th>potential</th>\n",
       "      <th>team</th>\n",
       "    </tr>\n",
       "  </thead>\n",
       "  <tbody>\n",
       "    <tr>\n",
       "      <th>13</th>\n",
       "      <td>231747</td>\n",
       "      <td>Kylian Mbappé</td>\n",
       "      <td>France</td>\n",
       "      <td>ST|RW|LW</td>\n",
       "      <td>89</td>\n",
       "      <td>21</td>\n",
       "      <td>222</td>\n",
       "      <td>95</td>\n",
       "      <td>Paris Saint-Germain</td>\n",
       "    </tr>\n",
       "    <tr>\n",
       "      <th>23</th>\n",
       "      <td>202652</td>\n",
       "      <td>Raheem Sterling</td>\n",
       "      <td>England</td>\n",
       "      <td>RW|LW</td>\n",
       "      <td>88</td>\n",
       "      <td>25</td>\n",
       "      <td>61</td>\n",
       "      <td>90</td>\n",
       "      <td>Manchester City</td>\n",
       "    </tr>\n",
       "    <tr>\n",
       "      <th>35</th>\n",
       "      <td>218667</td>\n",
       "      <td>Bernardo Silva</td>\n",
       "      <td>Portugal</td>\n",
       "      <td>CM|CAM|RW</td>\n",
       "      <td>87</td>\n",
       "      <td>25</td>\n",
       "      <td>53</td>\n",
       "      <td>90</td>\n",
       "      <td>Manchester City</td>\n",
       "    </tr>\n",
       "    <tr>\n",
       "      <th>36</th>\n",
       "      <td>212622</td>\n",
       "      <td>Joshua Kimmich</td>\n",
       "      <td>Germany</td>\n",
       "      <td>RB|CDM|CM</td>\n",
       "      <td>87</td>\n",
       "      <td>25</td>\n",
       "      <td>82</td>\n",
       "      <td>90</td>\n",
       "      <td>FC Bayern München</td>\n",
       "    </tr>\n",
       "    <tr>\n",
       "      <th>56</th>\n",
       "      <td>232363</td>\n",
       "      <td>Milan Škriniar</td>\n",
       "      <td>Slovakia</td>\n",
       "      <td>CB</td>\n",
       "      <td>86</td>\n",
       "      <td>25</td>\n",
       "      <td>62</td>\n",
       "      <td>90</td>\n",
       "      <td>Inter</td>\n",
       "    </tr>\n",
       "    <tr>\n",
       "      <th>...</th>\n",
       "      <td>...</td>\n",
       "      <td>...</td>\n",
       "      <td>...</td>\n",
       "      <td>...</td>\n",
       "      <td>...</td>\n",
       "      <td>...</td>\n",
       "      <td>...</td>\n",
       "      <td>...</td>\n",
       "      <td>...</td>\n",
       "    </tr>\n",
       "    <tr>\n",
       "      <th>17966</th>\n",
       "      <td>256417</td>\n",
       "      <td>Mads Sande</td>\n",
       "      <td>Norway</td>\n",
       "      <td>CM</td>\n",
       "      <td>56</td>\n",
       "      <td>22</td>\n",
       "      <td>0</td>\n",
       "      <td>63</td>\n",
       "      <td>FK Haugesund</td>\n",
       "    </tr>\n",
       "    <tr>\n",
       "      <th>17975</th>\n",
       "      <td>256101</td>\n",
       "      <td>Patrick Seagrist</td>\n",
       "      <td>United States</td>\n",
       "      <td>LB</td>\n",
       "      <td>56</td>\n",
       "      <td>22</td>\n",
       "      <td>0</td>\n",
       "      <td>66</td>\n",
       "      <td>New York Red Bulls</td>\n",
       "    </tr>\n",
       "    <tr>\n",
       "      <th>17976</th>\n",
       "      <td>256093</td>\n",
       "      <td>Jaime Ortíz</td>\n",
       "      <td>Ecuador</td>\n",
       "      <td>ST</td>\n",
       "      <td>56</td>\n",
       "      <td>21</td>\n",
       "      <td>0</td>\n",
       "      <td>64</td>\n",
       "      <td>Sociedad Deportiva Aucas</td>\n",
       "    </tr>\n",
       "    <tr>\n",
       "      <th>17977</th>\n",
       "      <td>256088</td>\n",
       "      <td>Michael Carcelén</td>\n",
       "      <td>Ecuador</td>\n",
       "      <td>CM</td>\n",
       "      <td>56</td>\n",
       "      <td>23</td>\n",
       "      <td>0</td>\n",
       "      <td>64</td>\n",
       "      <td>Club Deportivo El Nacional</td>\n",
       "    </tr>\n",
       "    <tr>\n",
       "      <th>17979</th>\n",
       "      <td>256073</td>\n",
       "      <td>Sergio Sulbarán</td>\n",
       "      <td>Venezuela</td>\n",
       "      <td>RW</td>\n",
       "      <td>56</td>\n",
       "      <td>22</td>\n",
       "      <td>0</td>\n",
       "      <td>62</td>\n",
       "      <td>Zamora Fútbol Club</td>\n",
       "    </tr>\n",
       "  </tbody>\n",
       "</table>\n",
       "<p>6567 rows × 9 columns</p>\n",
       "</div>"
      ],
      "text/plain": [
       "       player_id              name    nationality   position  overall  age  \\\n",
       "13        231747     Kylian Mbappé         France   ST|RW|LW       89   21   \n",
       "23        202652   Raheem Sterling        England      RW|LW       88   25   \n",
       "35        218667    Bernardo Silva       Portugal  CM|CAM|RW       87   25   \n",
       "36        212622    Joshua Kimmich        Germany  RB|CDM|CM       87   25   \n",
       "56        232363    Milan Škriniar       Slovakia         CB       86   25   \n",
       "...          ...               ...            ...        ...      ...  ...   \n",
       "17966     256417        Mads Sande         Norway         CM       56   22   \n",
       "17975     256101  Patrick Seagrist  United States         LB       56   22   \n",
       "17976     256093       Jaime Ortíz        Ecuador         ST       56   21   \n",
       "17977     256088  Michael Carcelén        Ecuador         CM       56   23   \n",
       "17979     256073   Sergio Sulbarán      Venezuela         RW       56   22   \n",
       "\n",
       "       hits  potential                         team  \n",
       "13      222         95         Paris Saint-Germain   \n",
       "23       61         90             Manchester City   \n",
       "35       53         90             Manchester City   \n",
       "36       82         90           FC Bayern München   \n",
       "56       62         90                       Inter   \n",
       "...     ...        ...                          ...  \n",
       "17966     0         63                FK Haugesund   \n",
       "17975     0         66          New York Red Bulls   \n",
       "17976     0         64    Sociedad Deportiva Aucas   \n",
       "17977     0         64  Club Deportivo El Nacional   \n",
       "17979     0         62          Zamora Fútbol Club   \n",
       "\n",
       "[6567 rows x 9 columns]"
      ]
     },
     "execution_count": 37,
     "metadata": {},
     "output_type": "execute_result"
    }
   ],
   "source": [
    "#players of age 21 to 25\n",
    "age2125_df = dataraw_df[ (dataraw_df.age == 21) | \n",
    "                         (dataraw_df.age == 22) | \n",
    "                         (dataraw_df.age == 23) |\n",
    "                         (dataraw_df.age == 24) |\n",
    "                         (dataraw_df.age == 25)\n",
    "                         \n",
    "                        ]\n",
    "age2125_df"
   ]
  },
  {
   "cell_type": "code",
   "execution_count": 38,
   "metadata": {
    "colab": {
     "base_uri": "https://localhost:8080/",
     "height": 424
    },
    "executionInfo": {
     "elapsed": 1598,
     "status": "ok",
     "timestamp": 1601626110183,
     "user": {
      "displayName": "Hritwik",
      "photoUrl": "",
      "userId": "09304721696602939296"
     },
     "user_tz": -330
    },
    "id": "fywnRSPXFtQk",
    "outputId": "867d3b2a-c45b-434e-9436-b15376359738"
   },
   "outputs": [
    {
     "data": {
      "text/html": [
       "<div>\n",
       "<style scoped>\n",
       "    .dataframe tbody tr th:only-of-type {\n",
       "        vertical-align: middle;\n",
       "    }\n",
       "\n",
       "    .dataframe tbody tr th {\n",
       "        vertical-align: top;\n",
       "    }\n",
       "\n",
       "    .dataframe thead th {\n",
       "        text-align: right;\n",
       "    }\n",
       "</style>\n",
       "<table border=\"1\" class=\"dataframe\">\n",
       "  <thead>\n",
       "    <tr style=\"text-align: right;\">\n",
       "      <th></th>\n",
       "      <th>player_id</th>\n",
       "      <th>name</th>\n",
       "      <th>nationality</th>\n",
       "      <th>position</th>\n",
       "      <th>overall</th>\n",
       "      <th>age</th>\n",
       "      <th>hits</th>\n",
       "      <th>potential</th>\n",
       "      <th>team</th>\n",
       "    </tr>\n",
       "  </thead>\n",
       "  <tbody>\n",
       "    <tr>\n",
       "      <th>2</th>\n",
       "      <td>190871</td>\n",
       "      <td>Neymar Jr</td>\n",
       "      <td>Brazil</td>\n",
       "      <td>CAM|LW</td>\n",
       "      <td>92</td>\n",
       "      <td>28</td>\n",
       "      <td>186</td>\n",
       "      <td>92</td>\n",
       "      <td>Paris Saint-Germain</td>\n",
       "    </tr>\n",
       "    <tr>\n",
       "      <th>3</th>\n",
       "      <td>203376</td>\n",
       "      <td>Virgil van Dijk</td>\n",
       "      <td>Netherlands</td>\n",
       "      <td>CB</td>\n",
       "      <td>91</td>\n",
       "      <td>29</td>\n",
       "      <td>127</td>\n",
       "      <td>92</td>\n",
       "      <td>Liverpool</td>\n",
       "    </tr>\n",
       "    <tr>\n",
       "      <th>4</th>\n",
       "      <td>200389</td>\n",
       "      <td>Jan Oblak</td>\n",
       "      <td>Slovenia</td>\n",
       "      <td>GK</td>\n",
       "      <td>91</td>\n",
       "      <td>27</td>\n",
       "      <td>47</td>\n",
       "      <td>93</td>\n",
       "      <td>Atlético Madrid</td>\n",
       "    </tr>\n",
       "    <tr>\n",
       "      <th>5</th>\n",
       "      <td>192985</td>\n",
       "      <td>Kevin De Bruyne</td>\n",
       "      <td>Belgium</td>\n",
       "      <td>CM|CAM</td>\n",
       "      <td>91</td>\n",
       "      <td>29</td>\n",
       "      <td>119</td>\n",
       "      <td>91</td>\n",
       "      <td>Manchester City</td>\n",
       "    </tr>\n",
       "    <tr>\n",
       "      <th>7</th>\n",
       "      <td>183277</td>\n",
       "      <td>Eden Hazard</td>\n",
       "      <td>Belgium</td>\n",
       "      <td>ST|LW</td>\n",
       "      <td>91</td>\n",
       "      <td>29</td>\n",
       "      <td>66</td>\n",
       "      <td>91</td>\n",
       "      <td>Real Madrid</td>\n",
       "    </tr>\n",
       "    <tr>\n",
       "      <th>...</th>\n",
       "      <td>...</td>\n",
       "      <td>...</td>\n",
       "      <td>...</td>\n",
       "      <td>...</td>\n",
       "      <td>...</td>\n",
       "      <td>...</td>\n",
       "      <td>...</td>\n",
       "      <td>...</td>\n",
       "      <td>...</td>\n",
       "    </tr>\n",
       "    <tr>\n",
       "      <th>17954</th>\n",
       "      <td>203372</td>\n",
       "      <td>Alex Cooper</td>\n",
       "      <td>Scotland</td>\n",
       "      <td>LB|LM|CM</td>\n",
       "      <td>57</td>\n",
       "      <td>28</td>\n",
       "      <td>0</td>\n",
       "      <td>57</td>\n",
       "      <td>Sligo Rovers</td>\n",
       "    </tr>\n",
       "    <tr>\n",
       "      <th>17955</th>\n",
       "      <td>199007</td>\n",
       "      <td>Mark McGinley</td>\n",
       "      <td>Republic of Ireland</td>\n",
       "      <td>GK</td>\n",
       "      <td>57</td>\n",
       "      <td>30</td>\n",
       "      <td>0</td>\n",
       "      <td>58</td>\n",
       "      <td>Finn Harps</td>\n",
       "    </tr>\n",
       "    <tr>\n",
       "      <th>17956</th>\n",
       "      <td>198487</td>\n",
       "      <td>Luka Mijaljevic</td>\n",
       "      <td>Sweden</td>\n",
       "      <td>ST</td>\n",
       "      <td>57</td>\n",
       "      <td>29</td>\n",
       "      <td>0</td>\n",
       "      <td>57</td>\n",
       "      <td>AFC Eskilstuna</td>\n",
       "    </tr>\n",
       "    <tr>\n",
       "      <th>17957</th>\n",
       "      <td>198485</td>\n",
       "      <td>Shane McEleney</td>\n",
       "      <td>Republic of Ireland</td>\n",
       "      <td>CB</td>\n",
       "      <td>57</td>\n",
       "      <td>29</td>\n",
       "      <td>0</td>\n",
       "      <td>58</td>\n",
       "      <td>Finn Harps</td>\n",
       "    </tr>\n",
       "    <tr>\n",
       "      <th>17967</th>\n",
       "      <td>256329</td>\n",
       "      <td>Hassan Al Shamrani</td>\n",
       "      <td>Saudi Arabia</td>\n",
       "      <td>CB|CDM</td>\n",
       "      <td>56</td>\n",
       "      <td>29</td>\n",
       "      <td>0</td>\n",
       "      <td>57</td>\n",
       "      <td>Damac FC</td>\n",
       "    </tr>\n",
       "  </tbody>\n",
       "</table>\n",
       "<p>6170 rows × 9 columns</p>\n",
       "</div>"
      ],
      "text/plain": [
       "       player_id                name          nationality  position  overall  \\\n",
       "2         190871           Neymar Jr               Brazil    CAM|LW       92   \n",
       "3         203376     Virgil van Dijk          Netherlands        CB       91   \n",
       "4         200389           Jan Oblak             Slovenia        GK       91   \n",
       "5         192985     Kevin De Bruyne              Belgium    CM|CAM       91   \n",
       "7         183277         Eden Hazard              Belgium     ST|LW       91   \n",
       "...          ...                 ...                  ...       ...      ...   \n",
       "17954     203372         Alex Cooper             Scotland  LB|LM|CM       57   \n",
       "17955     199007       Mark McGinley  Republic of Ireland        GK       57   \n",
       "17956     198487     Luka Mijaljevic               Sweden        ST       57   \n",
       "17957     198485      Shane McEleney  Republic of Ireland        CB       57   \n",
       "17967     256329  Hassan Al Shamrani         Saudi Arabia    CB|CDM       56   \n",
       "\n",
       "       age  hits  potential                  team  \n",
       "2       28   186         92  Paris Saint-Germain   \n",
       "3       29   127         92            Liverpool   \n",
       "4       27    47         93      Atlético Madrid   \n",
       "5       29   119         91      Manchester City   \n",
       "7       29    66         91          Real Madrid   \n",
       "...    ...   ...        ...                   ...  \n",
       "17954   28     0         57         Sligo Rovers   \n",
       "17955   30     0         58           Finn Harps   \n",
       "17956   29     0         57       AFC Eskilstuna   \n",
       "17957   29     0         58           Finn Harps   \n",
       "17967   29     0         57             Damac FC   \n",
       "\n",
       "[6170 rows x 9 columns]"
      ]
     },
     "execution_count": 38,
     "metadata": {},
     "output_type": "execute_result"
    }
   ],
   "source": [
    "#players of age 26 to 30 \n",
    "age2630_df = dataraw_df[(dataraw_df.age == 26) | \n",
    "                         (dataraw_df.age == 27) | \n",
    "                         (dataraw_df.age == 28) | \n",
    "                         (dataraw_df.age == 29) |\n",
    "                         (dataraw_df.age == 30) \n",
    "                         \n",
    "                        ]\n",
    "age2630_df"
   ]
  },
  {
   "cell_type": "code",
   "execution_count": 39,
   "metadata": {
    "colab": {
     "base_uri": "https://localhost:8080/",
     "height": 424
    },
    "executionInfo": {
     "elapsed": 1469,
     "status": "ok",
     "timestamp": 1601626112824,
     "user": {
      "displayName": "Hritwik",
      "photoUrl": "",
      "userId": "09304721696602939296"
     },
     "user_tz": -330
    },
    "id": "NnQAtfFMFtQm",
    "outputId": "3043af42-aa72-48b6-bb9f-272701d87934"
   },
   "outputs": [
    {
     "data": {
      "text/html": [
       "<div>\n",
       "<style scoped>\n",
       "    .dataframe tbody tr th:only-of-type {\n",
       "        vertical-align: middle;\n",
       "    }\n",
       "\n",
       "    .dataframe tbody tr th {\n",
       "        vertical-align: top;\n",
       "    }\n",
       "\n",
       "    .dataframe thead th {\n",
       "        text-align: right;\n",
       "    }\n",
       "</style>\n",
       "<table border=\"1\" class=\"dataframe\">\n",
       "  <thead>\n",
       "    <tr style=\"text-align: right;\">\n",
       "      <th></th>\n",
       "      <th>player_id</th>\n",
       "      <th>name</th>\n",
       "      <th>nationality</th>\n",
       "      <th>position</th>\n",
       "      <th>overall</th>\n",
       "      <th>age</th>\n",
       "      <th>hits</th>\n",
       "      <th>potential</th>\n",
       "      <th>team</th>\n",
       "    </tr>\n",
       "  </thead>\n",
       "  <tbody>\n",
       "    <tr>\n",
       "      <th>0</th>\n",
       "      <td>158023</td>\n",
       "      <td>Lionel Messi</td>\n",
       "      <td>Argentina</td>\n",
       "      <td>ST|CF|RW</td>\n",
       "      <td>94</td>\n",
       "      <td>33</td>\n",
       "      <td>299</td>\n",
       "      <td>94</td>\n",
       "      <td>FC Barcelona</td>\n",
       "    </tr>\n",
       "    <tr>\n",
       "      <th>1</th>\n",
       "      <td>20801</td>\n",
       "      <td>Cristiano Ronaldo</td>\n",
       "      <td>Portugal</td>\n",
       "      <td>ST|LW</td>\n",
       "      <td>93</td>\n",
       "      <td>35</td>\n",
       "      <td>276</td>\n",
       "      <td>93</td>\n",
       "      <td>Juventus</td>\n",
       "    </tr>\n",
       "    <tr>\n",
       "      <th>6</th>\n",
       "      <td>188545</td>\n",
       "      <td>Robert Lewandowski</td>\n",
       "      <td>Poland</td>\n",
       "      <td>ST</td>\n",
       "      <td>91</td>\n",
       "      <td>31</td>\n",
       "      <td>89</td>\n",
       "      <td>91</td>\n",
       "      <td>FC Bayern München</td>\n",
       "    </tr>\n",
       "    <tr>\n",
       "      <th>12</th>\n",
       "      <td>153079</td>\n",
       "      <td>Sergio Agüero</td>\n",
       "      <td>Argentina</td>\n",
       "      <td>ST</td>\n",
       "      <td>90</td>\n",
       "      <td>32</td>\n",
       "      <td>50</td>\n",
       "      <td>90</td>\n",
       "      <td>Manchester City</td>\n",
       "    </tr>\n",
       "    <tr>\n",
       "      <th>18</th>\n",
       "      <td>177003</td>\n",
       "      <td>Luka Modric</td>\n",
       "      <td>Croatia</td>\n",
       "      <td>CM</td>\n",
       "      <td>89</td>\n",
       "      <td>34</td>\n",
       "      <td>31</td>\n",
       "      <td>89</td>\n",
       "      <td>Real Madrid</td>\n",
       "    </tr>\n",
       "    <tr>\n",
       "      <th>...</th>\n",
       "      <td>...</td>\n",
       "      <td>...</td>\n",
       "      <td>...</td>\n",
       "      <td>...</td>\n",
       "      <td>...</td>\n",
       "      <td>...</td>\n",
       "      <td>...</td>\n",
       "      <td>...</td>\n",
       "      <td>...</td>\n",
       "    </tr>\n",
       "    <tr>\n",
       "      <th>17928</th>\n",
       "      <td>224670</td>\n",
       "      <td>Qiao Wei</td>\n",
       "      <td>China PR</td>\n",
       "      <td>CB</td>\n",
       "      <td>57</td>\n",
       "      <td>33</td>\n",
       "      <td>0</td>\n",
       "      <td>57</td>\n",
       "      <td>Shenzen FC</td>\n",
       "    </tr>\n",
       "    <tr>\n",
       "      <th>17930</th>\n",
       "      <td>224628</td>\n",
       "      <td>Wang Dalong</td>\n",
       "      <td>China PR</td>\n",
       "      <td>CB</td>\n",
       "      <td>57</td>\n",
       "      <td>31</td>\n",
       "      <td>0</td>\n",
       "      <td>57</td>\n",
       "      <td>Shenzen FC</td>\n",
       "    </tr>\n",
       "    <tr>\n",
       "      <th>17942</th>\n",
       "      <td>222182</td>\n",
       "      <td>Zhu Xiaogang</td>\n",
       "      <td>China PR</td>\n",
       "      <td>CDM|CM</td>\n",
       "      <td>57</td>\n",
       "      <td>32</td>\n",
       "      <td>0</td>\n",
       "      <td>57</td>\n",
       "      <td>Dalian YiFang FC</td>\n",
       "    </tr>\n",
       "    <tr>\n",
       "      <th>17958</th>\n",
       "      <td>182352</td>\n",
       "      <td>Li Benjian</td>\n",
       "      <td>China PR</td>\n",
       "      <td>LM|CM|CAM</td>\n",
       "      <td>57</td>\n",
       "      <td>34</td>\n",
       "      <td>1</td>\n",
       "      <td>57</td>\n",
       "      <td>Henan Jianye FC</td>\n",
       "    </tr>\n",
       "    <tr>\n",
       "      <th>17959</th>\n",
       "      <td>175603</td>\n",
       "      <td>Rene Gilmartin</td>\n",
       "      <td>Republic of Ireland</td>\n",
       "      <td>GK</td>\n",
       "      <td>57</td>\n",
       "      <td>33</td>\n",
       "      <td>0</td>\n",
       "      <td>57</td>\n",
       "      <td>Bristol City</td>\n",
       "    </tr>\n",
       "  </tbody>\n",
       "</table>\n",
       "<p>2996 rows × 9 columns</p>\n",
       "</div>"
      ],
      "text/plain": [
       "       player_id                name          nationality   position  overall  \\\n",
       "0         158023        Lionel Messi            Argentina   ST|CF|RW       94   \n",
       "1          20801   Cristiano Ronaldo             Portugal      ST|LW       93   \n",
       "6         188545  Robert Lewandowski               Poland         ST       91   \n",
       "12        153079       Sergio Agüero            Argentina         ST       90   \n",
       "18        177003         Luka Modric              Croatia         CM       89   \n",
       "...          ...                 ...                  ...        ...      ...   \n",
       "17928     224670            Qiao Wei             China PR         CB       57   \n",
       "17930     224628         Wang Dalong             China PR         CB       57   \n",
       "17942     222182        Zhu Xiaogang             China PR     CDM|CM       57   \n",
       "17958     182352          Li Benjian             China PR  LM|CM|CAM       57   \n",
       "17959     175603      Rene Gilmartin  Republic of Ireland         GK       57   \n",
       "\n",
       "       age  hits  potential                team  \n",
       "0       33   299         94       FC Barcelona   \n",
       "1       35   276         93           Juventus   \n",
       "6       31    89         91  FC Bayern München   \n",
       "12      32    50         90    Manchester City   \n",
       "18      34    31         89        Real Madrid   \n",
       "...    ...   ...        ...                 ...  \n",
       "17928   33     0         57         Shenzen FC   \n",
       "17930   31     0         57         Shenzen FC   \n",
       "17942   32     0         57   Dalian YiFang FC   \n",
       "17958   34     1         57    Henan Jianye FC   \n",
       "17959   33     0         57       Bristol City   \n",
       "\n",
       "[2996 rows x 9 columns]"
      ]
     },
     "execution_count": 39,
     "metadata": {},
     "output_type": "execute_result"
    }
   ],
   "source": [
    "#players of age 31 to 36\n",
    "age3135_df = dataraw_df[(dataraw_df.age == 31) | \n",
    "                         (dataraw_df.age == 32) | \n",
    "                         (dataraw_df.age == 33) | \n",
    "                         (dataraw_df.age == 34) |\n",
    "                         (dataraw_df.age == 35) \n",
    "                         \n",
    "                        ]\n",
    "age3135_df"
   ]
  },
  {
   "cell_type": "code",
   "execution_count": 40,
   "metadata": {
    "executionInfo": {
     "elapsed": 13975,
     "status": "aborted",
     "timestamp": 1601625865839,
     "user": {
      "displayName": "Hritwik",
      "photoUrl": "",
      "userId": "09304721696602939296"
     },
     "user_tz": -330
    },
    "id": "0gcd1rVxFtQp"
   },
   "outputs": [
    {
     "data": {
      "image/png": "[encoded data removed]",
      "text/plain": [
       "<Figure size 432x288 with 1 Axes>"
      ]
     },
     "metadata": {
      "needs_background": "light"
     },
     "output_type": "display_data"
    }
   ],
   "source": [
    "#countplot denoting the number of players in each age  \n",
    "sns.countplot(x=dataraw_df.age)\n",
    "plt.xticks(rotation=90);\n"
   ]
  },
  {
   "cell_type": "code",
   "execution_count": 41,
   "metadata": {
    "executionInfo": {
     "elapsed": 13975,
     "status": "aborted",
     "timestamp": 1601625865841,
     "user": {
      "displayName": "Hritwik",
      "photoUrl": "",
      "userId": "09304721696602939296"
     },
     "user_tz": -330
    },
    "id": "UZhn1VT8FtQs"
   },
   "outputs": [
    {
     "name": "stderr",
     "output_type": "stream",
     "text": [
      "C:\\Users\\shimu\\anaconda3\\lib\\site-packages\\seaborn\\_decorators.py:36: FutureWarning: Pass the following variables as keyword args: x, y. From version 0.12, the only valid positional argument will be `data`, and passing other arguments without an explicit keyword will result in an error or misinterpretation.\n",
      "  warnings.warn(\n"
     ]
    },
    {
     "data": {
      "image/png": "[encoded data removed]",
      "text/plain": [
       "<Figure size 720x576 with 1 Axes>"
      ]
     },
     "metadata": {
      "needs_background": "light"
     },
     "output_type": "display_data"
    }
   ],
   "source": [
    "#Scatterplot of overall vs age \n",
    "plt.figure(figsize=(10,8))\n",
    "plt.title('Age vs Overall Rating')\n",
    "\n",
    "sns.scatterplot(dataraw_df.age, dataraw_df.overall);\n",
    "\n"
   ]
  },
  {
   "cell_type": "markdown",
   "metadata": {
    "id": "ZoLPhvkfFtQx"
   },
   "source": [
    "###### From the scatterplot we can observe many things like : \n",
    "1. There are no players under age 20 who have a rating of more than 80. \n",
    "2. Players with 90 + rating are in the age goup of 27 to 35. \n",
    "3. Between age 20 to 40 and rating 55 to 85 there is an almost same overall distribution of players."
   ]
  },
  {
   "cell_type": "code",
   "execution_count": 42,
   "metadata": {
    "executionInfo": {
     "elapsed": 13973,
     "status": "aborted",
     "timestamp": 1601625865842,
     "user": {
      "displayName": "Hritwik",
      "photoUrl": "",
      "userId": "09304721696602939296"
     },
     "user_tz": -330
    },
    "id": "QMLjUA-qFtQy"
   },
   "outputs": [],
   "source": [
    "import jovian"
   ]
  },
  {
   "cell_type": "code",
   "execution_count": 43,
   "metadata": {
    "executionInfo": {
     "elapsed": 13966,
     "status": "aborted",
     "timestamp": 1601625865843,
     "user": {
      "displayName": "Hritwik",
      "photoUrl": "",
      "userId": "09304721696602939296"
     },
     "user_tz": -330
    },
    "id": "wQjIO1IfFtQ7"
   },
   "outputs": [
    {
     "data": {
      "application/javascript": [
       "window.require && require([\"base/js/namespace\"],function(Jupyter){Jupyter.notebook.save_checkpoint()})"
      ],
      "text/plain": [
       "<IPython.core.display.Javascript object>"
      ]
     },
     "metadata": {},
     "output_type": "display_data"
    },
    {
     "name": "stdout",
     "output_type": "stream",
     "text": [
      "[jovian] Attempting to save notebook..\n",
      "[jovian] Updating notebook \"sayakpm3/fifa-21-players-data-analysis-in-python1\" on https://jovian.ml/\n",
      "[jovian] Uploading notebook..\n",
      "[jovian] Capturing environment..\n",
      "[jovian] Committed successfully! https://jovian.ml/sayakpm3/fifa-21-players-data-analysis-in-python1\n"
     ]
    },
    {
     "data": {
      "text/plain": [
       "'https://jovian.ml/sayakpm3/fifa-21-players-data-analysis-in-python1'"
      ]
     },
     "execution_count": 43,
     "metadata": {},
     "output_type": "execute_result"
    }
   ],
   "source": [
    "jovian.commit()"
   ]
  },
  {
   "cell_type": "markdown",
   "metadata": {
    "id": "U_oUWvieFtQ-"
   },
   "source": [
    "## Asking and Answering Questions\n",
    "\n",
    "Let's ask some specific questions related to Fifa 21, and try to answer them using data frame operations and interesting visualizations."
   ]
  },
  {
   "cell_type": "markdown",
   "metadata": {
    "id": "oXT4S_pZFtQ_"
   },
   "source": [
    "### Q: Who are the top 10 players with the highest overall rating in Fifa 21 ?"
   ]
  },
  {
   "cell_type": "markdown",
   "metadata": {
    "id": "4CHjmziyFtRA"
   },
   "source": [
    "The original dataset is sorted in descending order of overall rating, so to find the top 10 players with highest overall rating we don't require to sort the dataset again and simply use the .head() method to find the top 10 players."
   ]
  },
  {
   "cell_type": "code",
   "execution_count": 44,
   "metadata": {
    "id": "k_ZFgUGDFtRC"
   },
   "outputs": [
    {
     "data": {
      "text/html": [
       "<div>\n",
       "<style scoped>\n",
       "    .dataframe tbody tr th:only-of-type {\n",
       "        vertical-align: middle;\n",
       "    }\n",
       "\n",
       "    .dataframe tbody tr th {\n",
       "        vertical-align: top;\n",
       "    }\n",
       "\n",
       "    .dataframe thead th {\n",
       "        text-align: right;\n",
       "    }\n",
       "</style>\n",
       "<table border=\"1\" class=\"dataframe\">\n",
       "  <thead>\n",
       "    <tr style=\"text-align: right;\">\n",
       "      <th></th>\n",
       "      <th>name</th>\n",
       "      <th>age</th>\n",
       "      <th>overall</th>\n",
       "    </tr>\n",
       "  </thead>\n",
       "  <tbody>\n",
       "    <tr>\n",
       "      <th>0</th>\n",
       "      <td>Lionel Messi</td>\n",
       "      <td>33</td>\n",
       "      <td>94</td>\n",
       "    </tr>\n",
       "    <tr>\n",
       "      <th>1</th>\n",
       "      <td>Cristiano Ronaldo</td>\n",
       "      <td>35</td>\n",
       "      <td>93</td>\n",
       "    </tr>\n",
       "    <tr>\n",
       "      <th>2</th>\n",
       "      <td>Neymar Jr</td>\n",
       "      <td>28</td>\n",
       "      <td>92</td>\n",
       "    </tr>\n",
       "    <tr>\n",
       "      <th>3</th>\n",
       "      <td>Virgil van Dijk</td>\n",
       "      <td>29</td>\n",
       "      <td>91</td>\n",
       "    </tr>\n",
       "    <tr>\n",
       "      <th>4</th>\n",
       "      <td>Jan Oblak</td>\n",
       "      <td>27</td>\n",
       "      <td>91</td>\n",
       "    </tr>\n",
       "    <tr>\n",
       "      <th>5</th>\n",
       "      <td>Kevin De Bruyne</td>\n",
       "      <td>29</td>\n",
       "      <td>91</td>\n",
       "    </tr>\n",
       "    <tr>\n",
       "      <th>6</th>\n",
       "      <td>Robert Lewandowski</td>\n",
       "      <td>31</td>\n",
       "      <td>91</td>\n",
       "    </tr>\n",
       "    <tr>\n",
       "      <th>7</th>\n",
       "      <td>Eden Hazard</td>\n",
       "      <td>29</td>\n",
       "      <td>91</td>\n",
       "    </tr>\n",
       "    <tr>\n",
       "      <th>8</th>\n",
       "      <td>Alisson</td>\n",
       "      <td>27</td>\n",
       "      <td>90</td>\n",
       "    </tr>\n",
       "    <tr>\n",
       "      <th>9</th>\n",
       "      <td>Mohamed Salah</td>\n",
       "      <td>28</td>\n",
       "      <td>90</td>\n",
       "    </tr>\n",
       "  </tbody>\n",
       "</table>\n",
       "</div>"
      ],
      "text/plain": [
       "                 name  age  overall\n",
       "0        Lionel Messi   33       94\n",
       "1   Cristiano Ronaldo   35       93\n",
       "2           Neymar Jr   28       92\n",
       "3     Virgil van Dijk   29       91\n",
       "4           Jan Oblak   27       91\n",
       "5     Kevin De Bruyne   29       91\n",
       "6  Robert Lewandowski   31       91\n",
       "7         Eden Hazard   29       91\n",
       "8             Alisson   27       90\n",
       "9       Mohamed Salah   28       90"
      ]
     },
     "execution_count": 44,
     "metadata": {},
     "output_type": "execute_result"
    }
   ],
   "source": [
    "top10_df = dataraw_df[['name', 'age', 'overall']]\n",
    "top10_df.head(10)"
   ]
  },
  {
   "cell_type": "markdown",
   "metadata": {
    "id": "ZgChST5xFtRF"
   },
   "source": [
    "There we go according to the overall rating Lionel Messi is at the top with a of 94 rating and Mohamed Salah is 10th with a rating of 90 in Fifa 21."
   ]
  },
  {
   "cell_type": "markdown",
   "metadata": {
    "id": "0vqHYz3yFtRG"
   },
   "source": [
    "### Q: Who are the top 5 players having the highest rating in each category (forwards, midfielders, defenders, goalkeepers) in Fifa 21 ?"
   ]
  },
  {
   "cell_type": "markdown",
   "metadata": {
    "id": "agVnkbQBFtRH"
   },
   "source": [
    "We will use the already created dataframes like forwards_df & midfielders_df, alongwith .head() method to get the top 10 players of each category."
   ]
  },
  {
   "cell_type": "markdown",
   "metadata": {
    "id": "uojuohkFFtRH"
   },
   "source": [
    "###### Forwards"
   ]
  },
  {
   "cell_type": "code",
   "execution_count": 45,
   "metadata": {
    "id": "G9fas5uMFtRK",
    "scrolled": true
   },
   "outputs": [
    {
     "data": {
      "text/html": [
       "<div>\n",
       "<style scoped>\n",
       "    .dataframe tbody tr th:only-of-type {\n",
       "        vertical-align: middle;\n",
       "    }\n",
       "\n",
       "    .dataframe tbody tr th {\n",
       "        vertical-align: top;\n",
       "    }\n",
       "\n",
       "    .dataframe thead th {\n",
       "        text-align: right;\n",
       "    }\n",
       "</style>\n",
       "<table border=\"1\" class=\"dataframe\">\n",
       "  <thead>\n",
       "    <tr style=\"text-align: right;\">\n",
       "      <th></th>\n",
       "      <th>name</th>\n",
       "      <th>age</th>\n",
       "      <th>overall</th>\n",
       "    </tr>\n",
       "  </thead>\n",
       "  <tbody>\n",
       "    <tr>\n",
       "      <th>0</th>\n",
       "      <td>Lionel Messi</td>\n",
       "      <td>33</td>\n",
       "      <td>94</td>\n",
       "    </tr>\n",
       "    <tr>\n",
       "      <th>1</th>\n",
       "      <td>Cristiano Ronaldo</td>\n",
       "      <td>35</td>\n",
       "      <td>93</td>\n",
       "    </tr>\n",
       "    <tr>\n",
       "      <th>2</th>\n",
       "      <td>Neymar Jr</td>\n",
       "      <td>28</td>\n",
       "      <td>92</td>\n",
       "    </tr>\n",
       "    <tr>\n",
       "      <th>6</th>\n",
       "      <td>Robert Lewandowski</td>\n",
       "      <td>31</td>\n",
       "      <td>91</td>\n",
       "    </tr>\n",
       "    <tr>\n",
       "      <th>7</th>\n",
       "      <td>Eden Hazard</td>\n",
       "      <td>29</td>\n",
       "      <td>91</td>\n",
       "    </tr>\n",
       "    <tr>\n",
       "      <th>9</th>\n",
       "      <td>Mohamed Salah</td>\n",
       "      <td>28</td>\n",
       "      <td>90</td>\n",
       "    </tr>\n",
       "    <tr>\n",
       "      <th>10</th>\n",
       "      <td>Sadio Mané</td>\n",
       "      <td>28</td>\n",
       "      <td>90</td>\n",
       "    </tr>\n",
       "    <tr>\n",
       "      <th>12</th>\n",
       "      <td>Sergio Agüero</td>\n",
       "      <td>32</td>\n",
       "      <td>90</td>\n",
       "    </tr>\n",
       "    <tr>\n",
       "      <th>13</th>\n",
       "      <td>Kylian Mbappé</td>\n",
       "      <td>21</td>\n",
       "      <td>89</td>\n",
       "    </tr>\n",
       "    <tr>\n",
       "      <th>15</th>\n",
       "      <td>Harry Kane</td>\n",
       "      <td>27</td>\n",
       "      <td>89</td>\n",
       "    </tr>\n",
       "  </tbody>\n",
       "</table>\n",
       "</div>"
      ],
      "text/plain": [
       "                  name  age  overall\n",
       "0         Lionel Messi   33       94\n",
       "1    Cristiano Ronaldo   35       93\n",
       "2            Neymar Jr   28       92\n",
       "6   Robert Lewandowski   31       91\n",
       "7          Eden Hazard   29       91\n",
       "9        Mohamed Salah   28       90\n",
       "10          Sadio Mané   28       90\n",
       "12       Sergio Agüero   32       90\n",
       "13       Kylian Mbappé   21       89\n",
       "15          Harry Kane   27       89"
      ]
     },
     "execution_count": 45,
     "metadata": {},
     "output_type": "execute_result"
    }
   ],
   "source": [
    "top10forward_df = forwards_df[['name', 'age', 'overall']]\n",
    "top10forward_df.head(10)"
   ]
  },
  {
   "cell_type": "markdown",
   "metadata": {
    "id": "VDHze16_FtRQ"
   },
   "source": [
    "From the above dataframe we can observe that, 'Lionel Messi' is ranked as the best forward, followed by 'Cristiano Ronaldo' and 'Neymar Jr' as the 2nd and 3rd best respectively, while 'Harry Kane' is ranked as the 10th best among the forwards in Fifa 21."
   ]
  },
  {
   "cell_type": "markdown",
   "metadata": {
    "id": "wuQVIS2pFtRS"
   },
   "source": [
    "###### Midfielders"
   ]
  },
  {
   "cell_type": "code",
   "execution_count": 46,
   "metadata": {
    "id": "JWzGo8NBFtRS"
   },
   "outputs": [
    {
     "data": {
      "text/html": [
       "<div>\n",
       "<style scoped>\n",
       "    .dataframe tbody tr th:only-of-type {\n",
       "        vertical-align: middle;\n",
       "    }\n",
       "\n",
       "    .dataframe tbody tr th {\n",
       "        vertical-align: top;\n",
       "    }\n",
       "\n",
       "    .dataframe thead th {\n",
       "        text-align: right;\n",
       "    }\n",
       "</style>\n",
       "<table border=\"1\" class=\"dataframe\">\n",
       "  <thead>\n",
       "    <tr style=\"text-align: right;\">\n",
       "      <th></th>\n",
       "      <th>name</th>\n",
       "      <th>age</th>\n",
       "      <th>overall</th>\n",
       "    </tr>\n",
       "  </thead>\n",
       "  <tbody>\n",
       "    <tr>\n",
       "      <th>5</th>\n",
       "      <td>Kevin De Bruyne</td>\n",
       "      <td>29</td>\n",
       "      <td>91</td>\n",
       "    </tr>\n",
       "    <tr>\n",
       "      <th>14</th>\n",
       "      <td>N'Golo Kanté</td>\n",
       "      <td>29</td>\n",
       "      <td>89</td>\n",
       "    </tr>\n",
       "    <tr>\n",
       "      <th>17</th>\n",
       "      <td>Toni Kroos</td>\n",
       "      <td>30</td>\n",
       "      <td>89</td>\n",
       "    </tr>\n",
       "    <tr>\n",
       "      <th>18</th>\n",
       "      <td>Luka Modric</td>\n",
       "      <td>34</td>\n",
       "      <td>89</td>\n",
       "    </tr>\n",
       "    <tr>\n",
       "      <th>26</th>\n",
       "      <td>Casemiro</td>\n",
       "      <td>28</td>\n",
       "      <td>88</td>\n",
       "    </tr>\n",
       "    <tr>\n",
       "      <th>29</th>\n",
       "      <td>Sergio Busquets</td>\n",
       "      <td>32</td>\n",
       "      <td>88</td>\n",
       "    </tr>\n",
       "    <tr>\n",
       "      <th>40</th>\n",
       "      <td>Marco Verratti</td>\n",
       "      <td>27</td>\n",
       "      <td>87</td>\n",
       "    </tr>\n",
       "    <tr>\n",
       "      <th>41</th>\n",
       "      <td>Paul Pogba</td>\n",
       "      <td>27</td>\n",
       "      <td>87</td>\n",
       "    </tr>\n",
       "    <tr>\n",
       "      <th>44</th>\n",
       "      <td>Christian Eriksen</td>\n",
       "      <td>28</td>\n",
       "      <td>87</td>\n",
       "    </tr>\n",
       "    <tr>\n",
       "      <th>45</th>\n",
       "      <td>Parejo</td>\n",
       "      <td>31</td>\n",
       "      <td>87</td>\n",
       "    </tr>\n",
       "  </tbody>\n",
       "</table>\n",
       "</div>"
      ],
      "text/plain": [
       "                 name  age  overall\n",
       "5     Kevin De Bruyne   29       91\n",
       "14       N'Golo Kanté   29       89\n",
       "17         Toni Kroos   30       89\n",
       "18        Luka Modric   34       89\n",
       "26           Casemiro   28       88\n",
       "29    Sergio Busquets   32       88\n",
       "40     Marco Verratti   27       87\n",
       "41         Paul Pogba   27       87\n",
       "44  Christian Eriksen   28       87\n",
       "45             Parejo   31       87"
      ]
     },
     "execution_count": 46,
     "metadata": {},
     "output_type": "execute_result"
    }
   ],
   "source": [
    "top10midfielders_df = midfielders_df[['name', 'age', 'overall']]\n",
    "top10midfielders_df.head(10)"
   ]
  },
  {
   "cell_type": "markdown",
   "metadata": {
    "id": "qkGx05iyFtRW"
   },
   "source": [
    "From the above dataframe we can observe that, 'Kevin De Bruyne' is ranked as the best midfielder, followed by 'N'Golo Kanté' and 'Toni Kroos' as the 2nd and 3rd best respectively, while 'Parejo' is ranked as the 10th best among the midfielders in Fifa 21."
   ]
  },
  {
   "cell_type": "markdown",
   "metadata": {
    "id": "XpUZ19A4FtRW"
   },
   "source": [
    "###### Defenders"
   ]
  },
  {
   "cell_type": "code",
   "execution_count": 47,
   "metadata": {
    "id": "Z5yY7NaGFtRX"
   },
   "outputs": [
    {
     "data": {
      "text/html": [
       "<div>\n",
       "<style scoped>\n",
       "    .dataframe tbody tr th:only-of-type {\n",
       "        vertical-align: middle;\n",
       "    }\n",
       "\n",
       "    .dataframe tbody tr th {\n",
       "        vertical-align: top;\n",
       "    }\n",
       "\n",
       "    .dataframe thead th {\n",
       "        text-align: right;\n",
       "    }\n",
       "</style>\n",
       "<table border=\"1\" class=\"dataframe\">\n",
       "  <thead>\n",
       "    <tr style=\"text-align: right;\">\n",
       "      <th></th>\n",
       "      <th>name</th>\n",
       "      <th>age</th>\n",
       "      <th>overall</th>\n",
       "    </tr>\n",
       "  </thead>\n",
       "  <tbody>\n",
       "    <tr>\n",
       "      <th>3</th>\n",
       "      <td>Virgil van Dijk</td>\n",
       "      <td>29</td>\n",
       "      <td>91</td>\n",
       "    </tr>\n",
       "    <tr>\n",
       "      <th>21</th>\n",
       "      <td>Sergio Ramos</td>\n",
       "      <td>34</td>\n",
       "      <td>89</td>\n",
       "    </tr>\n",
       "    <tr>\n",
       "      <th>25</th>\n",
       "      <td>Kalidou Koulibaly</td>\n",
       "      <td>29</td>\n",
       "      <td>88</td>\n",
       "    </tr>\n",
       "    <tr>\n",
       "      <th>33</th>\n",
       "      <td>Piqué</td>\n",
       "      <td>33</td>\n",
       "      <td>88</td>\n",
       "    </tr>\n",
       "    <tr>\n",
       "      <th>34</th>\n",
       "      <td>Giorgio Chiellini</td>\n",
       "      <td>35</td>\n",
       "      <td>88</td>\n",
       "    </tr>\n",
       "    <tr>\n",
       "      <th>37</th>\n",
       "      <td>Aymeric Laporte</td>\n",
       "      <td>26</td>\n",
       "      <td>87</td>\n",
       "    </tr>\n",
       "    <tr>\n",
       "      <th>49</th>\n",
       "      <td>Diego Godín</td>\n",
       "      <td>34</td>\n",
       "      <td>87</td>\n",
       "    </tr>\n",
       "    <tr>\n",
       "      <th>50</th>\n",
       "      <td>Mats Hummels</td>\n",
       "      <td>31</td>\n",
       "      <td>87</td>\n",
       "    </tr>\n",
       "    <tr>\n",
       "      <th>54</th>\n",
       "      <td>Thiago Silva</td>\n",
       "      <td>35</td>\n",
       "      <td>87</td>\n",
       "    </tr>\n",
       "    <tr>\n",
       "      <th>56</th>\n",
       "      <td>Milan Škriniar</td>\n",
       "      <td>25</td>\n",
       "      <td>86</td>\n",
       "    </tr>\n",
       "  </tbody>\n",
       "</table>\n",
       "</div>"
      ],
      "text/plain": [
       "                 name  age  overall\n",
       "3     Virgil van Dijk   29       91\n",
       "21       Sergio Ramos   34       89\n",
       "25  Kalidou Koulibaly   29       88\n",
       "33              Piqué   33       88\n",
       "34  Giorgio Chiellini   35       88\n",
       "37    Aymeric Laporte   26       87\n",
       "49        Diego Godín   34       87\n",
       "50       Mats Hummels   31       87\n",
       "54       Thiago Silva   35       87\n",
       "56     Milan Škriniar   25       86"
      ]
     },
     "execution_count": 47,
     "metadata": {},
     "output_type": "execute_result"
    }
   ],
   "source": [
    "top10defenders_df = defenders_df[['name', 'age', 'overall']]\n",
    "top10defenders_df.head(10)"
   ]
  },
  {
   "cell_type": "markdown",
   "metadata": {
    "id": "6E3QwyWVFtRa"
   },
   "source": [
    "From the above dataframe we can observe that, 'Virgil van Dijk' is ranked as the best defender, followed by 'Sergio Ramos' and 'Kalidou Koulibaly' as the 2nd and 3rd best respectively, while 'Milan Škriniar' is ranked as the 10th best among the defenders in Fifa 21."
   ]
  },
  {
   "cell_type": "markdown",
   "metadata": {
    "id": "7ZeHK20dFtRa"
   },
   "source": [
    "###### Goalkeepers"
   ]
  },
  {
   "cell_type": "code",
   "execution_count": 48,
   "metadata": {
    "id": "ImiLz5vmFtRb"
   },
   "outputs": [
    {
     "data": {
      "text/html": [
       "<div>\n",
       "<style scoped>\n",
       "    .dataframe tbody tr th:only-of-type {\n",
       "        vertical-align: middle;\n",
       "    }\n",
       "\n",
       "    .dataframe tbody tr th {\n",
       "        vertical-align: top;\n",
       "    }\n",
       "\n",
       "    .dataframe thead th {\n",
       "        text-align: right;\n",
       "    }\n",
       "</style>\n",
       "<table border=\"1\" class=\"dataframe\">\n",
       "  <thead>\n",
       "    <tr style=\"text-align: right;\">\n",
       "      <th></th>\n",
       "      <th>name</th>\n",
       "      <th>age</th>\n",
       "      <th>overall</th>\n",
       "    </tr>\n",
       "  </thead>\n",
       "  <tbody>\n",
       "    <tr>\n",
       "      <th>4</th>\n",
       "      <td>Jan Oblak</td>\n",
       "      <td>27</td>\n",
       "      <td>91</td>\n",
       "    </tr>\n",
       "    <tr>\n",
       "      <th>8</th>\n",
       "      <td>Alisson</td>\n",
       "      <td>27</td>\n",
       "      <td>90</td>\n",
       "    </tr>\n",
       "    <tr>\n",
       "      <th>11</th>\n",
       "      <td>Marc-André ter Stegen</td>\n",
       "      <td>28</td>\n",
       "      <td>90</td>\n",
       "    </tr>\n",
       "    <tr>\n",
       "      <th>20</th>\n",
       "      <td>Manuel Neuer</td>\n",
       "      <td>34</td>\n",
       "      <td>89</td>\n",
       "    </tr>\n",
       "    <tr>\n",
       "      <th>22</th>\n",
       "      <td>Ederson</td>\n",
       "      <td>26</td>\n",
       "      <td>88</td>\n",
       "    </tr>\n",
       "    <tr>\n",
       "      <th>27</th>\n",
       "      <td>De Gea</td>\n",
       "      <td>29</td>\n",
       "      <td>88</td>\n",
       "    </tr>\n",
       "    <tr>\n",
       "      <th>28</th>\n",
       "      <td>Thibaut Courtois</td>\n",
       "      <td>28</td>\n",
       "      <td>88</td>\n",
       "    </tr>\n",
       "    <tr>\n",
       "      <th>32</th>\n",
       "      <td>Samir Handanovic</td>\n",
       "      <td>36</td>\n",
       "      <td>88</td>\n",
       "    </tr>\n",
       "    <tr>\n",
       "      <th>42</th>\n",
       "      <td>Keylor Navas</td>\n",
       "      <td>33</td>\n",
       "      <td>87</td>\n",
       "    </tr>\n",
       "    <tr>\n",
       "      <th>47</th>\n",
       "      <td>Wojciech Szczesny</td>\n",
       "      <td>30</td>\n",
       "      <td>87</td>\n",
       "    </tr>\n",
       "  </tbody>\n",
       "</table>\n",
       "</div>"
      ],
      "text/plain": [
       "                     name  age  overall\n",
       "4               Jan Oblak   27       91\n",
       "8                 Alisson   27       90\n",
       "11  Marc-André ter Stegen   28       90\n",
       "20           Manuel Neuer   34       89\n",
       "22                Ederson   26       88\n",
       "27                 De Gea   29       88\n",
       "28       Thibaut Courtois   28       88\n",
       "32       Samir Handanovic   36       88\n",
       "42           Keylor Navas   33       87\n",
       "47      Wojciech Szczesny   30       87"
      ]
     },
     "execution_count": 48,
     "metadata": {},
     "output_type": "execute_result"
    }
   ],
   "source": [
    "top10gks_df = gk_df[['name', 'age', 'overall']]\n",
    "top10gks_df.head(10)"
   ]
  },
  {
   "cell_type": "markdown",
   "metadata": {
    "id": "_kusrm-YFtRi"
   },
   "source": [
    "From the above dataframe we can observe that, 'Jan Oblak' is ranked as the best goalkeeper, followed by 'Alisson' and 'Marc-André ter Stegen' as the 2nd and 3rd best respectively, while 'Wojciech Szczesny' is ranked as the 10th best among the goalkeepers in Fifa 21."
   ]
  },
  {
   "cell_type": "markdown",
   "metadata": {
    "id": "Xcy35mAmFtRi"
   },
   "source": [
    "### Q: What is the total number of different countries from which Fifa 21 players are selected ? Which are the top 10 countries to have most number of players in Fifa 21 ? "
   ]
  },
  {
   "cell_type": "markdown",
   "metadata": {
    "id": "s1Z42FS8FtRj"
   },
   "source": [
    "To find the number of different countries we will use the method .nunique(). For finding top 10 countries with highest player participation in Fifa 21 we will use the method .value_counts(). We will use a bar graph for better visualisation."
   ]
  },
  {
   "cell_type": "code",
   "execution_count": 49,
   "metadata": {
    "id": "ht5AV2SSFtRj",
    "outputId": "51d177ac-c847-4849-ba6d-d8b5cc74c283"
   },
   "outputs": [
    {
     "data": {
      "text/plain": [
       "162"
      ]
     },
     "execution_count": 49,
     "metadata": {},
     "output_type": "execute_result"
    }
   ],
   "source": [
    "no_of_countries = dataraw_df.nationality.nunique()\n",
    "no_of_countries"
   ]
  },
  {
   "cell_type": "markdown",
   "metadata": {
    "id": "q5ekCzaYFtRp"
   },
   "source": [
    "So, we can see that there are a total of 162 different countries from which we can find players in Fifa 21. "
   ]
  },
  {
   "cell_type": "code",
   "execution_count": 50,
   "metadata": {
    "id": "9uhmtkISFtRq"
   },
   "outputs": [
    {
     "data": {
      "text/plain": [
       "England        1496\n",
       "Germany        1138\n",
       "Spain          1055\n",
       "Argentina       970\n",
       "France          948\n",
       "Brazil          894\n",
       "Italy           637\n",
       "Colombia        561\n",
       "Japan           448\n",
       "Netherlands     418\n",
       "Name: nationality, dtype: int64"
      ]
     },
     "execution_count": 50,
     "metadata": {},
     "output_type": "execute_result"
    }
   ],
   "source": [
    "top_countries = dataraw_df.nationality.value_counts().head(10)\n",
    "top_countries"
   ]
  },
  {
   "cell_type": "code",
   "execution_count": 51,
   "metadata": {
    "id": "wTu7O0HpFtRt"
   },
   "outputs": [
    {
     "name": "stderr",
     "output_type": "stream",
     "text": [
      "C:\\Users\\shimu\\anaconda3\\lib\\site-packages\\seaborn\\_decorators.py:36: FutureWarning: Pass the following variables as keyword args: x, y. From version 0.12, the only valid positional argument will be `data`, and passing other arguments without an explicit keyword will result in an error or misinterpretation.\n",
      "  warnings.warn(\n"
     ]
    },
    {
     "data": {
      "image/png": "[encoded data removed]",
      "text/plain": [
       "<Figure size 864x720 with 1 Axes>"
      ]
     },
     "metadata": {
      "needs_background": "light"
     },
     "output_type": "display_data"
    }
   ],
   "source": [
    "top_countries = dataraw_df.nationality.value_counts().head(15)\n",
    "plt.figure(figsize=(12,10))\n",
    "plt.xticks(rotation=75)\n",
    "plt.title(\"Top Countries\")\n",
    "sns.barplot(top_countries.index, top_countries);"
   ]
  },
  {
   "cell_type": "markdown",
   "metadata": {
    "id": "PPcSudhFFtRx"
   },
   "source": [
    "From the above graph we can see that England is the country with highest number of players in Fifa 21, followed by Germany and Spain."
   ]
  },
  {
   "cell_type": "markdown",
   "metadata": {
    "id": "wXEx14BmFtRz"
   },
   "source": [
    "Now, we can also check if there is any player from our country in Fifa 21.\n",
    "So, I am an Indian. I will be checking if any player of India is there in Fifa 21. And if there is Indian players present in Fifa 21, we will also find out who they are."
   ]
  },
  {
   "cell_type": "code",
   "execution_count": 52,
   "metadata": {
    "id": "JnOTwMYLFtR0",
    "outputId": "d8c17848-bbe5-47fe-ccce-a10bcb9a6d74"
   },
   "outputs": [
    {
     "name": "stdout",
     "output_type": "stream",
     "text": [
      "Indian Players are there in Fifa 21.\n"
     ]
    }
   ],
   "source": [
    "for a in dataraw_df.nationality:\n",
    "    if a == 'India':\n",
    "        print(\"Indian Players are there in Fifa 21.\")\n",
    "        break\n",
    "\n",
    "else: \n",
    "    print(\"Indian Players are not included in Fifa 21.\")\n",
    "\n",
    "    "
   ]
  },
  {
   "cell_type": "markdown",
   "metadata": {
    "id": "PmPWr57iFtR3"
   },
   "source": [
    "So, we found that Indian Players are present in Fifa 21. Now, we can find out who are the players."
   ]
  },
  {
   "cell_type": "code",
   "execution_count": 53,
   "metadata": {
    "id": "Tge7_by9FtR3"
   },
   "outputs": [
    {
     "data": {
      "text/html": [
       "<div>\n",
       "<style scoped>\n",
       "    .dataframe tbody tr th:only-of-type {\n",
       "        vertical-align: middle;\n",
       "    }\n",
       "\n",
       "    .dataframe tbody tr th {\n",
       "        vertical-align: top;\n",
       "    }\n",
       "\n",
       "    .dataframe thead th {\n",
       "        text-align: right;\n",
       "    }\n",
       "</style>\n",
       "<table border=\"1\" class=\"dataframe\">\n",
       "  <thead>\n",
       "    <tr style=\"text-align: right;\">\n",
       "      <th></th>\n",
       "      <th>player_id</th>\n",
       "      <th>name</th>\n",
       "      <th>nationality</th>\n",
       "      <th>position</th>\n",
       "      <th>overall</th>\n",
       "      <th>age</th>\n",
       "      <th>hits</th>\n",
       "      <th>potential</th>\n",
       "      <th>team</th>\n",
       "    </tr>\n",
       "  </thead>\n",
       "  <tbody>\n",
       "    <tr>\n",
       "      <th>11885</th>\n",
       "      <td>251742</td>\n",
       "      <td>Gajodara Chatterjee</td>\n",
       "      <td>India</td>\n",
       "      <td>GK</td>\n",
       "      <td>64</td>\n",
       "      <td>35</td>\n",
       "      <td>1</td>\n",
       "      <td>64</td>\n",
       "      <td>Free Agents</td>\n",
       "    </tr>\n",
       "    <tr>\n",
       "      <th>13068</th>\n",
       "      <td>251728</td>\n",
       "      <td>Bhadrashree Raj</td>\n",
       "      <td>India</td>\n",
       "      <td>RB</td>\n",
       "      <td>63</td>\n",
       "      <td>32</td>\n",
       "      <td>1</td>\n",
       "      <td>63</td>\n",
       "      <td>Free Agents</td>\n",
       "    </tr>\n",
       "    <tr>\n",
       "      <th>13069</th>\n",
       "      <td>251723</td>\n",
       "      <td>Prakul Bhatt</td>\n",
       "      <td>India</td>\n",
       "      <td>ST</td>\n",
       "      <td>63</td>\n",
       "      <td>35</td>\n",
       "      <td>3</td>\n",
       "      <td>63</td>\n",
       "      <td>Free Agents</td>\n",
       "    </tr>\n",
       "    <tr>\n",
       "      <th>14135</th>\n",
       "      <td>251736</td>\n",
       "      <td>Anvit Swaminathan</td>\n",
       "      <td>India</td>\n",
       "      <td>LM|CAM</td>\n",
       "      <td>62</td>\n",
       "      <td>28</td>\n",
       "      <td>2</td>\n",
       "      <td>62</td>\n",
       "      <td>Free Agents</td>\n",
       "    </tr>\n",
       "    <tr>\n",
       "      <th>14136</th>\n",
       "      <td>251727</td>\n",
       "      <td>Hantidev Bhandari</td>\n",
       "      <td>India</td>\n",
       "      <td>RM|LM</td>\n",
       "      <td>62</td>\n",
       "      <td>31</td>\n",
       "      <td>0</td>\n",
       "      <td>62</td>\n",
       "      <td>Free Agents</td>\n",
       "    </tr>\n",
       "    <tr>\n",
       "      <th>14137</th>\n",
       "      <td>251722</td>\n",
       "      <td>Abhimoda Chakraborty</td>\n",
       "      <td>India</td>\n",
       "      <td>CB</td>\n",
       "      <td>62</td>\n",
       "      <td>34</td>\n",
       "      <td>0</td>\n",
       "      <td>62</td>\n",
       "      <td>Free Agents</td>\n",
       "    </tr>\n",
       "    <tr>\n",
       "      <th>15058</th>\n",
       "      <td>251729</td>\n",
       "      <td>Devindra Pillai</td>\n",
       "      <td>India</td>\n",
       "      <td>RM|RW</td>\n",
       "      <td>61</td>\n",
       "      <td>32</td>\n",
       "      <td>0</td>\n",
       "      <td>61</td>\n",
       "      <td>Free Agents</td>\n",
       "    </tr>\n",
       "    <tr>\n",
       "      <th>15824</th>\n",
       "      <td>251747</td>\n",
       "      <td>Anuvinda Khurana</td>\n",
       "      <td>India</td>\n",
       "      <td>CB</td>\n",
       "      <td>60</td>\n",
       "      <td>27</td>\n",
       "      <td>2</td>\n",
       "      <td>62</td>\n",
       "      <td>Free Agents</td>\n",
       "    </tr>\n",
       "    <tr>\n",
       "      <th>15825</th>\n",
       "      <td>251743</td>\n",
       "      <td>Adit Ginti</td>\n",
       "      <td>India</td>\n",
       "      <td>LB|LM</td>\n",
       "      <td>60</td>\n",
       "      <td>26</td>\n",
       "      <td>3</td>\n",
       "      <td>62</td>\n",
       "      <td>Free Agents</td>\n",
       "    </tr>\n",
       "    <tr>\n",
       "      <th>15826</th>\n",
       "      <td>251732</td>\n",
       "      <td>Remil Nadkarni</td>\n",
       "      <td>India</td>\n",
       "      <td>CAM|CF</td>\n",
       "      <td>60</td>\n",
       "      <td>34</td>\n",
       "      <td>1</td>\n",
       "      <td>60</td>\n",
       "      <td>Free Agents</td>\n",
       "    </tr>\n",
       "    <tr>\n",
       "      <th>15827</th>\n",
       "      <td>251731</td>\n",
       "      <td>Bismeet Sidhu</td>\n",
       "      <td>India</td>\n",
       "      <td>CDM|CM</td>\n",
       "      <td>60</td>\n",
       "      <td>32</td>\n",
       "      <td>2</td>\n",
       "      <td>60</td>\n",
       "      <td>Free Agents</td>\n",
       "    </tr>\n",
       "    <tr>\n",
       "      <th>15828</th>\n",
       "      <td>251725</td>\n",
       "      <td>Tapish Atwal</td>\n",
       "      <td>India</td>\n",
       "      <td>CB</td>\n",
       "      <td>60</td>\n",
       "      <td>36</td>\n",
       "      <td>0</td>\n",
       "      <td>60</td>\n",
       "      <td>Free Agents</td>\n",
       "    </tr>\n",
       "    <tr>\n",
       "      <th>15829</th>\n",
       "      <td>251721</td>\n",
       "      <td>Attana Deshpande</td>\n",
       "      <td>India</td>\n",
       "      <td>LM</td>\n",
       "      <td>60</td>\n",
       "      <td>39</td>\n",
       "      <td>0</td>\n",
       "      <td>60</td>\n",
       "      <td>Free Agents</td>\n",
       "    </tr>\n",
       "    <tr>\n",
       "      <th>16566</th>\n",
       "      <td>251748</td>\n",
       "      <td>Dinkerrai Bajwa</td>\n",
       "      <td>India</td>\n",
       "      <td>CB|CDM</td>\n",
       "      <td>59</td>\n",
       "      <td>39</td>\n",
       "      <td>2</td>\n",
       "      <td>59</td>\n",
       "      <td>Free Agents</td>\n",
       "    </tr>\n",
       "    <tr>\n",
       "      <th>16567</th>\n",
       "      <td>251746</td>\n",
       "      <td>Randhir Jayaraman</td>\n",
       "      <td>India</td>\n",
       "      <td>ST</td>\n",
       "      <td>59</td>\n",
       "      <td>35</td>\n",
       "      <td>0</td>\n",
       "      <td>59</td>\n",
       "      <td>Free Agents</td>\n",
       "    </tr>\n",
       "    <tr>\n",
       "      <th>16568</th>\n",
       "      <td>251740</td>\n",
       "      <td>Gunjeevan Thakkar</td>\n",
       "      <td>India</td>\n",
       "      <td>ST</td>\n",
       "      <td>59</td>\n",
       "      <td>23</td>\n",
       "      <td>10</td>\n",
       "      <td>61</td>\n",
       "      <td>Free Agents</td>\n",
       "    </tr>\n",
       "    <tr>\n",
       "      <th>16569</th>\n",
       "      <td>251739</td>\n",
       "      <td>Vihaan Boral</td>\n",
       "      <td>India</td>\n",
       "      <td>GK</td>\n",
       "      <td>59</td>\n",
       "      <td>31</td>\n",
       "      <td>2</td>\n",
       "      <td>60</td>\n",
       "      <td>Free Agents</td>\n",
       "    </tr>\n",
       "    <tr>\n",
       "      <th>16570</th>\n",
       "      <td>251726</td>\n",
       "      <td>Diasha Sundaram</td>\n",
       "      <td>India</td>\n",
       "      <td>CB</td>\n",
       "      <td>59</td>\n",
       "      <td>31</td>\n",
       "      <td>0</td>\n",
       "      <td>59</td>\n",
       "      <td>Free Agents</td>\n",
       "    </tr>\n",
       "    <tr>\n",
       "      <th>17127</th>\n",
       "      <td>251749</td>\n",
       "      <td>Omesh Patla</td>\n",
       "      <td>India</td>\n",
       "      <td>CAM</td>\n",
       "      <td>58</td>\n",
       "      <td>27</td>\n",
       "      <td>3</td>\n",
       "      <td>59</td>\n",
       "      <td>Free Agents</td>\n",
       "    </tr>\n",
       "    <tr>\n",
       "      <th>17128</th>\n",
       "      <td>251745</td>\n",
       "      <td>Chapal Palan</td>\n",
       "      <td>India</td>\n",
       "      <td>CM</td>\n",
       "      <td>58</td>\n",
       "      <td>29</td>\n",
       "      <td>1</td>\n",
       "      <td>58</td>\n",
       "      <td>Free Agents</td>\n",
       "    </tr>\n",
       "    <tr>\n",
       "      <th>17129</th>\n",
       "      <td>251735</td>\n",
       "      <td>Amanpreet Varkay</td>\n",
       "      <td>India</td>\n",
       "      <td>LB</td>\n",
       "      <td>58</td>\n",
       "      <td>34</td>\n",
       "      <td>1</td>\n",
       "      <td>58</td>\n",
       "      <td>Free Agents</td>\n",
       "    </tr>\n",
       "    <tr>\n",
       "      <th>17130</th>\n",
       "      <td>251733</td>\n",
       "      <td>Palkesh Nagarajan</td>\n",
       "      <td>India</td>\n",
       "      <td>GK</td>\n",
       "      <td>58</td>\n",
       "      <td>30</td>\n",
       "      <td>0</td>\n",
       "      <td>59</td>\n",
       "      <td>Free Agents</td>\n",
       "    </tr>\n",
       "    <tr>\n",
       "      <th>17131</th>\n",
       "      <td>251730</td>\n",
       "      <td>Durvish Raghavan</td>\n",
       "      <td>India</td>\n",
       "      <td>ST</td>\n",
       "      <td>58</td>\n",
       "      <td>26</td>\n",
       "      <td>1</td>\n",
       "      <td>61</td>\n",
       "      <td>Free Agents</td>\n",
       "    </tr>\n",
       "    <tr>\n",
       "      <th>17132</th>\n",
       "      <td>251724</td>\n",
       "      <td>Taranjot Agarwal</td>\n",
       "      <td>India</td>\n",
       "      <td>LB|LM</td>\n",
       "      <td>58</td>\n",
       "      <td>34</td>\n",
       "      <td>0</td>\n",
       "      <td>58</td>\n",
       "      <td>Free Agents</td>\n",
       "    </tr>\n",
       "    <tr>\n",
       "      <th>17656</th>\n",
       "      <td>251750</td>\n",
       "      <td>Dhwanil Singhal</td>\n",
       "      <td>India</td>\n",
       "      <td>CDM</td>\n",
       "      <td>57</td>\n",
       "      <td>35</td>\n",
       "      <td>0</td>\n",
       "      <td>57</td>\n",
       "      <td>Free Agents</td>\n",
       "    </tr>\n",
       "  </tbody>\n",
       "</table>\n",
       "</div>"
      ],
      "text/plain": [
       "       player_id                  name nationality position  overall  age  \\\n",
       "11885     251742   Gajodara Chatterjee       India       GK       64   35   \n",
       "13068     251728       Bhadrashree Raj       India       RB       63   32   \n",
       "13069     251723          Prakul Bhatt       India       ST       63   35   \n",
       "14135     251736     Anvit Swaminathan       India   LM|CAM       62   28   \n",
       "14136     251727     Hantidev Bhandari       India    RM|LM       62   31   \n",
       "14137     251722  Abhimoda Chakraborty       India       CB       62   34   \n",
       "15058     251729       Devindra Pillai       India    RM|RW       61   32   \n",
       "15824     251747      Anuvinda Khurana       India       CB       60   27   \n",
       "15825     251743            Adit Ginti       India    LB|LM       60   26   \n",
       "15826     251732        Remil Nadkarni       India   CAM|CF       60   34   \n",
       "15827     251731         Bismeet Sidhu       India   CDM|CM       60   32   \n",
       "15828     251725          Tapish Atwal       India       CB       60   36   \n",
       "15829     251721      Attana Deshpande       India       LM       60   39   \n",
       "16566     251748       Dinkerrai Bajwa       India   CB|CDM       59   39   \n",
       "16567     251746     Randhir Jayaraman       India       ST       59   35   \n",
       "16568     251740     Gunjeevan Thakkar       India       ST       59   23   \n",
       "16569     251739          Vihaan Boral       India       GK       59   31   \n",
       "16570     251726       Diasha Sundaram       India       CB       59   31   \n",
       "17127     251749           Omesh Patla       India      CAM       58   27   \n",
       "17128     251745          Chapal Palan       India       CM       58   29   \n",
       "17129     251735      Amanpreet Varkay       India       LB       58   34   \n",
       "17130     251733     Palkesh Nagarajan       India       GK       58   30   \n",
       "17131     251730      Durvish Raghavan       India       ST       58   26   \n",
       "17132     251724      Taranjot Agarwal       India    LB|LM       58   34   \n",
       "17656     251750       Dhwanil Singhal       India      CDM       57   35   \n",
       "\n",
       "       hits  potential          team  \n",
       "11885     1         64  Free Agents   \n",
       "13068     1         63  Free Agents   \n",
       "13069     3         63  Free Agents   \n",
       "14135     2         62  Free Agents   \n",
       "14136     0         62  Free Agents   \n",
       "14137     0         62  Free Agents   \n",
       "15058     0         61  Free Agents   \n",
       "15824     2         62  Free Agents   \n",
       "15825     3         62  Free Agents   \n",
       "15826     1         60  Free Agents   \n",
       "15827     2         60  Free Agents   \n",
       "15828     0         60  Free Agents   \n",
       "15829     0         60  Free Agents   \n",
       "16566     2         59  Free Agents   \n",
       "16567     0         59  Free Agents   \n",
       "16568    10         61  Free Agents   \n",
       "16569     2         60  Free Agents   \n",
       "16570     0         59  Free Agents   \n",
       "17127     3         59  Free Agents   \n",
       "17128     1         58  Free Agents   \n",
       "17129     1         58  Free Agents   \n",
       "17130     0         59  Free Agents   \n",
       "17131     1         61  Free Agents   \n",
       "17132     0         58  Free Agents   \n",
       "17656     0         57  Free Agents   "
      ]
     },
     "execution_count": 53,
     "metadata": {},
     "output_type": "execute_result"
    }
   ],
   "source": [
    "indian_df = dataraw_df[(dataraw_df.nationality == 'India') ]\n",
    "indian_df"
   ]
  },
  {
   "cell_type": "code",
   "execution_count": 54,
   "metadata": {
    "id": "IBUKoRx3FtR5",
    "outputId": "ce234456-446a-48da-ca8d-6975a35fad2c"
   },
   "outputs": [
    {
     "data": {
      "text/plain": [
       "25"
      ]
     },
     "execution_count": 54,
     "metadata": {},
     "output_type": "execute_result"
    }
   ],
   "source": [
    "indian_df.name.count()"
   ]
  },
  {
   "cell_type": "markdown",
   "metadata": {
    "id": "A13xJx0JFtR7"
   },
   "source": [
    "So, we can see that there are 25 Indian Players in Fifa 21 and all of them are Free Agents, that is they do not represent any club."
   ]
  },
  {
   "cell_type": "markdown",
   "metadata": {
    "id": "goDsE930FtR9"
   },
   "source": [
    "### Q: What is the total number of different clubs from which Fifa 21 players are selected ? Which are the top 10 clubs to have most number of players in Fifa 21 ? "
   ]
  },
  {
   "cell_type": "markdown",
   "metadata": {
    "id": "4_zXM48AFtR9"
   },
   "source": [
    "To find the number of different clubs present in Fifa 21 we will use the .nunique() method once again.\n",
    "For finding the clubs having maximum player we will use the .value_counts method. For better visualistaion we will also plot a bar graph."
   ]
  },
  {
   "cell_type": "code",
   "execution_count": 55,
   "metadata": {
    "id": "O_5RzE2mFtR9",
    "outputId": "3ee04dea-91f1-4b38-9ac4-2ca85c2915de"
   },
   "outputs": [
    {
     "data": {
      "text/plain": [
       "713"
      ]
     },
     "execution_count": 55,
     "metadata": {},
     "output_type": "execute_result"
    }
   ],
   "source": [
    "no_of_clubs = dataraw_df.team.nunique()\n",
    "no_of_clubs"
   ]
  },
  {
   "cell_type": "code",
   "execution_count": 56,
   "metadata": {
    "id": "UG1jWy4xFtSA"
   },
   "outputs": [
    {
     "data": {
      "text/plain": [
       "Free Agents                    211\n",
       "River Plate                     35\n",
       "RC Celta                        33\n",
       "Tottenham Hotspur               33\n",
       "FC Augsburg                     33\n",
       "Fortuna Düsseldorf              33\n",
       "Olympique Lyonnais              33\n",
       "Villarreal CF                   33\n",
       "Everton                         33\n",
       "Atlético Madrid                 33\n",
       "AFC Bournemouth                 33\n",
       "FC Barcelona                    33\n",
       "Valencia CF                     33\n",
       "Real Betis                      33\n",
       "Real Madrid                     33\n",
       "Liverpool                       33\n",
       "R. Valladolid CF                33\n",
       "Arsenal                         33\n",
       "Leicester City                  33\n",
       "1. FSV Mainz 05                 33\n",
       "Newcastle United                33\n",
       "RCD Espanyol                    33\n",
       "AS Monaco Football Club SA      33\n",
       "Manchester United               33\n",
       "Chelsea                         32\n",
       "D. Alavés                       32\n",
       "Watford                         32\n",
       "SC Paderborn 07                 32\n",
       "LOSC Lille                      32\n",
       "Granada CF                      32\n",
       "FC Nantes                       32\n",
       "RB Leipzig                      32\n",
       "AS Saint-Étienne                32\n",
       "Getafe CF                       32\n",
       "Levante UD                      32\n",
       "Manchester City                 32\n",
       "SV Werder Bremen                32\n",
       "Genoa                           31\n",
       "Real Sociedad                   31\n",
       "Sevilla FC                      31\n",
       "Athletic Club                   31\n",
       "Toulouse Football Club          31\n",
       "1. FC Union Berlin              31\n",
       "Stade Rennais FC                31\n",
       "Trapani                         30\n",
       "FC Emmen                        30\n",
       "Leeds United                    30\n",
       "VfL Wolfsburg                   30\n",
       "Hannover 96                     30\n",
       "VfB Stuttgart                   30\n",
       "Name: team, dtype: int64"
      ]
     },
     "execution_count": 56,
     "metadata": {},
     "output_type": "execute_result"
    }
   ],
   "source": [
    "top_clubs = dataraw_df.team.value_counts().head(50)\n",
    "top_clubs"
   ]
  },
  {
   "cell_type": "code",
   "execution_count": 57,
   "metadata": {
    "id": "gpDYmIqDFtSB"
   },
   "outputs": [
    {
     "data": {
      "image/png": "[encoded data removed]",
      "text/plain": [
       "<Figure size 864x720 with 1 Axes>"
      ]
     },
     "metadata": {
      "needs_background": "light"
     },
     "output_type": "display_data"
    }
   ],
   "source": [
    "top_clubss = dataraw_df.team.value_counts().head(30)\n",
    "plt.figure(figsize=(12,10))\n",
    "plt.xticks(rotation=75)\n",
    "\n",
    "plt.bar(top_clubss.index, top_clubss);"
   ]
  },
  {
   "cell_type": "markdown",
   "metadata": {
    "id": "cD4eCOdsFtSH"
   },
   "source": [
    "So, there are 713 different clubs in Fifa 21. There are 211 Free Agents in Fifa 21. Rest of the players represents a club and in the top 50 category we can see that most of the clubs has on an average 32 players in their teams. From the bar graph also we can visualise that all the teams other than the Free Agents have more or less the same bars. Although River Plate is the team with highest number of players that is 35"
   ]
  },
  {
   "cell_type": "markdown",
   "metadata": {
    "id": "wStMxLjpFtSI"
   },
   "source": [
    "### Q: What are the age groups with maximum number of players in Fifa 21?"
   ]
  },
  {
   "cell_type": "markdown",
   "metadata": {
    "id": "T8DjIWGsFtSI"
   },
   "source": [
    "We will plot a histogram depicting the number of players in different age groups. From the histogram we will be get to know which are the age groups with maximum players. "
   ]
  },
  {
   "cell_type": "code",
   "execution_count": 58,
   "metadata": {
    "id": "D4qDBFZSFtSJ",
    "outputId": "9eacd181-4205-4aa8-bfb9-11e48cb6af23"
   },
   "outputs": [
    {
     "data": {
      "image/png": "[encoded data removed]",
      "text/plain": [
       "<Figure size 864x720 with 1 Axes>"
      ]
     },
     "metadata": {
      "needs_background": "light"
     },
     "output_type": "display_data"
    }
   ],
   "source": [
    "plt.figure(figsize=(12, 10))\n",
    "\n",
    "plt.xlabel('Age')\n",
    "plt.ylabel('Number of respondents')\n",
    "\n",
    "plt.hist(dataraw_df.age, bins=np.arange(15,50,5), color='pink');"
   ]
  },
  {
   "cell_type": "markdown",
   "metadata": {
    "id": "7j3iUxDKFtSO"
   },
   "source": [
    "The maximum number of players falls in the age group 25 to 30, followed by 20 to 25 and 30 to 35."
   ]
  },
  {
   "cell_type": "markdown",
   "metadata": {
    "id": "auqKaXOSFtSP"
   },
   "source": [
    "### Q: Who are the top 5 players in age groups with maximum players? "
   ]
  },
  {
   "cell_type": "markdown",
   "metadata": {
    "id": "aQb44dC-FtSQ"
   },
   "source": [
    "So, we need to find the top 5 players in the age groups 21-25, 26-30, 31-35. To find the top 10 players we have to use the dataframes containing the players of different age groups and the .head() method."
   ]
  },
  {
   "cell_type": "markdown",
   "metadata": {
    "id": "X_C1HaT5FtSR"
   },
   "source": [
    "###### Age Group 21 to 25."
   ]
  },
  {
   "cell_type": "code",
   "execution_count": 59,
   "metadata": {
    "id": "apfDn9uiFtSR",
    "outputId": "ba06797e-2dfb-4b74-d520-68940478dd46"
   },
   "outputs": [
    {
     "data": {
      "text/html": [
       "<div>\n",
       "<style scoped>\n",
       "    .dataframe tbody tr th:only-of-type {\n",
       "        vertical-align: middle;\n",
       "    }\n",
       "\n",
       "    .dataframe tbody tr th {\n",
       "        vertical-align: top;\n",
       "    }\n",
       "\n",
       "    .dataframe thead th {\n",
       "        text-align: right;\n",
       "    }\n",
       "</style>\n",
       "<table border=\"1\" class=\"dataframe\">\n",
       "  <thead>\n",
       "    <tr style=\"text-align: right;\">\n",
       "      <th></th>\n",
       "      <th>player_id</th>\n",
       "      <th>name</th>\n",
       "      <th>nationality</th>\n",
       "      <th>position</th>\n",
       "      <th>overall</th>\n",
       "      <th>age</th>\n",
       "      <th>hits</th>\n",
       "      <th>potential</th>\n",
       "      <th>team</th>\n",
       "    </tr>\n",
       "  </thead>\n",
       "  <tbody>\n",
       "    <tr>\n",
       "      <th>13</th>\n",
       "      <td>231747</td>\n",
       "      <td>Kylian Mbappé</td>\n",
       "      <td>France</td>\n",
       "      <td>ST|RW|LW</td>\n",
       "      <td>89</td>\n",
       "      <td>21</td>\n",
       "      <td>222</td>\n",
       "      <td>95</td>\n",
       "      <td>Paris Saint-Germain</td>\n",
       "    </tr>\n",
       "    <tr>\n",
       "      <th>23</th>\n",
       "      <td>202652</td>\n",
       "      <td>Raheem Sterling</td>\n",
       "      <td>England</td>\n",
       "      <td>RW|LW</td>\n",
       "      <td>88</td>\n",
       "      <td>25</td>\n",
       "      <td>61</td>\n",
       "      <td>90</td>\n",
       "      <td>Manchester City</td>\n",
       "    </tr>\n",
       "    <tr>\n",
       "      <th>35</th>\n",
       "      <td>218667</td>\n",
       "      <td>Bernardo Silva</td>\n",
       "      <td>Portugal</td>\n",
       "      <td>CM|CAM|RW</td>\n",
       "      <td>87</td>\n",
       "      <td>25</td>\n",
       "      <td>53</td>\n",
       "      <td>90</td>\n",
       "      <td>Manchester City</td>\n",
       "    </tr>\n",
       "    <tr>\n",
       "      <th>36</th>\n",
       "      <td>212622</td>\n",
       "      <td>Joshua Kimmich</td>\n",
       "      <td>Germany</td>\n",
       "      <td>RB|CDM|CM</td>\n",
       "      <td>87</td>\n",
       "      <td>25</td>\n",
       "      <td>82</td>\n",
       "      <td>90</td>\n",
       "      <td>FC Bayern München</td>\n",
       "    </tr>\n",
       "    <tr>\n",
       "      <th>56</th>\n",
       "      <td>232363</td>\n",
       "      <td>Milan Škriniar</td>\n",
       "      <td>Slovakia</td>\n",
       "      <td>CB</td>\n",
       "      <td>86</td>\n",
       "      <td>25</td>\n",
       "      <td>62</td>\n",
       "      <td>90</td>\n",
       "      <td>Inter</td>\n",
       "    </tr>\n",
       "  </tbody>\n",
       "</table>\n",
       "</div>"
      ],
      "text/plain": [
       "    player_id             name nationality   position  overall  age  hits  \\\n",
       "13     231747    Kylian Mbappé      France   ST|RW|LW       89   21   222   \n",
       "23     202652  Raheem Sterling     England      RW|LW       88   25    61   \n",
       "35     218667   Bernardo Silva    Portugal  CM|CAM|RW       87   25    53   \n",
       "36     212622   Joshua Kimmich     Germany  RB|CDM|CM       87   25    82   \n",
       "56     232363   Milan Škriniar    Slovakia         CB       86   25    62   \n",
       "\n",
       "    potential                  team  \n",
       "13         95  Paris Saint-Germain   \n",
       "23         90      Manchester City   \n",
       "35         90      Manchester City   \n",
       "36         90    FC Bayern München   \n",
       "56         90                Inter   "
      ]
     },
     "execution_count": 59,
     "metadata": {},
     "output_type": "execute_result"
    }
   ],
   "source": [
    "age2125_df.head(5)"
   ]
  },
  {
   "cell_type": "markdown",
   "metadata": {
    "id": "tGcai6w0FtSY"
   },
   "source": [
    "From the above dataframe we can observe that in the age group 21 to 25, 'Kylian Mbappé' is ranked 1st, followed by 'Raheem Sterling' and 'Bernardo Silva'."
   ]
  },
  {
   "cell_type": "markdown",
   "metadata": {
    "id": "Kyvp67X3FtSZ"
   },
   "source": [
    "###### Age Group 26 to 30."
   ]
  },
  {
   "cell_type": "code",
   "execution_count": 60,
   "metadata": {
    "id": "vF4EbLWlFtSa",
    "outputId": "57bb69b9-70fe-446b-8dd3-f0ec32148685"
   },
   "outputs": [
    {
     "data": {
      "text/html": [
       "<div>\n",
       "<style scoped>\n",
       "    .dataframe tbody tr th:only-of-type {\n",
       "        vertical-align: middle;\n",
       "    }\n",
       "\n",
       "    .dataframe tbody tr th {\n",
       "        vertical-align: top;\n",
       "    }\n",
       "\n",
       "    .dataframe thead th {\n",
       "        text-align: right;\n",
       "    }\n",
       "</style>\n",
       "<table border=\"1\" class=\"dataframe\">\n",
       "  <thead>\n",
       "    <tr style=\"text-align: right;\">\n",
       "      <th></th>\n",
       "      <th>player_id</th>\n",
       "      <th>name</th>\n",
       "      <th>nationality</th>\n",
       "      <th>position</th>\n",
       "      <th>overall</th>\n",
       "      <th>age</th>\n",
       "      <th>hits</th>\n",
       "      <th>potential</th>\n",
       "      <th>team</th>\n",
       "    </tr>\n",
       "  </thead>\n",
       "  <tbody>\n",
       "    <tr>\n",
       "      <th>2</th>\n",
       "      <td>190871</td>\n",
       "      <td>Neymar Jr</td>\n",
       "      <td>Brazil</td>\n",
       "      <td>CAM|LW</td>\n",
       "      <td>92</td>\n",
       "      <td>28</td>\n",
       "      <td>186</td>\n",
       "      <td>92</td>\n",
       "      <td>Paris Saint-Germain</td>\n",
       "    </tr>\n",
       "    <tr>\n",
       "      <th>3</th>\n",
       "      <td>203376</td>\n",
       "      <td>Virgil van Dijk</td>\n",
       "      <td>Netherlands</td>\n",
       "      <td>CB</td>\n",
       "      <td>91</td>\n",
       "      <td>29</td>\n",
       "      <td>127</td>\n",
       "      <td>92</td>\n",
       "      <td>Liverpool</td>\n",
       "    </tr>\n",
       "    <tr>\n",
       "      <th>4</th>\n",
       "      <td>200389</td>\n",
       "      <td>Jan Oblak</td>\n",
       "      <td>Slovenia</td>\n",
       "      <td>GK</td>\n",
       "      <td>91</td>\n",
       "      <td>27</td>\n",
       "      <td>47</td>\n",
       "      <td>93</td>\n",
       "      <td>Atlético Madrid</td>\n",
       "    </tr>\n",
       "    <tr>\n",
       "      <th>5</th>\n",
       "      <td>192985</td>\n",
       "      <td>Kevin De Bruyne</td>\n",
       "      <td>Belgium</td>\n",
       "      <td>CM|CAM</td>\n",
       "      <td>91</td>\n",
       "      <td>29</td>\n",
       "      <td>119</td>\n",
       "      <td>91</td>\n",
       "      <td>Manchester City</td>\n",
       "    </tr>\n",
       "    <tr>\n",
       "      <th>7</th>\n",
       "      <td>183277</td>\n",
       "      <td>Eden Hazard</td>\n",
       "      <td>Belgium</td>\n",
       "      <td>ST|LW</td>\n",
       "      <td>91</td>\n",
       "      <td>29</td>\n",
       "      <td>66</td>\n",
       "      <td>91</td>\n",
       "      <td>Real Madrid</td>\n",
       "    </tr>\n",
       "  </tbody>\n",
       "</table>\n",
       "</div>"
      ],
      "text/plain": [
       "   player_id             name  nationality position  overall  age  hits  \\\n",
       "2     190871        Neymar Jr       Brazil   CAM|LW       92   28   186   \n",
       "3     203376  Virgil van Dijk  Netherlands       CB       91   29   127   \n",
       "4     200389        Jan Oblak     Slovenia       GK       91   27    47   \n",
       "5     192985  Kevin De Bruyne      Belgium   CM|CAM       91   29   119   \n",
       "7     183277      Eden Hazard      Belgium    ST|LW       91   29    66   \n",
       "\n",
       "   potential                  team  \n",
       "2         92  Paris Saint-Germain   \n",
       "3         92            Liverpool   \n",
       "4         93      Atlético Madrid   \n",
       "5         91      Manchester City   \n",
       "7         91          Real Madrid   "
      ]
     },
     "execution_count": 60,
     "metadata": {},
     "output_type": "execute_result"
    }
   ],
   "source": [
    "age2630_df.head(5)"
   ]
  },
  {
   "cell_type": "markdown",
   "metadata": {
    "id": "Lu5469leFtSi"
   },
   "source": [
    "From the above dataframe we can observe that in the age group 21 to 25, 'Kylian Mbappé' is ranked 1st, followed by 'Raheem Sterling' and 'Bernardo Silva'."
   ]
  },
  {
   "cell_type": "markdown",
   "metadata": {
    "id": "A04_GWx1FtSj"
   },
   "source": [
    "###### Age Group 31 to 35."
   ]
  },
  {
   "cell_type": "code",
   "execution_count": 61,
   "metadata": {
    "id": "OMuB_cPEFtSj",
    "outputId": "2bd9e98b-5250-4362-b646-c8626bd4822b"
   },
   "outputs": [
    {
     "data": {
      "text/html": [
       "<div>\n",
       "<style scoped>\n",
       "    .dataframe tbody tr th:only-of-type {\n",
       "        vertical-align: middle;\n",
       "    }\n",
       "\n",
       "    .dataframe tbody tr th {\n",
       "        vertical-align: top;\n",
       "    }\n",
       "\n",
       "    .dataframe thead th {\n",
       "        text-align: right;\n",
       "    }\n",
       "</style>\n",
       "<table border=\"1\" class=\"dataframe\">\n",
       "  <thead>\n",
       "    <tr style=\"text-align: right;\">\n",
       "      <th></th>\n",
       "      <th>player_id</th>\n",
       "      <th>name</th>\n",
       "      <th>nationality</th>\n",
       "      <th>position</th>\n",
       "      <th>overall</th>\n",
       "      <th>age</th>\n",
       "      <th>hits</th>\n",
       "      <th>potential</th>\n",
       "      <th>team</th>\n",
       "    </tr>\n",
       "  </thead>\n",
       "  <tbody>\n",
       "    <tr>\n",
       "      <th>0</th>\n",
       "      <td>158023</td>\n",
       "      <td>Lionel Messi</td>\n",
       "      <td>Argentina</td>\n",
       "      <td>ST|CF|RW</td>\n",
       "      <td>94</td>\n",
       "      <td>33</td>\n",
       "      <td>299</td>\n",
       "      <td>94</td>\n",
       "      <td>FC Barcelona</td>\n",
       "    </tr>\n",
       "    <tr>\n",
       "      <th>1</th>\n",
       "      <td>20801</td>\n",
       "      <td>Cristiano Ronaldo</td>\n",
       "      <td>Portugal</td>\n",
       "      <td>ST|LW</td>\n",
       "      <td>93</td>\n",
       "      <td>35</td>\n",
       "      <td>276</td>\n",
       "      <td>93</td>\n",
       "      <td>Juventus</td>\n",
       "    </tr>\n",
       "    <tr>\n",
       "      <th>6</th>\n",
       "      <td>188545</td>\n",
       "      <td>Robert Lewandowski</td>\n",
       "      <td>Poland</td>\n",
       "      <td>ST</td>\n",
       "      <td>91</td>\n",
       "      <td>31</td>\n",
       "      <td>89</td>\n",
       "      <td>91</td>\n",
       "      <td>FC Bayern München</td>\n",
       "    </tr>\n",
       "    <tr>\n",
       "      <th>12</th>\n",
       "      <td>153079</td>\n",
       "      <td>Sergio Agüero</td>\n",
       "      <td>Argentina</td>\n",
       "      <td>ST</td>\n",
       "      <td>90</td>\n",
       "      <td>32</td>\n",
       "      <td>50</td>\n",
       "      <td>90</td>\n",
       "      <td>Manchester City</td>\n",
       "    </tr>\n",
       "    <tr>\n",
       "      <th>18</th>\n",
       "      <td>177003</td>\n",
       "      <td>Luka Modric</td>\n",
       "      <td>Croatia</td>\n",
       "      <td>CM</td>\n",
       "      <td>89</td>\n",
       "      <td>34</td>\n",
       "      <td>31</td>\n",
       "      <td>89</td>\n",
       "      <td>Real Madrid</td>\n",
       "    </tr>\n",
       "  </tbody>\n",
       "</table>\n",
       "</div>"
      ],
      "text/plain": [
       "    player_id                name nationality  position  overall  age  hits  \\\n",
       "0      158023        Lionel Messi   Argentina  ST|CF|RW       94   33   299   \n",
       "1       20801   Cristiano Ronaldo    Portugal     ST|LW       93   35   276   \n",
       "6      188545  Robert Lewandowski      Poland        ST       91   31    89   \n",
       "12     153079       Sergio Agüero   Argentina        ST       90   32    50   \n",
       "18     177003         Luka Modric     Croatia        CM       89   34    31   \n",
       "\n",
       "    potential                team  \n",
       "0          94       FC Barcelona   \n",
       "1          93           Juventus   \n",
       "6          91  FC Bayern München   \n",
       "12         90    Manchester City   \n",
       "18         89        Real Madrid   "
      ]
     },
     "execution_count": 61,
     "metadata": {},
     "output_type": "execute_result"
    }
   ],
   "source": [
    "age3135_df.head(5)"
   ]
  },
  {
   "cell_type": "markdown",
   "metadata": {
    "id": "13s5SCo3FtSo"
   },
   "source": [
    "From the above dataframe we can observe that in the age group 21 to 25, 'Kylian Mbappé' is ranked 1st, followed by 'Raheem Sterling' and 'Bernardo Silva'."
   ]
  },
  {
   "cell_type": "markdown",
   "metadata": {
    "id": "gGOC4qtAFtSp"
   },
   "source": [
    "### Q: What are the ages in which maximum players are present?"
   ]
  },
  {
   "cell_type": "markdown",
   "metadata": {
    "id": "KXe3kUwXFtSp"
   },
   "source": [
    "Let's see how many players are there in each of the different age. For finding this we will use a count plot."
   ]
  },
  {
   "cell_type": "code",
   "execution_count": 62,
   "metadata": {
    "id": "sYKMutPmFtSq",
    "outputId": "3a64d256-581c-43eb-b8bb-46bf3d95b1b2"
   },
   "outputs": [
    {
     "data": {
      "image/png": "[encoded data removed]",
      "text/plain": [
       "<Figure size 864x720 with 1 Axes>"
      ]
     },
     "metadata": {
      "needs_background": "light"
     },
     "output_type": "display_data"
    }
   ],
   "source": [
    "plt.figure(figsize=(12, 10))\n",
    "sns.countplot(x=dataraw_df.age)\n",
    "plt.xticks(rotation=90);"
   ]
  },
  {
   "cell_type": "markdown",
   "metadata": {
    "id": "GTDNdST8FtSu"
   },
   "source": [
    "From the above graph we can conclude that there is maximum players of the age 24 followed by ages 23, 28 and 26. There are more than 1400 players of 24 years of age."
   ]
  },
  {
   "cell_type": "code",
   "execution_count": 63,
   "metadata": {
    "id": "b0MhGAvbFtSv"
   },
   "outputs": [],
   "source": [
    "import jovian"
   ]
  },
  {
   "cell_type": "code",
   "execution_count": null,
   "metadata": {
    "id": "R6pKUh-9FtSy",
    "outputId": "c985caf5-97a0-4572-a5de-c00aed290c4a"
   },
   "outputs": [
    {
     "data": {
      "application/javascript": [
       "window.require && require([\"base/js/namespace\"],function(Jupyter){Jupyter.notebook.save_checkpoint()})"
      ],
      "text/plain": [
       "<IPython.core.display.Javascript object>"
      ]
     },
     "metadata": {},
     "output_type": "display_data"
    },
    {
     "name": "stdout",
     "output_type": "stream",
     "text": [
      "[jovian] Attempting to save notebook..\r\n"
     ]
    }
   ],
   "source": [
    "jovian.commit()"
   ]
  },
  {
   "cell_type": "markdown",
   "metadata": {
    "id": "Jdv1hTFTFtS0"
   },
   "source": [
    "## Inferences and Conclusion\n"
   ]
  },
  {
   "cell_type": "markdown",
   "metadata": {
    "id": "zmVgs18kFtS0"
   },
   "source": [
    "We've drawn many interesting conclusions from this dataset and analysis. Some of them are - \n",
    "\n",
    "* There are 17981 players in Fifa 21.\n",
    "* There are 162 different countries from where there are players in Fifa 21. Out of which there are 3 countries with more than 1000 players.\n",
    "* There are 1496 players from England, 1138 players from Germany and 1055 players from Spain.\n",
    "* There are around 713 clubs with each club having around 30 players.\n",
    "* Maximum number of players falls in the age group 25 to 30.\n",
    "* More than 1400 players are of the age 24.\n",
    "* Highest overall rating in Fifa 21 is 94. Lionel Messi is the highest rated player with 94 overall rating."
   ]
  },
  {
   "cell_type": "code",
   "execution_count": 65,
   "metadata": {
    "id": "77ilqBk1FtS0"
   },
   "outputs": [],
   "source": [
    "import jovian"
   ]
  },
  {
   "cell_type": "code",
   "execution_count": 66,
   "metadata": {
    "colab": {
     "base_uri": "https://localhost:8080/",
     "height": 90
    },
    "executionInfo": {
     "elapsed": 2949,
     "status": "ok",
     "timestamp": 1601588732049,
     "user": {
      "displayName": "Hritwik",
      "photoUrl": "",
      "userId": "09304721696602939296"
     },
     "user_tz": -330
    },
    "id": "37gYblnvFtS3",
    "outputId": "adea6e4b-d06d-4c19-bf09-e0dc03ff7b5d"
   },
   "outputs": [
    {
     "data": {
      "application/javascript": [
       "window.require && require([\"base/js/namespace\"],function(Jupyter){Jupyter.notebook.save_checkpoint()})"
      ],
      "text/plain": [
       "<IPython.core.display.Javascript object>"
      ]
     },
     "metadata": {},
     "output_type": "display_data"
    },
    {
     "name": "stdout",
     "output_type": "stream",
     "text": [
      "[jovian] Attempting to save notebook..\n",
      "[jovian] Updating notebook \"sayakpm3/fifa-21-players-data-analysis-in-python1\" on https://jovian.ml/\n",
      "[jovian] Uploading notebook..\n",
      "[jovian] Capturing environment..\n",
      "[jovian] Committed successfully! https://jovian.ml/sayakpm3/fifa-21-players-data-analysis-in-python1\n"
     ]
    },
    {
     "data": {
      "text/plain": [
       "'https://jovian.ml/sayakpm3/fifa-21-players-data-analysis-in-python1'"
      ]
     },
     "execution_count": 66,
     "metadata": {},
     "output_type": "execute_result"
    }
   ],
   "source": [
    "jovian.commit(project='fifa_21_players_data_analysis_in_python1')"
   ]
  },
  {
   "cell_type": "markdown",
   "metadata": {
    "id": "sJZCGaZDFtS6"
   },
   "source": [
    "## References and Future Work\n"
   ]
  },
  {
   "cell_type": "markdown",
   "metadata": {
    "id": "syLn04EaFtS7"
   },
   "source": [
    "From this dataset of Fifa 21 we can further do many researches and analysis.Here are some ideas for further exploration:\n",
    "\n",
    "*  We can analyze more on the countries having the maximum players. As to what is the favourite sports in that country. The population of the country. The sporting infrastructure and facilities that favours football. The history of the country with football.\n",
    "* We can find out the teams which have the most players having overall rating of more than 90, more than 80 and so on. We can find out how many players with more than 90 rating are there in the top teams of the world like Real Madrid, Barcelona, Juventus, PSG, Man United, Man City, etc.\n",
    "* We can also analyze the data of top players individually. Like we can analyze the data of Lionel Messi and Cristiano Ronaldo to understand why they are rated so much higher than the others. We can find out there achievements and records, which can help us understand why they are so highly rated. Although for that purpose we will require different dataset with data of that individual player.\n",
    "\n",
    "\n",
    "References:\n",
    "\n",
    "* Pandas user guide: https://pandas.pydata.org/docs/user_guide/index.html\n",
    "* Matplotlib user guide: https://matplotlib.org/3.3.1/users/index.html\n",
    "* Seaborn user guide & tutorial: https://seaborn.pydata.org/tutorial.html"
   ]
  },
  {
   "cell_type": "code",
   "execution_count": 67,
   "metadata": {
    "id": "lcXm97R2FtS7"
   },
   "outputs": [],
   "source": [
    "import jovian"
   ]
  },
  {
   "cell_type": "code",
   "execution_count": 68,
   "metadata": {
    "colab": {
     "base_uri": "https://localhost:8080/",
     "height": 90
    },
    "executionInfo": {
     "elapsed": 3767,
     "status": "ok",
     "timestamp": 1601589603080,
     "user": {
      "displayName": "Hritwik",
      "photoUrl": "",
      "userId": "09304721696602939296"
     },
     "user_tz": -330
    },
    "id": "4F1qGBAKFtS9",
    "outputId": "07010c3c-cd43-4f31-d742-aeb8522846dc"
   },
   "outputs": [
    {
     "data": {
      "application/javascript": [
       "window.require && require([\"base/js/namespace\"],function(Jupyter){Jupyter.notebook.save_checkpoint()})"
      ],
      "text/plain": [
       "<IPython.core.display.Javascript object>"
      ]
     },
     "metadata": {},
     "output_type": "display_data"
    },
    {
     "name": "stdout",
     "output_type": "stream",
     "text": [
      "[jovian] Attempting to save notebook..\n",
      "[jovian] Updating notebook \"sayakpm3/fifa-21-players-data-analysis-in-python1\" on https://jovian.ml/\n",
      "[jovian] Uploading notebook..\n",
      "[jovian] Capturing environment..\n",
      "[jovian] Committed successfully! https://jovian.ml/sayakpm3/fifa-21-players-data-analysis-in-python1\n"
     ]
    },
    {
     "data": {
      "text/plain": [
       "'https://jovian.ml/sayakpm3/fifa-21-players-data-analysis-in-python1'"
      ]
     },
     "execution_count": 68,
     "metadata": {},
     "output_type": "execute_result"
    }
   ],
   "source": [
    "jovian.commit(project='fifa_21_players_data_analysis_in_python1')"
   ]
  },
  {
   "cell_type": "code",
   "execution_count": null,
   "metadata": {},
   "outputs": [],
   "source": []
  }
 ],
 "metadata": {
  "colab": {
   "name": "zerotopandas-course-project.ipynb",
   "provenance": []
  },
  "language_info": {
   "codemirror_mode": {
    "name": "ipython",
    "version": 3
   },
   "file_extension": ".py",
   "mimetype": "text/x-python",
   "name": "python",
   "nbconvert_exporter": "python",
   "pygments_lexer": "ipython3",
   "version": "3.8.3"
  }
 },
 "nbformat": 4,
 "nbformat_minor": 1
}